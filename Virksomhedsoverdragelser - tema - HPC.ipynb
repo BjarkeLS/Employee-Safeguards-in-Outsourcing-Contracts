{
 "cells": [
  {
   "cell_type": "code",
   "execution_count": 1,
   "id": "faa7fd42",
   "metadata": {},
   "outputs": [
    {
     "name": "stdout",
     "output_type": "stream",
     "text": [
      "Collecting openpyxl\n",
      "  Downloading openpyxl-3.0.10-py2.py3-none-any.whl (242 kB)\n",
      "\u001b[2K     \u001b[90m━━━━━━━━━━━━━━━━━━━━━━━━━━━━━━━━━━━━━━━\u001b[0m \u001b[32m242.1/242.1 kB\u001b[0m \u001b[31m4.0 MB/s\u001b[0m eta \u001b[36m0:00:00\u001b[0ma \u001b[36m0:00:01\u001b[0m\n",
      "\u001b[?25hCollecting et-xmlfile\n",
      "  Downloading et_xmlfile-1.1.0-py3-none-any.whl (4.7 kB)\n",
      "Installing collected packages: et-xmlfile, openpyxl\n",
      "Successfully installed et-xmlfile-1.1.0 openpyxl-3.0.10\n",
      "Note: you may need to restart the kernel to use updated packages.\n"
     ]
    }
   ],
   "source": [
    "pip install openpyxl"
   ]
  },
  {
   "cell_type": "code",
   "execution_count": 2,
   "id": "f8b7e5c6",
   "metadata": {},
   "outputs": [
    {
     "name": "stdout",
     "output_type": "stream",
     "text": [
      "Collecting lemmy\n",
      "  Downloading lemmy-2.1.0-py2.py3-none-any.whl (1.1 MB)\n",
      "\u001b[2K     \u001b[90m━━━━━━━━━━━━━━━━━━━━━━━━━━━━━━━━━━━━━━━━\u001b[0m \u001b[32m1.1/1.1 MB\u001b[0m \u001b[31m12.2 MB/s\u001b[0m eta \u001b[36m0:00:00\u001b[0m00:01\u001b[0m00:01\u001b[0m\n",
      "\u001b[?25hInstalling collected packages: lemmy\n",
      "Successfully installed lemmy-2.1.0\n",
      "Note: you may need to restart the kernel to use updated packages.\n"
     ]
    }
   ],
   "source": [
    "pip install lemmy"
   ]
  },
  {
   "cell_type": "code",
   "execution_count": 3,
   "id": "cadb60a0",
   "metadata": {},
   "outputs": [
    {
     "name": "stdout",
     "output_type": "stream",
     "text": [
      "Collecting nltk\n",
      "  Downloading nltk-3.7-py3-none-any.whl (1.5 MB)\n",
      "\u001b[2K     \u001b[90m━━━━━━━━━━━━━━━━━━━━━━━━━━━━━━━━━━━━━━━━\u001b[0m \u001b[32m1.5/1.5 MB\u001b[0m \u001b[31m6.2 MB/s\u001b[0m eta \u001b[36m0:00:00\u001b[0m00:01\u001b[0m00:01\u001b[0m\n",
      "\u001b[?25hRequirement already satisfied: click in /opt/conda/lib/python3.9/site-packages (from nltk) (8.1.3)\n",
      "Collecting regex>=2021.8.3\n",
      "  Downloading regex-2022.8.17-cp39-cp39-manylinux_2_17_x86_64.manylinux2014_x86_64.whl (765 kB)\n",
      "\u001b[2K     \u001b[90m━━━━━━━━━━━━━━━━━━━━━━━━━━━━━━━━━━━━━━━\u001b[0m \u001b[32m765.9/765.9 kB\u001b[0m \u001b[31m3.7 MB/s\u001b[0m eta \u001b[36m0:00:00\u001b[0m00:01\u001b[0m\n",
      "\u001b[?25hCollecting joblib\n",
      "  Downloading joblib-1.1.0-py2.py3-none-any.whl (306 kB)\n",
      "\u001b[2K     \u001b[90m━━━━━━━━━━━━━━━━━━━━━━━━━━━━━━━━━━━━━━\u001b[0m \u001b[32m307.0/307.0 kB\u001b[0m \u001b[31m11.1 MB/s\u001b[0m eta \u001b[36m0:00:00\u001b[0m\n",
      "\u001b[?25hRequirement already satisfied: tqdm in /opt/conda/lib/python3.9/site-packages (from nltk) (4.64.0)\n",
      "Installing collected packages: regex, joblib, nltk\n",
      "Successfully installed joblib-1.1.0 nltk-3.7 regex-2022.8.17\n",
      "Note: you may need to restart the kernel to use updated packages.\n"
     ]
    }
   ],
   "source": [
    "pip install nltk"
   ]
  },
  {
   "cell_type": "code",
   "execution_count": 4,
   "id": "0c2550df-9387-4567-86f9-68641aac0c53",
   "metadata": {
    "execution": {
     "iopub.execute_input": "2022-08-30T10:38:12.454704Z",
     "iopub.status.busy": "2022-08-30T10:38:12.453993Z",
     "iopub.status.idle": "2022-08-30T10:38:36.889560Z",
     "shell.execute_reply": "2022-08-30T10:38:36.887260Z",
     "shell.execute_reply.started": "2022-08-30T10:38:12.454646Z"
    }
   },
   "outputs": [
    {
     "name": "stdout",
     "output_type": "stream",
     "text": [
      "Collecting textract\n",
      "  Downloading textract-1.6.5-py3-none-any.whl (23 kB)\n",
      "Collecting six~=1.12.0\n",
      "  Downloading six-1.12.0-py2.py3-none-any.whl (10 kB)\n",
      "Collecting SpeechRecognition~=3.8.1\n",
      "  Downloading SpeechRecognition-3.8.1-py2.py3-none-any.whl (32.8 MB)\n",
      "\u001b[2K     \u001b[90m━━━━━━━━━━━━━━━━━━━━━━━━━━━━━━━━━━━━━━━━\u001b[0m \u001b[32m32.8/32.8 MB\u001b[0m \u001b[31m25.3 MB/s\u001b[0m eta \u001b[36m0:00:00\u001b[0m00:01\u001b[0m00:01\u001b[0m\n",
      "\u001b[?25hCollecting docx2txt~=0.8\n",
      "  Downloading docx2txt-0.8.tar.gz (2.8 kB)\n",
      "  Preparing metadata (setup.py) ... \u001b[?25ldone\n",
      "\u001b[?25hCollecting python-pptx~=0.6.18\n",
      "  Downloading python-pptx-0.6.21.tar.gz (10.1 MB)\n",
      "\u001b[2K     \u001b[90m━━━━━━━━━━━━━━━━━━━━━━━━━━━━━━━━━━━━━━━━\u001b[0m \u001b[32m10.1/10.1 MB\u001b[0m \u001b[31m51.6 MB/s\u001b[0m eta \u001b[36m0:00:00\u001b[0m00:01\u001b[0m00:01\u001b[0m\n",
      "\u001b[?25h  Preparing metadata (setup.py) ... \u001b[?25ldone\n",
      "\u001b[?25hCollecting chardet==3.*\n",
      "  Downloading chardet-3.0.4-py2.py3-none-any.whl (133 kB)\n",
      "\u001b[2K     \u001b[90m━━━━━━━━━━━━━━━━━━━━━━━━━━━━━━━━━━━━━━━\u001b[0m \u001b[32m133.4/133.4 kB\u001b[0m \u001b[31m6.1 MB/s\u001b[0m eta \u001b[36m0:00:00\u001b[0m\n",
      "\u001b[?25hCollecting xlrd~=1.2.0\n",
      "  Downloading xlrd-1.2.0-py2.py3-none-any.whl (103 kB)\n",
      "\u001b[2K     \u001b[90m━━━━━━━━━━━━━━━━━━━━━━━━━━━━━━━━━━━━━━━\u001b[0m \u001b[32m103.3/103.3 kB\u001b[0m \u001b[31m6.7 MB/s\u001b[0m eta \u001b[36m0:00:00\u001b[0m\n",
      "\u001b[?25hCollecting beautifulsoup4~=4.8.0\n",
      "  Downloading beautifulsoup4-4.8.2-py3-none-any.whl (106 kB)\n",
      "\u001b[2K     \u001b[90m━━━━━━━━━━━━━━━━━━━━━━━━━━━━━━━━━━━━━━━\u001b[0m \u001b[32m106.9/106.9 kB\u001b[0m \u001b[31m5.0 MB/s\u001b[0m eta \u001b[36m0:00:00\u001b[0m\n",
      "\u001b[?25hCollecting extract-msg<=0.29.*\n",
      "  Downloading extract_msg-0.28.7-py2.py3-none-any.whl (69 kB)\n",
      "\u001b[2K     \u001b[90m━━━━━━━━━━━━━━━━━━━━━━━━━━━━━━━━━━━━━━━━\u001b[0m \u001b[32m69.0/69.0 kB\u001b[0m \u001b[31m3.2 MB/s\u001b[0m eta \u001b[36m0:00:00\u001b[0m\n",
      "\u001b[?25hCollecting argcomplete~=1.10.0\n",
      "  Downloading argcomplete-1.10.3-py2.py3-none-any.whl (36 kB)\n",
      "Collecting pdfminer.six==20191110\n",
      "  Downloading pdfminer.six-20191110-py2.py3-none-any.whl (5.6 MB)\n",
      "\u001b[2K     \u001b[90m━━━━━━━━━━━━━━━━━━━━━━━━━━━━━━━━━━━━━━━━\u001b[0m \u001b[32m5.6/5.6 MB\u001b[0m \u001b[31m42.5 MB/s\u001b[0m eta \u001b[36m0:00:00\u001b[0m:00:01\u001b[0m\n",
      "\u001b[?25hCollecting pycryptodome\n",
      "  Downloading pycryptodome-3.15.0-cp35-abi3-manylinux2010_x86_64.whl (2.3 MB)\n",
      "\u001b[2K     \u001b[90m━━━━━━━━━━━━━━━━━━━━━━━━━━━━━━━━━━━━━━━━\u001b[0m \u001b[32m2.3/2.3 MB\u001b[0m \u001b[31m26.3 MB/s\u001b[0m eta \u001b[36m0:00:00\u001b[0m:00:01\u001b[0m\n",
      "\u001b[?25hCollecting sortedcontainers\n",
      "  Downloading sortedcontainers-2.4.0-py2.py3-none-any.whl (29 kB)\n",
      "Requirement already satisfied: soupsieve>=1.2 in /opt/conda/lib/python3.9/site-packages (from beautifulsoup4~=4.8.0->textract) (2.3.1)\n",
      "Collecting olefile>=0.46\n",
      "  Downloading olefile-0.46.zip (112 kB)\n",
      "\u001b[2K     \u001b[90m━━━━━━━━━━━━━━━━━━━━━━━━━━━━━━━━━━━━━━━\u001b[0m \u001b[32m112.2/112.2 kB\u001b[0m \u001b[31m4.2 MB/s\u001b[0m eta \u001b[36m0:00:00\u001b[0m\n",
      "\u001b[?25h  Preparing metadata (setup.py) ... \u001b[?25ldone\n",
      "\u001b[?25hCollecting ebcdic>=1.1.1\n",
      "  Downloading ebcdic-1.1.1-py2.py3-none-any.whl (128 kB)\n",
      "\u001b[2K     \u001b[90m━━━━━━━━━━━━━━━━━━━━━━━━━━━━━━━━━━━━━━━\u001b[0m \u001b[32m128.5/128.5 kB\u001b[0m \u001b[31m5.5 MB/s\u001b[0m eta \u001b[36m0:00:00\u001b[0m\n",
      "\u001b[?25hCollecting compressed-rtf>=1.0.6\n",
      "  Downloading compressed_rtf-1.0.6.tar.gz (5.8 kB)\n",
      "  Preparing metadata (setup.py) ... \u001b[?25ldone\n",
      "\u001b[?25hCollecting tzlocal>=2.1\n",
      "  Downloading tzlocal-4.2-py3-none-any.whl (19 kB)\n",
      "Collecting imapclient==2.1.0\n",
      "  Downloading IMAPClient-2.1.0-py2.py3-none-any.whl (73 kB)\n",
      "\u001b[2K     \u001b[90m━━━━━━━━━━━━━━━━━━━━━━━━━━━━━━━━━━━━━━━━\u001b[0m \u001b[32m74.0/74.0 kB\u001b[0m \u001b[31m3.7 MB/s\u001b[0m eta \u001b[36m0:00:00\u001b[0m\n",
      "\u001b[?25hRequirement already satisfied: lxml>=3.1.0 in /opt/conda/lib/python3.9/site-packages (from python-pptx~=0.6.18->textract) (4.9.0)\n",
      "Requirement already satisfied: Pillow>=3.3.2 in /opt/conda/lib/python3.9/site-packages (from python-pptx~=0.6.18->textract) (9.1.1)\n",
      "Collecting XlsxWriter>=0.5.7\n",
      "  Downloading XlsxWriter-3.0.3-py3-none-any.whl (149 kB)\n",
      "\u001b[2K     \u001b[90m━━━━━━━━━━━━━━━━━━━━━━━━━━━━━━━━━━━━━━━\u001b[0m \u001b[32m150.0/150.0 kB\u001b[0m \u001b[31m4.5 MB/s\u001b[0m eta \u001b[36m0:00:00\u001b[0m\n",
      "\u001b[?25hCollecting pytz-deprecation-shim\n",
      "  Downloading pytz_deprecation_shim-0.1.0.post0-py2.py3-none-any.whl (15 kB)\n",
      "Collecting tzdata\n",
      "  Downloading tzdata-2022.2-py2.py3-none-any.whl (336 kB)\n",
      "\u001b[2K     \u001b[90m━━━━━━━━━━━━━━━━━━━━━━━━━━━━━━━━━━━━━━━\u001b[0m \u001b[32m336.4/336.4 kB\u001b[0m \u001b[31m3.2 MB/s\u001b[0m eta \u001b[36m0:00:00\u001b[0m00:01\u001b[0m\n",
      "\u001b[?25hBuilding wheels for collected packages: docx2txt, python-pptx, compressed-rtf, olefile\n",
      "  Building wheel for docx2txt (setup.py) ... \u001b[?25ldone\n",
      "\u001b[?25h  Created wheel for docx2txt: filename=docx2txt-0.8-py3-none-any.whl size=3960 sha256=dc8af69c3ec598d8a476f95ff5e3b0e38eeb5769fb3bda71dcd0179ea0dcff69\n",
      "  Stored in directory: /home/ucloud/.cache/pip/wheels/40/75/01/e6c444034338bde9c7947d3467807f889123465c2371e77418\n",
      "  Building wheel for python-pptx (setup.py) ... \u001b[?25ldone\n",
      "\u001b[?25h  Created wheel for python-pptx: filename=python_pptx-0.6.21-py3-none-any.whl size=470935 sha256=ef3709361d71f92803c59719b7bd2a429bb9ed0f8ce97e8d43ed75ab3594ebdc\n",
      "  Stored in directory: /home/ucloud/.cache/pip/wheels/0e/4a/ed/9653bc799915f52dce3f04d14946fbd85cce9c3cdedc9cfa71\n",
      "  Building wheel for compressed-rtf (setup.py) ... \u001b[?25ldone\n",
      "\u001b[?25h  Created wheel for compressed-rtf: filename=compressed_rtf-1.0.6-py3-none-any.whl size=6186 sha256=c8928f2e0e9169ea03e4338ff7872d6c42c6b462bb40b73f250528a32fc91ed3\n",
      "  Stored in directory: /home/ucloud/.cache/pip/wheels/e4/67/e4/ba2159853bdd0fe99330aa1e384915108143a5370686ea446f\n",
      "  Building wheel for olefile (setup.py) ... \u001b[?25ldone\n",
      "\u001b[?25h  Created wheel for olefile: filename=olefile-0.46-py2.py3-none-any.whl size=35415 sha256=693151b6f16c0017de36f1f21fdef86a40f7295b8407a839d68fa8f0dad4e569\n",
      "  Stored in directory: /home/ucloud/.cache/pip/wheels/64/b8/ba/ebba30390fbd997074f35e42a842ce3fd933213cac8753414e\n",
      "Successfully built docx2txt python-pptx compressed-rtf olefile\n",
      "Installing collected packages: SpeechRecognition, sortedcontainers, ebcdic, docx2txt, compressed-rtf, chardet, argcomplete, XlsxWriter, xlrd, tzdata, six, pycryptodome, olefile, beautifulsoup4, pytz-deprecation-shim, python-pptx, pdfminer.six, imapclient, tzlocal, extract-msg, textract\n",
      "  Attempting uninstall: six\n",
      "    Found existing installation: six 1.16.0\n",
      "    Uninstalling six-1.16.0:\n",
      "      Successfully uninstalled six-1.16.0\n",
      "  Attempting uninstall: beautifulsoup4\n",
      "    Found existing installation: beautifulsoup4 4.11.1\n",
      "    Uninstalling beautifulsoup4-4.11.1:\n",
      "      Successfully uninstalled beautifulsoup4-4.11.1\n",
      "Successfully installed SpeechRecognition-3.8.1 XlsxWriter-3.0.3 argcomplete-1.10.3 beautifulsoup4-4.8.2 chardet-3.0.4 compressed-rtf-1.0.6 docx2txt-0.8 ebcdic-1.1.1 extract-msg-0.28.7 imapclient-2.1.0 olefile-0.46 pdfminer.six-20191110 pycryptodome-3.15.0 python-pptx-0.6.21 pytz-deprecation-shim-0.1.0.post0 six-1.12.0 sortedcontainers-2.4.0 textract-1.6.5 tzdata-2022.2 tzlocal-4.2 xlrd-1.2.0\n",
      "Note: you may need to restart the kernel to use updated packages.\n"
     ]
    }
   ],
   "source": [
    "pip install textract"
   ]
  },
  {
   "cell_type": "code",
   "execution_count": 5,
   "id": "96a0c0b8-2f53-439d-9390-0801fa8fb0e3",
   "metadata": {
    "execution": {
     "iopub.execute_input": "2022-08-30T10:38:36.905406Z",
     "iopub.status.busy": "2022-08-30T10:38:36.905195Z",
     "iopub.status.idle": "2022-08-30T10:38:46.535078Z",
     "shell.execute_reply": "2022-08-30T10:38:46.533005Z",
     "shell.execute_reply.started": "2022-08-30T10:38:36.905387Z"
    }
   },
   "outputs": [
    {
     "name": "stdout",
     "output_type": "stream",
     "text": [
      "Collecting pandas\n",
      "  Downloading pandas-1.4.3-cp39-cp39-manylinux_2_17_x86_64.manylinux2014_x86_64.whl (11.7 MB)\n",
      "\u001b[2K     \u001b[90m━━━━━━━━━━━━━━━━━━━━━━━━━━━━━━━━━━━━━━━━\u001b[0m \u001b[32m11.7/11.7 MB\u001b[0m \u001b[31m38.1 MB/s\u001b[0m eta \u001b[36m0:00:00\u001b[0m00:01\u001b[0m0:01\u001b[0m\n",
      "\u001b[?25hRequirement already satisfied: pytz>=2020.1 in /opt/conda/lib/python3.9/site-packages (from pandas) (2022.1)\n",
      "Requirement already satisfied: numpy>=1.18.5 in /opt/conda/lib/python3.9/site-packages (from pandas) (1.22.4)\n",
      "Requirement already satisfied: python-dateutil>=2.8.1 in /opt/conda/lib/python3.9/site-packages (from pandas) (2.8.2)\n",
      "Requirement already satisfied: six>=1.5 in /opt/conda/lib/python3.9/site-packages (from python-dateutil>=2.8.1->pandas) (1.12.0)\n",
      "Installing collected packages: pandas\n",
      "Successfully installed pandas-1.4.3\n",
      "Note: you may need to restart the kernel to use updated packages.\n"
     ]
    }
   ],
   "source": [
    "pip install pandas"
   ]
  },
  {
   "cell_type": "code",
   "execution_count": 1,
   "id": "6208ab73",
   "metadata": {
    "execution": {
     "iopub.execute_input": "2022-08-30T10:38:48.728794Z",
     "iopub.status.busy": "2022-08-30T10:38:48.728145Z",
     "iopub.status.idle": "2022-08-30T10:38:50.533206Z",
     "shell.execute_reply": "2022-08-30T10:38:50.532217Z",
     "shell.execute_reply.started": "2022-08-30T10:38:48.728740Z"
    }
   },
   "outputs": [
    {
     "name": "stderr",
     "output_type": "stream",
     "text": [
      "[nltk_data] Downloading package punkt to\n",
      "[nltk_data]     C:\\Users\\blunds\\AppData\\Roaming\\nltk_data...\n",
      "[nltk_data]   Package punkt is already up-to-date!\n"
     ]
    }
   ],
   "source": [
    "import nltk\n",
    "import nltk\n",
    "nltk.download('punkt')\n",
    "import re \n",
    "from nltk.tokenize import sent_tokenize\n",
    "from nltk.tokenize import word_tokenize\n",
    "import pandas as pd\n",
    "\n",
    "import os\n",
    "\n",
    "import json\n",
    "\n",
    "from nltk.corpus import stopwords\n",
    "import lemmy"
   ]
  },
  {
   "cell_type": "code",
   "execution_count": 7,
   "id": "707f4ebf",
   "metadata": {
    "execution": {
     "iopub.execute_input": "2022-08-30T10:38:55.787832Z",
     "iopub.status.busy": "2022-08-30T10:38:55.787156Z",
     "iopub.status.idle": "2022-08-30T10:39:27.861330Z",
     "shell.execute_reply": "2022-08-30T10:39:27.859845Z",
     "shell.execute_reply.started": "2022-08-30T10:38:55.787776Z"
    }
   },
   "outputs": [],
   "source": [
    "corpus = pd.read_pickle(\"virksomhedsoverdragelse_samlet.pkl\")"
   ]
  },
  {
   "cell_type": "markdown",
   "id": "0ec7e8b9",
   "metadata": {},
   "source": [
    "## Fjern \"-\", \"_\" og \",\" fra filename"
   ]
  },
  {
   "cell_type": "code",
   "execution_count": 2,
   "id": "b36d2e9d",
   "metadata": {},
   "outputs": [],
   "source": [
    "def cleanfilename(filename):\n",
    "    filename = re.sub('[-_,]', '', filename) # fjerner specielle tegn og symboler\n",
    "    filename = re.sub('[.]', ' ', filename) # lav punktum til mellemrum\n",
    "    return filename"
   ]
  },
  {
   "cell_type": "code",
   "execution_count": null,
   "id": "610c1c4a",
   "metadata": {},
   "outputs": [],
   "source": [
    "corpus['filename'] = corpus.filename.apply(lambda x : cleanfilename(x))\n",
    "corpus.head(20)"
   ]
  },
  {
   "cell_type": "markdown",
   "id": "53df3bc7",
   "metadata": {},
   "source": [
    "## Sorter til udbud med virksomhedsoverdragelse"
   ]
  },
  {
   "cell_type": "code",
   "execution_count": 5,
   "id": "f4a61e60",
   "metadata": {},
   "outputs": [],
   "source": [
    "def extract_filter(filename):\n",
    "    FileObj = open(filename, 'rb')\n",
    "    read = pd.read_excel(filename, engine='openpyxl')\n",
    "    read = read.to_string(index=False)\n",
    "    return (read)"
   ]
  },
  {
   "cell_type": "code",
   "execution_count": 6,
   "id": "66b7df5d",
   "metadata": {},
   "outputs": [],
   "source": [
    "filter_doc = extract_filter (r'doc_id virksomhedsoverdragelser.xlsx')"
   ]
  },
  {
   "cell_type": "code",
   "execution_count": 7,
   "id": "4f077d20",
   "metadata": {},
   "outputs": [],
   "source": [
    "filter_doc = filter_doc.split(\"\\n\")"
   ]
  },
  {
   "cell_type": "code",
   "execution_count": 8,
   "id": "acb9d058",
   "metadata": {},
   "outputs": [],
   "source": [
    "filter_doc = [s.replace(\"-\", \"\")for s in filter_doc]\n",
    "filter_doc = [s.replace(\"_\", \"\")for s in filter_doc]"
   ]
  },
  {
   "cell_type": "code",
   "execution_count": 9,
   "id": "198d78cb",
   "metadata": {},
   "outputs": [
    {
     "data": {
      "text/plain": [
       "['0207932022',\n",
       " '0223502022',\n",
       " '0223502022',\n",
       " '0223502022',\n",
       " '0277072022',\n",
       " '0277072022',\n",
       " '0277072022',\n",
       " '0294902022',\n",
       " '0294902022',\n",
       " '0294902022',\n",
       " '0294902022',\n",
       " '0341402022',\n",
       " '0341402022',\n",
       " '0341422022',\n",
       " '0341422022',\n",
       " '0437222022',\n",
       " '0437222022',\n",
       " '0559332022',\n",
       " '0590312022',\n",
       " '0590312022',\n",
       " '0590312022',\n",
       " '0590312022',\n",
       " '0624692022',\n",
       " '0624692022',\n",
       " '0624692022',\n",
       " '0624692022',\n",
       " '0909552022',\n",
       " '0909552022',\n",
       " '1066072022',\n",
       " '1066072022',\n",
       " '1066072022',\n",
       " '1066072022',\n",
       " '1132032022',\n",
       " '1163682022',\n",
       " '1163682022',\n",
       " '1306722022',\n",
       " '1308272022',\n",
       " '1308272022',\n",
       " '1308272022',\n",
       " '1308272022',\n",
       " '1564392022',\n",
       " '1564392022',\n",
       " '1569882022',\n",
       " '1569882022',\n",
       " '1569882022',\n",
       " '1569882022',\n",
       " '1569882022',\n",
       " '1569882022',\n",
       " '1636222022',\n",
       " '1713422022',\n",
       " '1728122022',\n",
       " '1728122022',\n",
       " '1728122022',\n",
       " '1775282022',\n",
       " '1775282022',\n",
       " '1860472022',\n",
       " '1866482022',\n",
       " '1958412022',\n",
       " '1958412022',\n",
       " '2055522022',\n",
       " '2055522022',\n",
       " '2055522022',\n",
       " '2225432022',\n",
       " '2225432022',\n",
       " '2312922022',\n",
       " '2312922022',\n",
       " '2312922022',\n",
       " '2516552022',\n",
       " '2555582022',\n",
       " '2555582022',\n",
       " '2555582022',\n",
       " '2555582022',\n",
       " '2574792022',\n",
       " '2574792022',\n",
       " '2574792022',\n",
       " '2574792022',\n",
       " '2574792022',\n",
       " '2574792022',\n",
       " '2574792022',\n",
       " '2625252022',\n",
       " '2852212022',\n",
       " '2852212022',\n",
       " '2895542022',\n",
       " '2895542022',\n",
       " '2895542022',\n",
       " '2895542022',\n",
       " '2895562022',\n",
       " '2937252022',\n",
       " '2937252022',\n",
       " '2992912022',\n",
       " '2992912022',\n",
       " '3091962022',\n",
       " '3134052022',\n",
       " '3190212022',\n",
       " '3190212022',\n",
       " '3190212022',\n",
       " '3190212022',\n",
       " '3316122022',\n",
       " '3316122022',\n",
       " '3316122022',\n",
       " '3364612022',\n",
       " '3364612022',\n",
       " '3424422022',\n",
       " '3424422022',\n",
       " '3424422022',\n",
       " '3424422022',\n",
       " '3472572022',\n",
       " '3472572022',\n",
       " '3472572022',\n",
       " '3483582022',\n",
       " '3483582022',\n",
       " '3569292022',\n",
       " '3569292022',\n",
       " '3569292022',\n",
       " '3591762022',\n",
       " '3661552022',\n",
       " '3661552022',\n",
       " '3748052022',\n",
       " '3748052022',\n",
       " '3748052022',\n",
       " 'cb137d67839548e0844d34633f702c7d',\n",
       " 'cb137d67839548e0844d34633f702c7d',\n",
       " '1292862021',\n",
       " '1292862021',\n",
       " '1394712021',\n",
       " '1394712021',\n",
       " '1394712021',\n",
       " '1394732021',\n",
       " '1394732021',\n",
       " '1394732021',\n",
       " '1395042021',\n",
       " '1395042021',\n",
       " '1398932021',\n",
       " '1398932021',\n",
       " '1525942021',\n",
       " '1525942021',\n",
       " '1525942021',\n",
       " '1599612021',\n",
       " '1599612021',\n",
       " '1599612021',\n",
       " '1600362021',\n",
       " '1683832021',\n",
       " '1756342021',\n",
       " '1793392021',\n",
       " '1793392021',\n",
       " '1793392021',\n",
       " '1793392021',\n",
       " '1885052021',\n",
       " '1885052021',\n",
       " '1885052021',\n",
       " '1885052021',\n",
       " '1885052021',\n",
       " '1885052021',\n",
       " '1885052021',\n",
       " '1885052021',\n",
       " '1885052021',\n",
       " '1885052021',\n",
       " '1918722021',\n",
       " '1918722021',\n",
       " '1918722021',\n",
       " '1918722021',\n",
       " '1984682021',\n",
       " '2025182021',\n",
       " '2025182021',\n",
       " '2025182021',\n",
       " '2025182021',\n",
       " '2095262021',\n",
       " '2181472021',\n",
       " '2181472021',\n",
       " '2181472021',\n",
       " '2436972021',\n",
       " '2436972021',\n",
       " '2447932021',\n",
       " '0100722021',\n",
       " '0126922021',\n",
       " '0126922021',\n",
       " '2595112021',\n",
       " '2595112021',\n",
       " '2595112021',\n",
       " '2616262021',\n",
       " '2616262021',\n",
       " '2696212021',\n",
       " '2696212021',\n",
       " '2857032021',\n",
       " '2858442021',\n",
       " '2879432021',\n",
       " '2879432021',\n",
       " '2902222021',\n",
       " '2902222021',\n",
       " '2937452021',\n",
       " '2937452021',\n",
       " '2937452021',\n",
       " '2975012021',\n",
       " '2975012021',\n",
       " '2975012021',\n",
       " '3080662021',\n",
       " '3080662021',\n",
       " '3235472021',\n",
       " '3246102021',\n",
       " '3246102021',\n",
       " '3259972021',\n",
       " '361e2a13928a4b619e125ebfd4b8aa2c',\n",
       " '361e2a13928a4b619e125ebfd4b8aa2c',\n",
       " '3672982021',\n",
       " '3672982021',\n",
       " '3672982021',\n",
       " '0251502021',\n",
       " '0251502021',\n",
       " '0251502021',\n",
       " '0291232021',\n",
       " '0291232021',\n",
       " '0291232021',\n",
       " '0291232021',\n",
       " '0343032021',\n",
       " '0343032021',\n",
       " '0343032021',\n",
       " '4010612021',\n",
       " '4240022021',\n",
       " '4240022021',\n",
       " '4240022021',\n",
       " '4240022021',\n",
       " '4240022021',\n",
       " '4701882021',\n",
       " '4701882021',\n",
       " '4701882021',\n",
       " '4701882021',\n",
       " '4701882021',\n",
       " '4763892021',\n",
       " '4763892021',\n",
       " '4763892021',\n",
       " '4763892021',\n",
       " '4763892021',\n",
       " '4763892021',\n",
       " '4847732021',\n",
       " '4847732021',\n",
       " '4851152021',\n",
       " '4851152021',\n",
       " '4917922021',\n",
       " '4917922021',\n",
       " '4917922021',\n",
       " '4917922021',\n",
       " '0420632021',\n",
       " '5066122021',\n",
       " '5066122021',\n",
       " '5205142021',\n",
       " '5205142021',\n",
       " '5205142021',\n",
       " '5205142021',\n",
       " '5259102021',\n",
       " '5259102021',\n",
       " '5259102021',\n",
       " '5259102021',\n",
       " '5556202021',\n",
       " '5807952021',\n",
       " '5870832021',\n",
       " '5977372021',\n",
       " '5977372021',\n",
       " '6091252021',\n",
       " '6091252021',\n",
       " '6091252021',\n",
       " '6091252021',\n",
       " '6091252021',\n",
       " '0511922021',\n",
       " '0511922021',\n",
       " '0602102021',\n",
       " '0602102021',\n",
       " '0602102021',\n",
       " '0602102021',\n",
       " '0602102021',\n",
       " '0625922021',\n",
       " '0625922021',\n",
       " '0625922021',\n",
       " '0625922021',\n",
       " '6363072021',\n",
       " '6363072021',\n",
       " '6363072021',\n",
       " '6363072021',\n",
       " '6378972021',\n",
       " '6378972021',\n",
       " '6378972021',\n",
       " '6384092021',\n",
       " '6409452021',\n",
       " '6409452021',\n",
       " '6409452021',\n",
       " '6686312021',\n",
       " '6686312021',\n",
       " '6686312021',\n",
       " '6749632021',\n",
       " '6749632021',\n",
       " '6749632021',\n",
       " '6749632021',\n",
       " '6749632021',\n",
       " '6749632021',\n",
       " '6749632021',\n",
       " '0653512021',\n",
       " '0653512021',\n",
       " '0653512021',\n",
       " '0653512021',\n",
       " '0677802021',\n",
       " '0704292021',\n",
       " '0868992021',\n",
       " '0868992021',\n",
       " '0874572021',\n",
       " '0874572021',\n",
       " '1d749e22792247f6985de0ece366ddf8',\n",
       " '1026342021',\n",
       " '1026342021',\n",
       " '1026342021',\n",
       " '0207932022',\n",
       " '0277072022',\n",
       " '0277072022',\n",
       " '0277072022',\n",
       " '0294902022',\n",
       " '0294902022',\n",
       " '0294902022',\n",
       " '0294902022',\n",
       " '0483082022',\n",
       " '0590312022',\n",
       " '0590312022',\n",
       " '0590312022',\n",
       " '0590312022',\n",
       " '0624692022',\n",
       " '361e2a13928a4b619e125ebfd4b8aa2c',\n",
       " '1d749e22792247f6985de0ece366ddf8']"
      ]
     },
     "execution_count": 9,
     "metadata": {},
     "output_type": "execute_result"
    }
   ],
   "source": [
    "filter_doc = [x.strip(' ') for x in filter_doc]\n",
    "filter_doc"
   ]
  },
  {
   "cell_type": "code",
   "execution_count": null,
   "id": "c6b78c8e",
   "metadata": {},
   "outputs": [],
   "source": [
    "corpus2 = corpus[corpus[\"filename\"].str.contains('|'.join(filter_doc))]\n",
    "corpus2.head(20)"
   ]
  },
  {
   "cell_type": "code",
   "execution_count": 13,
   "id": "e7442442",
   "metadata": {
    "execution": {
     "iopub.execute_input": "2022-08-30T10:41:52.345507Z",
     "iopub.status.busy": "2022-08-30T10:41:52.344770Z",
     "iopub.status.idle": "2022-08-30T10:41:52.462463Z",
     "shell.execute_reply": "2022-08-30T10:41:52.461633Z",
     "shell.execute_reply.started": "2022-08-30T10:41:52.345450Z"
    }
   },
   "outputs": [],
   "source": [
    "corpusEkstra = pd.read_pickle(\"ekstra_virksomhedsoverdragelser.pkl\")"
   ]
  },
  {
   "cell_type": "code",
   "execution_count": 14,
   "id": "97e56f2f-274e-4272-9ecb-88ced9f3fcb5",
   "metadata": {
    "execution": {
     "iopub.execute_input": "2022-08-30T10:42:05.195774Z",
     "iopub.status.busy": "2022-08-30T10:42:05.195076Z",
     "iopub.status.idle": "2022-08-30T10:42:05.211174Z",
     "shell.execute_reply": "2022-08-30T10:42:05.210123Z",
     "shell.execute_reply.started": "2022-08-30T10:42:05.195719Z"
    }
   },
   "outputs": [
    {
     "data": {
      "text/html": [
       "<div>\n",
       "<style scoped>\n",
       "    .dataframe tbody tr th:only-of-type {\n",
       "        vertical-align: middle;\n",
       "    }\n",
       "\n",
       "    .dataframe tbody tr th {\n",
       "        vertical-align: top;\n",
       "    }\n",
       "\n",
       "    .dataframe thead th {\n",
       "        text-align: right;\n",
       "    }\n",
       "</style>\n",
       "<table border=\"1\" class=\"dataframe\">\n",
       "  <thead>\n",
       "    <tr style=\"text-align: right;\">\n",
       "      <th></th>\n",
       "      <th>filename</th>\n",
       "      <th>text</th>\n",
       "      <th>filedir</th>\n",
       "    </tr>\n",
       "  </thead>\n",
       "  <tbody>\n",
       "    <tr>\n",
       "      <th>318</th>\n",
       "      <td>udbudsbekendtgørelse.pdf</td>\n",
       "      <td>EUT/S S28\\r\\n10/02/2021\\r\\n70429-2021-DA\\r\\n\\r...</td>\n",
       "      <td>C:\\Users\\blunds\\OneDrive - Roskilde Universite...</td>\n",
       "    </tr>\n",
       "    <tr>\n",
       "      <th>319</th>\n",
       "      <td>15. udbud Udbudsbetingelser v01032021.pdf</td>\n",
       "      <td>15. udbud af buskørsel\\r\\nUdbudsbetingelser\\r\\...</td>\n",
       "      <td>C:\\Users\\blunds\\OneDrive - Roskilde Universite...</td>\n",
       "    </tr>\n",
       "    <tr>\n",
       "      <th>320</th>\n",
       "      <td>Bilag 10 Afgivelse af oplysninger om personale...</td>\n",
       "      <td>Bilag 10\\r\\nAfgivelse af oplysninger om person...</td>\n",
       "      <td>C:\\Users\\blunds\\OneDrive - Roskilde Universite...</td>\n",
       "    </tr>\n",
       "    <tr>\n",
       "      <th>321</th>\n",
       "      <td>Bilag 10 Oplysningsskema om personale.pdf</td>\n",
       "      <td>Oplysninger om personaleforhold\\r\\nNedenståend...</td>\n",
       "      <td>C:\\Users\\blunds\\OneDrive - Roskilde Universite...</td>\n",
       "    </tr>\n",
       "    <tr>\n",
       "      <th>322</th>\n",
       "      <td>udbudsbekendtgørelse.pdf</td>\n",
       "      <td>EUT/S S122\\r\\n28/06/2021\\r\\n324610-2021-DA\\r\\n...</td>\n",
       "      <td>C:\\Users\\blunds\\OneDrive - Roskilde Universite...</td>\n",
       "    </tr>\n",
       "  </tbody>\n",
       "</table>\n",
       "</div>"
      ],
      "text/plain": [
       "                                              filename  \\\n",
       "318                           udbudsbekendtgørelse.pdf   \n",
       "319          15. udbud Udbudsbetingelser v01032021.pdf   \n",
       "320  Bilag 10 Afgivelse af oplysninger om personale...   \n",
       "321          Bilag 10 Oplysningsskema om personale.pdf   \n",
       "322                           udbudsbekendtgørelse.pdf   \n",
       "\n",
       "                                                  text  \\\n",
       "318  EUT/S S28\\r\\n10/02/2021\\r\\n70429-2021-DA\\r\\n\\r...   \n",
       "319  15. udbud af buskørsel\\r\\nUdbudsbetingelser\\r\\...   \n",
       "320  Bilag 10\\r\\nAfgivelse af oplysninger om person...   \n",
       "321  Oplysninger om personaleforhold\\r\\nNedenståend...   \n",
       "322  EUT/S S122\\r\\n28/06/2021\\r\\n324610-2021-DA\\r\\n...   \n",
       "\n",
       "                                               filedir  \n",
       "318  C:\\Users\\blunds\\OneDrive - Roskilde Universite...  \n",
       "319  C:\\Users\\blunds\\OneDrive - Roskilde Universite...  \n",
       "320  C:\\Users\\blunds\\OneDrive - Roskilde Universite...  \n",
       "321  C:\\Users\\blunds\\OneDrive - Roskilde Universite...  \n",
       "322  C:\\Users\\blunds\\OneDrive - Roskilde Universite...  "
      ]
     },
     "execution_count": 14,
     "metadata": {},
     "output_type": "execute_result"
    }
   ],
   "source": [
    "corpusEkstra.tail()"
   ]
  },
  {
   "cell_type": "code",
   "execution_count": 15,
   "id": "45d8ed72-c89f-4953-847e-b357e0d8478a",
   "metadata": {
    "execution": {
     "iopub.execute_input": "2022-08-30T10:42:37.353077Z",
     "iopub.status.busy": "2022-08-30T10:42:37.352374Z",
     "iopub.status.idle": "2022-08-30T10:42:37.364636Z",
     "shell.execute_reply": "2022-08-30T10:42:37.363463Z",
     "shell.execute_reply.started": "2022-08-30T10:42:37.353019Z"
    }
   },
   "outputs": [],
   "source": [
    "def clean(text):\n",
    "    text = re.sub('\\s\\s+', ' ', str(text)) # tilføjer mellemrum ved nylinje\n",
    "    text = re.sub(\"\\n\", \"\", text) #fjern nylinje\n",
    "    text = re.sub(\"\\r\", \" \", text) #fjern nylinje i doc\n",
    "    text = re.sub(\"[()]\",\"\", text) # fjern parenteser\n",
    "    text = re.sub(\"%\", \"\", text) # fjern procent\n",
    "    text = re.sub('[-()\\\"#/@;:<>{}`+=~|.!?,‰]', ' ', text) # fjerner specielle tegn og symboler\n",
    "    #text = re.sub(\"\\d\", \"\", text) # fjern tal\n",
    "    text = re.sub(' +', ' ', text) # fjern for mange mellemrum\n",
    "    text = text.lower()\n",
    "    return text"
   ]
  },
  {
   "cell_type": "code",
   "execution_count": 16,
   "id": "d097ef5c-890d-4076-bfa1-26fd316e232c",
   "metadata": {
    "execution": {
     "iopub.execute_input": "2022-08-30T10:42:49.404252Z",
     "iopub.status.busy": "2022-08-30T10:42:49.403539Z",
     "iopub.status.idle": "2022-08-30T10:42:50.011376Z",
     "shell.execute_reply": "2022-08-30T10:42:50.010605Z",
     "shell.execute_reply.started": "2022-08-30T10:42:49.404195Z"
    }
   },
   "outputs": [],
   "source": [
    "corpusEkstra['clean_text'] = corpusEkstra.text.apply(lambda x : clean(x))"
   ]
  },
  {
   "cell_type": "code",
   "execution_count": 18,
   "id": "8536597a-f1c7-4ef7-8c60-a2ca670d6d23",
   "metadata": {
    "execution": {
     "iopub.execute_input": "2022-08-30T10:43:16.221049Z",
     "iopub.status.busy": "2022-08-30T10:43:16.220369Z",
     "iopub.status.idle": "2022-08-30T10:43:18.733677Z",
     "shell.execute_reply": "2022-08-30T10:43:18.732992Z",
     "shell.execute_reply.started": "2022-08-30T10:43:16.220994Z"
    },
    "tags": []
   },
   "outputs": [
    {
     "data": {
      "text/html": [
       "<div>\n",
       "<style scoped>\n",
       "    .dataframe tbody tr th:only-of-type {\n",
       "        vertical-align: middle;\n",
       "    }\n",
       "\n",
       "    .dataframe tbody tr th {\n",
       "        vertical-align: top;\n",
       "    }\n",
       "\n",
       "    .dataframe thead th {\n",
       "        text-align: right;\n",
       "    }\n",
       "</style>\n",
       "<table border=\"1\" class=\"dataframe\">\n",
       "  <thead>\n",
       "    <tr style=\"text-align: right;\">\n",
       "      <th></th>\n",
       "      <th>filename</th>\n",
       "      <th>text</th>\n",
       "      <th>filedir</th>\n",
       "      <th>clean_text</th>\n",
       "      <th>word</th>\n",
       "    </tr>\n",
       "  </thead>\n",
       "  <tbody>\n",
       "    <tr>\n",
       "      <th>0</th>\n",
       "      <td>Bilag 10 - Overenskomst for erhvervsuddannede ...</td>\n",
       "      <td>The command `pdftotext C:\\Users\\blunds\\OneDriv...</td>\n",
       "      <td>C:\\Users\\blunds\\OneDrive - Roskilde Universite...</td>\n",
       "      <td>the command pdftotext c \\users\\blunds\\onedrive...</td>\n",
       "      <td>[the, command, pdftotext, c, \\users\\blunds\\one...</td>\n",
       "    </tr>\n",
       "    <tr>\n",
       "      <th>1</th>\n",
       "      <td>Bilag 11 - Overenskomst for rengøringsassisten...</td>\n",
       "      <td>O.13 Overenskomst for rengøringsassistenter\\r\\...</td>\n",
       "      <td>C:\\Users\\blunds\\OneDrive - Roskilde Universite...</td>\n",
       "      <td>o 13 overenskomst for rengøringsassistenter ti...</td>\n",
       "      <td>[o, 13, overenskomst, for, rengøringsassistent...</td>\n",
       "    </tr>\n",
       "    <tr>\n",
       "      <th>2</th>\n",
       "      <td>Bilag 12 - Overenskomst for kontorpersonale og...</td>\n",
       "      <td>The command `pdftotext C:\\Users\\blunds\\OneDriv...</td>\n",
       "      <td>C:\\Users\\blunds\\OneDrive - Roskilde Universite...</td>\n",
       "      <td>the command pdftotext c \\users\\blunds\\onedrive...</td>\n",
       "      <td>[the, command, pdftotext, c, \\users\\blunds\\one...</td>\n",
       "    </tr>\n",
       "    <tr>\n",
       "      <th>3</th>\n",
       "      <td>Bilag 13 - Overenskomst for husassistenter mel...</td>\n",
       "      <td>O.13 Overenskomst for husassistenter\\r\\n\\r\\nTi...</td>\n",
       "      <td>C:\\Users\\blunds\\OneDrive - Roskilde Universite...</td>\n",
       "      <td>o 13 overenskomst for husassistenter titel sta...</td>\n",
       "      <td>[o, 13, overenskomst, for, husassistenter, tit...</td>\n",
       "    </tr>\n",
       "    <tr>\n",
       "      <th>4</th>\n",
       "      <td>Bilag 14 - Aftale om lokal loendannelse for hu...</td>\n",
       "      <td>O.13 Aftale om lokal løndannelse for hus/ren-o...</td>\n",
       "      <td>C:\\Users\\blunds\\OneDrive - Roskilde Universite...</td>\n",
       "      <td>o 13 aftale om lokal løndannelse for hus ren o...</td>\n",
       "      <td>[o, 13, aftale, om, lokal, løndannelse, for, h...</td>\n",
       "    </tr>\n",
       "  </tbody>\n",
       "</table>\n",
       "</div>"
      ],
      "text/plain": [
       "                                            filename  \\\n",
       "0  Bilag 10 - Overenskomst for erhvervsuddannede ...   \n",
       "1  Bilag 11 - Overenskomst for rengøringsassisten...   \n",
       "2  Bilag 12 - Overenskomst for kontorpersonale og...   \n",
       "3  Bilag 13 - Overenskomst for husassistenter mel...   \n",
       "4  Bilag 14 - Aftale om lokal loendannelse for hu...   \n",
       "\n",
       "                                                text  \\\n",
       "0  The command `pdftotext C:\\Users\\blunds\\OneDriv...   \n",
       "1  O.13 Overenskomst for rengøringsassistenter\\r\\...   \n",
       "2  The command `pdftotext C:\\Users\\blunds\\OneDriv...   \n",
       "3  O.13 Overenskomst for husassistenter\\r\\n\\r\\nTi...   \n",
       "4  O.13 Aftale om lokal løndannelse for hus/ren-o...   \n",
       "\n",
       "                                             filedir  \\\n",
       "0  C:\\Users\\blunds\\OneDrive - Roskilde Universite...   \n",
       "1  C:\\Users\\blunds\\OneDrive - Roskilde Universite...   \n",
       "2  C:\\Users\\blunds\\OneDrive - Roskilde Universite...   \n",
       "3  C:\\Users\\blunds\\OneDrive - Roskilde Universite...   \n",
       "4  C:\\Users\\blunds\\OneDrive - Roskilde Universite...   \n",
       "\n",
       "                                          clean_text  \\\n",
       "0  the command pdftotext c \\users\\blunds\\onedrive...   \n",
       "1  o 13 overenskomst for rengøringsassistenter ti...   \n",
       "2  the command pdftotext c \\users\\blunds\\onedrive...   \n",
       "3  o 13 overenskomst for husassistenter titel sta...   \n",
       "4  o 13 aftale om lokal løndannelse for hus ren o...   \n",
       "\n",
       "                                                word  \n",
       "0  [the, command, pdftotext, c, \\users\\blunds\\one...  \n",
       "1  [o, 13, overenskomst, for, rengøringsassistent...  \n",
       "2  [the, command, pdftotext, c, \\users\\blunds\\one...  \n",
       "3  [o, 13, overenskomst, for, husassistenter, tit...  \n",
       "4  [o, 13, aftale, om, lokal, løndannelse, for, h...  "
      ]
     },
     "execution_count": 18,
     "metadata": {},
     "output_type": "execute_result"
    }
   ],
   "source": [
    "corpusEkstra['word'] = corpusEkstra.clean_text.apply(lambda x : word_tokenize(x))\n",
    "corpusEkstra.head()"
   ]
  },
  {
   "cell_type": "code",
   "execution_count": 19,
   "id": "e907ade7-4f0e-46cf-b300-0ed93ac75887",
   "metadata": {
    "execution": {
     "iopub.execute_input": "2022-08-30T10:43:44.218820Z",
     "iopub.status.busy": "2022-08-30T10:43:44.218133Z",
     "iopub.status.idle": "2022-08-30T10:43:53.886091Z",
     "shell.execute_reply": "2022-08-30T10:43:53.885128Z",
     "shell.execute_reply.started": "2022-08-30T10:43:44.218763Z"
    }
   },
   "outputs": [],
   "source": [
    "lemmatizer = lemmy.load(\"da\")"
   ]
  },
  {
   "cell_type": "code",
   "execution_count": 20,
   "id": "811ee022-d4e3-47ed-bd5c-48381f311dbb",
   "metadata": {
    "execution": {
     "iopub.execute_input": "2022-08-30T10:43:56.089688Z",
     "iopub.status.busy": "2022-08-30T10:43:56.088979Z",
     "iopub.status.idle": "2022-08-30T10:43:56.097873Z",
     "shell.execute_reply": "2022-08-30T10:43:56.096613Z",
     "shell.execute_reply.started": "2022-08-30T10:43:56.089631Z"
    }
   },
   "outputs": [],
   "source": [
    "def lemmy_definition(words):\n",
    "    words = [lemmatizer.lemmatize(\"\", w)[0] for w in words]\n",
    "    return words"
   ]
  },
  {
   "cell_type": "code",
   "execution_count": 21,
   "id": "5f882e9e-4a96-4927-9d2f-bfcd86771b7d",
   "metadata": {
    "execution": {
     "iopub.execute_input": "2022-08-30T10:44:01.976220Z",
     "iopub.status.busy": "2022-08-30T10:44:01.975508Z",
     "iopub.status.idle": "2022-08-30T10:44:03.307816Z",
     "shell.execute_reply": "2022-08-30T10:44:03.306479Z",
     "shell.execute_reply.started": "2022-08-30T10:44:01.976163Z"
    }
   },
   "outputs": [],
   "source": [
    "corpusEkstra['lemmy'] = corpusEkstra.word.apply(lambda x : lemmy_definition(x))"
   ]
  },
  {
   "cell_type": "code",
   "execution_count": 22,
   "id": "95e2f6c1-80b7-4d89-9f1d-aeb8854976e4",
   "metadata": {
    "execution": {
     "iopub.execute_input": "2022-08-30T10:44:17.064997Z",
     "iopub.status.busy": "2022-08-30T10:44:17.064300Z",
     "iopub.status.idle": "2022-08-30T10:44:17.073332Z",
     "shell.execute_reply": "2022-08-30T10:44:17.071784Z",
     "shell.execute_reply.started": "2022-08-30T10:44:17.064941Z"
    }
   },
   "outputs": [],
   "source": [
    "def clean(filename):\n",
    "    filename = re.sub(',', ' ', filename) # fjerner kommer fra filename\n",
    "    return filename"
   ]
  },
  {
   "cell_type": "code",
   "execution_count": 23,
   "id": "174609cb-2367-4a0a-8c9c-d58aeb5faed9",
   "metadata": {
    "execution": {
     "iopub.execute_input": "2022-08-30T10:44:21.591406Z",
     "iopub.status.busy": "2022-08-30T10:44:21.590692Z",
     "iopub.status.idle": "2022-08-30T10:44:21.602196Z",
     "shell.execute_reply": "2022-08-30T10:44:21.600586Z",
     "shell.execute_reply.started": "2022-08-30T10:44:21.591348Z"
    }
   },
   "outputs": [],
   "source": [
    "corpusEkstra['filename'] = corpusEkstra.filename.apply(lambda x : clean(x))"
   ]
  },
  {
   "cell_type": "code",
   "execution_count": 25,
   "id": "a08a83b3-f478-499a-96ed-18e6cbc5488f",
   "metadata": {
    "execution": {
     "iopub.execute_input": "2022-08-30T10:45:30.301333Z",
     "iopub.status.busy": "2022-08-30T10:45:30.300636Z",
     "iopub.status.idle": "2022-08-30T10:45:30.309922Z",
     "shell.execute_reply": "2022-08-30T10:45:30.308743Z",
     "shell.execute_reply.started": "2022-08-30T10:45:30.301278Z"
    },
    "tags": []
   },
   "outputs": [],
   "source": [
    "def extract_virksomhedsoverdragelse(filename):\n",
    "    FileObj = open(filename, 'rb')\n",
    "    read = pd.read_excel(filename, engine='openpyxl')\n",
    "    read = read.to_string(index=False)\n",
    "    return (read)"
   ]
  },
  {
   "cell_type": "code",
   "execution_count": 26,
   "id": "2d19f724-81c0-43c8-bad1-3fe3b3d28a83",
   "metadata": {
    "execution": {
     "iopub.execute_input": "2022-08-30T10:45:35.768019Z",
     "iopub.status.busy": "2022-08-30T10:45:35.767161Z",
     "iopub.status.idle": "2022-08-30T10:45:45.464260Z",
     "shell.execute_reply": "2022-08-30T10:45:45.463479Z",
     "shell.execute_reply.started": "2022-08-30T10:45:35.767960Z"
    }
   },
   "outputs": [],
   "source": [
    "virksomhedsoverdragelse = extract_virksomhedsoverdragelse (r'virkover2.xlsx')"
   ]
  },
  {
   "cell_type": "code",
   "execution_count": 27,
   "id": "22bb23d1-d4c1-40d2-bfb5-19d265d86950",
   "metadata": {
    "execution": {
     "iopub.execute_input": "2022-08-30T10:45:55.919671Z",
     "iopub.status.busy": "2022-08-30T10:45:55.918989Z",
     "iopub.status.idle": "2022-08-30T10:45:55.926916Z",
     "shell.execute_reply": "2022-08-30T10:45:55.925628Z",
     "shell.execute_reply.started": "2022-08-30T10:45:55.919614Z"
    }
   },
   "outputs": [],
   "source": [
    "virksomhedsoverdragelse = virksomhedsoverdragelse.split(\"\\n\")"
   ]
  },
  {
   "cell_type": "code",
   "execution_count": 28,
   "id": "2cc9205b-33b5-44ba-9cad-914b195e4d67",
   "metadata": {
    "execution": {
     "iopub.execute_input": "2022-08-30T10:45:59.925923Z",
     "iopub.status.busy": "2022-08-30T10:45:59.925076Z",
     "iopub.status.idle": "2022-08-30T10:45:59.933592Z",
     "shell.execute_reply": "2022-08-30T10:45:59.932427Z",
     "shell.execute_reply.started": "2022-08-30T10:45:59.925864Z"
    }
   },
   "outputs": [],
   "source": [
    "virksomhedsoverdragelse = [x.strip(' ') for x in virksomhedsoverdragelse]"
   ]
  },
  {
   "cell_type": "code",
   "execution_count": 29,
   "id": "b98eeecc-d3ea-48e5-852c-2c5b0b275596",
   "metadata": {
    "execution": {
     "iopub.execute_input": "2022-08-30T10:46:03.946968Z",
     "iopub.status.busy": "2022-08-30T10:46:03.946095Z",
     "iopub.status.idle": "2022-08-30T10:46:03.954626Z",
     "shell.execute_reply": "2022-08-30T10:46:03.953400Z",
     "shell.execute_reply.started": "2022-08-30T10:46:03.946909Z"
    }
   },
   "outputs": [],
   "source": [
    "virksomhedsoverdragelse = [s.replace(\"*\", \"\")for s in virksomhedsoverdragelse]"
   ]
  },
  {
   "cell_type": "code",
   "execution_count": 30,
   "id": "3cd57577-3ff2-42c7-a3b5-ea21a8292091",
   "metadata": {
    "execution": {
     "iopub.execute_input": "2022-08-30T10:46:09.202912Z",
     "iopub.status.busy": "2022-08-30T10:46:09.202219Z",
     "iopub.status.idle": "2022-08-30T10:46:09.210136Z",
     "shell.execute_reply": "2022-08-30T10:46:09.208993Z",
     "shell.execute_reply.started": "2022-08-30T10:46:09.202855Z"
    }
   },
   "outputs": [],
   "source": [
    "del virksomhedsoverdragelse[1]"
   ]
  },
  {
   "cell_type": "code",
   "execution_count": 31,
   "id": "eb3a45a4-8a68-4e46-b536-84a29abba946",
   "metadata": {
    "execution": {
     "iopub.execute_input": "2022-08-30T10:46:12.983154Z",
     "iopub.status.busy": "2022-08-30T10:46:12.982486Z",
     "iopub.status.idle": "2022-08-30T10:46:12.992998Z",
     "shell.execute_reply": "2022-08-30T10:46:12.991596Z",
     "shell.execute_reply.started": "2022-08-30T10:46:12.983084Z"
    }
   },
   "outputs": [
    {
     "data": {
      "text/plain": [
       "['virksomhedsoverdragelse']"
      ]
     },
     "execution_count": 31,
     "metadata": {},
     "output_type": "execute_result"
    }
   ],
   "source": [
    "virksomhedsoverdragelse"
   ]
  },
  {
   "cell_type": "code",
   "execution_count": 32,
   "id": "6e95af89-d0bf-4c7c-af66-0b1cdd41f8e8",
   "metadata": {
    "execution": {
     "iopub.execute_input": "2022-08-30T10:46:19.181742Z",
     "iopub.status.busy": "2022-08-30T10:46:19.181049Z",
     "iopub.status.idle": "2022-08-30T10:46:19.190384Z",
     "shell.execute_reply": "2022-08-30T10:46:19.188937Z",
     "shell.execute_reply.started": "2022-08-30T10:46:19.181685Z"
    }
   },
   "outputs": [],
   "source": [
    "def Filter(lemmy, virksomhedsoverdragelse):\n",
    "    return [n for n in lemmy if\n",
    "             any(m in n for m in virksomhedsoverdragelse)]"
   ]
  },
  {
   "cell_type": "code",
   "execution_count": 33,
   "id": "04172281-3b6f-464d-85bf-b9bca2451ceb",
   "metadata": {
    "execution": {
     "iopub.execute_input": "2022-08-30T10:46:51.563320Z",
     "iopub.status.busy": "2022-08-30T10:46:51.562628Z",
     "iopub.status.idle": "2022-08-30T10:46:51.823185Z",
     "shell.execute_reply": "2022-08-30T10:46:51.822487Z",
     "shell.execute_reply.started": "2022-08-30T10:46:51.563262Z"
    }
   },
   "outputs": [],
   "source": [
    "corpusEkstra['virksomhedsoverdragelse_2022_filter'] = corpusEkstra.lemmy.apply(lambda x, y=virksomhedsoverdragelse : Filter(x, y))"
   ]
  },
  {
   "cell_type": "code",
   "execution_count": 35,
   "id": "8f497a64-fd1e-4514-8bda-7ba0f214bec3",
   "metadata": {
    "execution": {
     "iopub.execute_input": "2022-08-30T10:47:01.061178Z",
     "iopub.status.busy": "2022-08-30T10:47:01.060483Z",
     "iopub.status.idle": "2022-08-30T10:47:01.131832Z",
     "shell.execute_reply": "2022-08-30T10:47:01.131143Z",
     "shell.execute_reply.started": "2022-08-30T10:47:01.061120Z"
    },
    "tags": []
   },
   "outputs": [
    {
     "data": {
      "text/html": [
       "<div>\n",
       "<style scoped>\n",
       "    .dataframe tbody tr th:only-of-type {\n",
       "        vertical-align: middle;\n",
       "    }\n",
       "\n",
       "    .dataframe tbody tr th {\n",
       "        vertical-align: top;\n",
       "    }\n",
       "\n",
       "    .dataframe thead th {\n",
       "        text-align: right;\n",
       "    }\n",
       "</style>\n",
       "<table border=\"1\" class=\"dataframe\">\n",
       "  <thead>\n",
       "    <tr style=\"text-align: right;\">\n",
       "      <th></th>\n",
       "      <th>filename</th>\n",
       "      <th>text</th>\n",
       "      <th>filedir</th>\n",
       "      <th>clean_text</th>\n",
       "      <th>word</th>\n",
       "      <th>lemmy</th>\n",
       "      <th>virksomhedsoverdragelse_2022_filter</th>\n",
       "    </tr>\n",
       "  </thead>\n",
       "  <tbody>\n",
       "    <tr>\n",
       "      <th>0</th>\n",
       "      <td>Bilag 10 - Overenskomst for erhvervsuddannede ...</td>\n",
       "      <td>The command `pdftotext C:\\Users\\blunds\\OneDriv...</td>\n",
       "      <td>C:\\Users\\blunds\\OneDrive - Roskilde Universite...</td>\n",
       "      <td>the command pdftotext c \\users\\blunds\\onedrive...</td>\n",
       "      <td>[the, command, pdftotext, c, \\users\\blunds\\one...</td>\n",
       "      <td>[the, command, pdftotext, c, \\users\\blunds\\one...</td>\n",
       "      <td>[projekt\\virksomhedsoverdragelse\\dokument, pro...</td>\n",
       "    </tr>\n",
       "    <tr>\n",
       "      <th>1</th>\n",
       "      <td>Bilag 11 - Overenskomst for rengøringsassisten...</td>\n",
       "      <td>O.13 Overenskomst for rengøringsassistenter\\r\\...</td>\n",
       "      <td>C:\\Users\\blunds\\OneDrive - Roskilde Universite...</td>\n",
       "      <td>o 13 overenskomst for rengøringsassistenter ti...</td>\n",
       "      <td>[o, 13, overenskomst, for, rengøringsassistent...</td>\n",
       "      <td>[o, 13, overenskomst, for, rengøringsassistent...</td>\n",
       "      <td>[]</td>\n",
       "    </tr>\n",
       "    <tr>\n",
       "      <th>2</th>\n",
       "      <td>Bilag 12 - Overenskomst for kontorpersonale og...</td>\n",
       "      <td>The command `pdftotext C:\\Users\\blunds\\OneDriv...</td>\n",
       "      <td>C:\\Users\\blunds\\OneDrive - Roskilde Universite...</td>\n",
       "      <td>the command pdftotext c \\users\\blunds\\onedrive...</td>\n",
       "      <td>[the, command, pdftotext, c, \\users\\blunds\\one...</td>\n",
       "      <td>[the, command, pdftotext, c, \\users\\blunds\\one...</td>\n",
       "      <td>[projekt\\virksomhedsoverdragelse\\dokument, pro...</td>\n",
       "    </tr>\n",
       "    <tr>\n",
       "      <th>3</th>\n",
       "      <td>Bilag 13 - Overenskomst for husassistenter mel...</td>\n",
       "      <td>O.13 Overenskomst for husassistenter\\r\\n\\r\\nTi...</td>\n",
       "      <td>C:\\Users\\blunds\\OneDrive - Roskilde Universite...</td>\n",
       "      <td>o 13 overenskomst for husassistenter titel sta...</td>\n",
       "      <td>[o, 13, overenskomst, for, husassistenter, tit...</td>\n",
       "      <td>[o, 13, overenskomst, for, husassistent, titel...</td>\n",
       "      <td>[]</td>\n",
       "    </tr>\n",
       "    <tr>\n",
       "      <th>4</th>\n",
       "      <td>Bilag 14 - Aftale om lokal loendannelse for hu...</td>\n",
       "      <td>O.13 Aftale om lokal løndannelse for hus/ren-o...</td>\n",
       "      <td>C:\\Users\\blunds\\OneDrive - Roskilde Universite...</td>\n",
       "      <td>o 13 aftale om lokal løndannelse for hus ren o...</td>\n",
       "      <td>[o, 13, aftale, om, lokal, løndannelse, for, h...</td>\n",
       "      <td>[o, 13, aftale, om, lokal, løndannelse, for, h...</td>\n",
       "      <td>[]</td>\n",
       "    </tr>\n",
       "    <tr>\n",
       "      <th>5</th>\n",
       "      <td>Bilag 15 - Forhåndsaftale mellem 3F og Helsing...</td>\n",
       "      <td>The command `tesseract C:\\Users\\blunds\\OneDriv...</td>\n",
       "      <td>C:\\Users\\blunds\\OneDrive - Roskilde Universite...</td>\n",
       "      <td>the command tesseract c \\users\\blunds\\onedrive...</td>\n",
       "      <td>[the, command, tesseract, c, \\users\\blunds\\one...</td>\n",
       "      <td>[the, command, tesseract, c, \\users\\blunds\\one...</td>\n",
       "      <td>[projekt\\virksomhedsoverdragelse\\dokument]</td>\n",
       "    </tr>\n",
       "    <tr>\n",
       "      <th>6</th>\n",
       "      <td>Bilag 16 - Retningslinjer personaleforhold  Re...</td>\n",
       "      <td>Side 1\\n\\n\\n\\n\\n\\n\\n\\n\\n\\n\\n\\n \\n\\n\\n\\nUnderbi...</td>\n",
       "      <td>C:\\Users\\blunds\\OneDrive - Roskilde Universite...</td>\n",
       "      <td>side 1 underbilag bilag xd retningslinjer pers...</td>\n",
       "      <td>[side, 1, underbilag, bilag, xd, retningslinje...</td>\n",
       "      <td>[side, 1, underbilag, bilag, xd, retningslinje...</td>\n",
       "      <td>[]</td>\n",
       "    </tr>\n",
       "    <tr>\n",
       "      <th>7</th>\n",
       "      <td>Bilag 5 - Besvarelsesark - Organisering.doc</td>\n",
       "      <td>\\r\\nTilbudsgivers navn:\\r\\n\\r\\n\\r\\n\\r\\nBesvare...</td>\n",
       "      <td>C:\\Users\\blunds\\OneDrive - Roskilde Universite...</td>\n",
       "      <td>tilbudsgivers navn besvarelsesark til underkr...</td>\n",
       "      <td>[tilbudsgivers, navn, besvarelsesark, til, und...</td>\n",
       "      <td>[tilbudsgiver, navn, besvarelsesark, til, unde...</td>\n",
       "      <td>[]</td>\n",
       "    </tr>\n",
       "    <tr>\n",
       "      <th>8</th>\n",
       "      <td>Bilag 9 - Omfattede medarbejdere og individuel...</td>\n",
       "      <td>Virksomhedsoverdragelses nr.  Startdato   Sto...</td>\n",
       "      <td>C:\\Users\\blunds\\OneDrive - Roskilde Universite...</td>\n",
       "      <td>virksomhedsoverdragelses nr startdato stopdat...</td>\n",
       "      <td>[virksomhedsoverdragelses, nr, startdato, stop...</td>\n",
       "      <td>[virksomhedsoverdragelse, nr, startdato, stopd...</td>\n",
       "      <td>[virksomhedsoverdragelse]</td>\n",
       "    </tr>\n",
       "    <tr>\n",
       "      <th>9</th>\n",
       "      <td>drive-download-20220330T131500Z-001.zip</td>\n",
       "      <td>incomplete escape \\U at position 2</td>\n",
       "      <td>C:\\Users\\blunds\\OneDrive - Roskilde Universite...</td>\n",
       "      <td>incomplete escape \\u at position 2</td>\n",
       "      <td>[incomplete, escape, \\u, at, position, 2]</td>\n",
       "      <td>[incomplete, escape, \\u, at, position, 2]</td>\n",
       "      <td>[]</td>\n",
       "    </tr>\n",
       "    <tr>\n",
       "      <th>10</th>\n",
       "      <td>udbudsbekendtgørelse.pdf</td>\n",
       "      <td>EUT/S S36\\r\\n20/02/2015\\r\\n61613-2015-DA\\r\\n\\r...</td>\n",
       "      <td>C:\\Users\\blunds\\OneDrive - Roskilde Universite...</td>\n",
       "      <td>eut s s36 20 02 2015 61613 2015 da 1 4 denne b...</td>\n",
       "      <td>[eut, s, s36, 20, 02, 2015, 61613, 2015, da, 1...</td>\n",
       "      <td>[eut, s, s36, 20, 02, 2015, 61613, 2015, da, 1...</td>\n",
       "      <td>[virksomhedsoverdragelse, virksomhedsoverdrage...</td>\n",
       "    </tr>\n",
       "    <tr>\n",
       "      <th>11</th>\n",
       "      <td>Udbudsbetingelser. Version 3.docx</td>\n",
       "      <td>Udbudsbetingelser til udbud af rengøring i Hel...</td>\n",
       "      <td>C:\\Users\\blunds\\OneDrive - Roskilde Universite...</td>\n",
       "      <td>udbudsbetingelser til udbud af rengøring i hel...</td>\n",
       "      <td>[udbudsbetingelser, til, udbud, af, rengøring,...</td>\n",
       "      <td>[udbudsbetingelse, til, udbud, af, rengøring, ...</td>\n",
       "      <td>[virksomhedsoverdragelse, virksomhedsoverdrage...</td>\n",
       "    </tr>\n",
       "    <tr>\n",
       "      <th>12</th>\n",
       "      <td>En dokumentliste med parter og bilag 2.pdf</td>\n",
       "      <td>8. april 2022\\r\\n\\r\\nDokumentliste\\r\\nParter o...</td>\n",
       "      <td>C:\\Users\\blunds\\OneDrive - Roskilde Universite...</td>\n",
       "      <td>8 april 2022 dokumentliste parter og bilag dok...</td>\n",
       "      <td>[8, april, 2022, dokumentliste, parter, og, bi...</td>\n",
       "      <td>[8, april, 2022, dokumentliste, partere, og, b...</td>\n",
       "      <td>[virksomhedsoverdragelse]</td>\n",
       "    </tr>\n",
       "    <tr>\n",
       "      <th>13</th>\n",
       "      <td>En dokumentliste med parter og bilag.pdf</td>\n",
       "      <td>8. april 2022\\r\\n\\r\\nDokumentliste\\r\\nParter o...</td>\n",
       "      <td>C:\\Users\\blunds\\OneDrive - Roskilde Universite...</td>\n",
       "      <td>8 april 2022 dokumentliste parter og bilag dok...</td>\n",
       "      <td>[8, april, 2022, dokumentliste, parter, og, bi...</td>\n",
       "      <td>[8, april, 2022, dokumentliste, partere, og, b...</td>\n",
       "      <td>[virksomhedsoverdragelse]</td>\n",
       "    </tr>\n",
       "    <tr>\n",
       "      <th>14</th>\n",
       "      <td>Sagsudskrift af Delaftale 1 Østdanmark.pdf</td>\n",
       "      <td>11. april 2022\\r\\n\\r\\nSag\\r\\nTitel:\\r\\n\\r\\nDel...</td>\n",
       "      <td>C:\\Users\\blunds\\OneDrive - Roskilde Universite...</td>\n",
       "      <td>11 april 2022 sag titel delaftale 1 østdanmark...</td>\n",
       "      <td>[11, april, 2022, sag, titel, delaftale, 1, øs...</td>\n",
       "      <td>[11, april, 2022, sag, titel, delaftale, 1, øs...</td>\n",
       "      <td>[virksomhedsoverdragelse, virksomhedsoverdrage...</td>\n",
       "    </tr>\n",
       "    <tr>\n",
       "      <th>15</th>\n",
       "      <td>Sagsudskrift af Delaftale 2 Vestdanmark.pdf</td>\n",
       "      <td>11. april 2022\\r\\n\\r\\nSag\\r\\nTitel:\\r\\n\\r\\nDel...</td>\n",
       "      <td>C:\\Users\\blunds\\OneDrive - Roskilde Universite...</td>\n",
       "      <td>11 april 2022 sag titel delaftale 2 vestdanmar...</td>\n",
       "      <td>[11, april, 2022, sag, titel, delaftale, 2, ve...</td>\n",
       "      <td>[11, april, 2022, sag, titel, delaftale, 2, ve...</td>\n",
       "      <td>[virksomhedsoverdragelse, virksomhedsoverdrage...</td>\n",
       "    </tr>\n",
       "    <tr>\n",
       "      <th>16</th>\n",
       "      <td>udbudsbekendtgørelse.pdf</td>\n",
       "      <td>EUT/S S190\\r\\n03/10/2014\\r\\n335513-2014-DA\\r\\n...</td>\n",
       "      <td>C:\\Users\\blunds\\OneDrive - Roskilde Universite...</td>\n",
       "      <td>eut s s190 03 10 2014 335513 2014 da 1 10 denn...</td>\n",
       "      <td>[eut, s, s190, 03, 10, 2014, 335513, 2014, da,...</td>\n",
       "      <td>[eut, s, s190, 03, 10, 2014, 335513, 2014, da,...</td>\n",
       "      <td>[virksomhedsoverdragelse, virksomhedsoverdrage...</td>\n",
       "    </tr>\n",
       "    <tr>\n",
       "      <th>17</th>\n",
       "      <td>Udbudsbetingelser v1 (002).pdf</td>\n",
       "      <td>Aftale om drift og vedligehold af tekniske bas...</td>\n",
       "      <td>C:\\Users\\blunds\\OneDrive - Roskilde Universite...</td>\n",
       "      <td>aftale om drift og vedligehold af tekniske bas...</td>\n",
       "      <td>[aftale, om, drift, og, vedligehold, af, tekni...</td>\n",
       "      <td>[aftale, om, drifte, og, vedligehold, af, tekn...</td>\n",
       "      <td>[virksomhedsoverdragelse]</td>\n",
       "    </tr>\n",
       "    <tr>\n",
       "      <th>18</th>\n",
       "      <td>141674-15_v1_Bilag 1-4 i word  endelig  18-02-...</td>\n",
       "      <td>Bilag 1 – Erklæringer om udelukkelse og gæld t...</td>\n",
       "      <td>C:\\Users\\blunds\\OneDrive - Roskilde Universite...</td>\n",
       "      <td>bilag 1 – erklæringer om udelukkelse og gæld t...</td>\n",
       "      <td>[bilag, 1, –, erklæringer, om, udelukkelse, og...</td>\n",
       "      <td>[bilag, 1, –, erklæring, om, udelukkelse, og, ...</td>\n",
       "      <td>[]</td>\n",
       "    </tr>\n",
       "    <tr>\n",
       "      <th>19</th>\n",
       "      <td>141675-15_v1_SchemaBefordring til Sundhedscent...</td>\n",
       "      <td>UDBUDSBEKENDTGØRELSE\\r\\n\\r\\nDEL I: ORDREGIVEND...</td>\n",
       "      <td>C:\\Users\\blunds\\OneDrive - Roskilde Universite...</td>\n",
       "      <td>udbudsbekendtgørelse del i ordregivende myndig...</td>\n",
       "      <td>[udbudsbekendtgørelse, del, i, ordregivende, m...</td>\n",
       "      <td>[udbudsbekendtgørelse, del, i, ordregive, mynd...</td>\n",
       "      <td>[]</td>\n",
       "    </tr>\n",
       "    <tr>\n",
       "      <th>20</th>\n",
       "      <td>141676-15_v1_TenderProtocol_Befordring til Sun...</td>\n",
       "      <td>The command `pdftotext C:\\Users\\blunds\\OneDriv...</td>\n",
       "      <td>C:\\Users\\blunds\\OneDrive - Roskilde Universite...</td>\n",
       "      <td>the command pdftotext c \\users\\blunds\\onedrive...</td>\n",
       "      <td>[the, command, pdftotext, c, \\users\\blunds\\one...</td>\n",
       "      <td>[the, command, pdftotext, c, \\users\\blunds\\one...</td>\n",
       "      <td>[projekt\\virksomhedsoverdragelse\\dokument, pro...</td>\n",
       "    </tr>\n",
       "    <tr>\n",
       "      <th>21</th>\n",
       "      <td>141677-15_v1_TenderReport_Befordring til Sundh...</td>\n",
       "      <td>The command `pdftotext C:\\Users\\blunds\\OneDriv...</td>\n",
       "      <td>C:\\Users\\blunds\\OneDrive - Roskilde Universite...</td>\n",
       "      <td>the command pdftotext c \\users\\blunds\\onedrive...</td>\n",
       "      <td>[the, command, pdftotext, c, \\users\\blunds\\one...</td>\n",
       "      <td>[the, command, pdftotext, c, \\users\\blunds\\one...</td>\n",
       "      <td>[projekt\\virksomhedsoverdragelse\\dokument, pro...</td>\n",
       "    </tr>\n",
       "    <tr>\n",
       "      <th>22</th>\n",
       "      <td>141679-15_v1_Udbudsmateriale  endelig.pdf.PDF</td>\n",
       "      <td>EU udbud af\\r\\nBefordring til Sundhedscenter,\\...</td>\n",
       "      <td>C:\\Users\\blunds\\OneDrive - Roskilde Universite...</td>\n",
       "      <td>eu udbud af befordring til sundhedscenter akti...</td>\n",
       "      <td>[eu, udbud, af, befordring, til, sundhedscente...</td>\n",
       "      <td>[eu, udbud, af, befordring, til, sundhedscente...</td>\n",
       "      <td>[virksomhedsoverdragelse, virksomhedsoverdrage...</td>\n",
       "    </tr>\n",
       "    <tr>\n",
       "      <th>23</th>\n",
       "      <td>141680-15_v1_Berigtigelse  25-03-2015.pdf.PDF</td>\n",
       "      <td>Til Tilbudsgiverne\\r\\n\\r\\nBerigtigelse: EU-udb...</td>\n",
       "      <td>C:\\Users\\blunds\\OneDrive - Roskilde Universite...</td>\n",
       "      <td>til tilbudsgiverne berigtigelse eu udbud af be...</td>\n",
       "      <td>[til, tilbudsgiverne, berigtigelse, eu, udbud,...</td>\n",
       "      <td>[til, tilbudsgiver, berigtigelse, eu, udbud, a...</td>\n",
       "      <td>[virksomhedsoverdragelse, virksomhedsoverdrage...</td>\n",
       "    </tr>\n",
       "    <tr>\n",
       "      <th>24</th>\n",
       "      <td>141691-15_v1_Announcement.pdf.PDF</td>\n",
       "      <td>Svar på spørgsmål\\r\\nNavn\\r\\n\\r\\n27-07-2015 13...</td>\n",
       "      <td>C:\\Users\\blunds\\OneDrive - Roskilde Universite...</td>\n",
       "      <td>svar på spørgsmål navn 27 07 2015 13 55 spørgs...</td>\n",
       "      <td>[svar, på, spørgsmål, navn, 27, 07, 2015, 13, ...</td>\n",
       "      <td>[svar, på, spørgsmål, navn, 27, 07, 2015, 13, ...</td>\n",
       "      <td>[virksomhedsoverdragelse, virksomhedsoverdrage...</td>\n",
       "    </tr>\n",
       "    <tr>\n",
       "      <th>25</th>\n",
       "      <td>141693-15_v1_Announcement.pdf.PDF</td>\n",
       "      <td>Svar på spørgsmål\\r\\nNavn\\r\\n\\r\\nSpørgsmål-sva...</td>\n",
       "      <td>C:\\Users\\blunds\\OneDrive - Roskilde Universite...</td>\n",
       "      <td>svar på spørgsmål navn spørgsmål svar nr 10 be...</td>\n",
       "      <td>[svar, på, spørgsmål, navn, spørgsmål, svar, n...</td>\n",
       "      <td>[svar, på, spørgsmål, navn, spørgsmål, svar, n...</td>\n",
       "      <td>[virksomhedsoverdragelse]</td>\n",
       "    </tr>\n",
       "    <tr>\n",
       "      <th>26</th>\n",
       "      <td>141695-15_v1_Announcement.pdf.PDF</td>\n",
       "      <td>Svar på spørgsmål\\r\\nNavn\\r\\n\\r\\nSpørgsmål-sva...</td>\n",
       "      <td>C:\\Users\\blunds\\OneDrive - Roskilde Universite...</td>\n",
       "      <td>svar på spørgsmål navn spørgsmål svar nr 11 be...</td>\n",
       "      <td>[svar, på, spørgsmål, navn, spørgsmål, svar, n...</td>\n",
       "      <td>[svar, på, spørgsmål, navn, spørgsmål, svar, n...</td>\n",
       "      <td>[virksomhedsoverdragelse, virksomhedsoverdrage...</td>\n",
       "    </tr>\n",
       "    <tr>\n",
       "      <th>27</th>\n",
       "      <td>141696-15_v1_Announcement.pdf.PDF</td>\n",
       "      <td>Svar på spørgsmål\\r\\nNavn\\r\\n\\r\\nSpørgsmål-sva...</td>\n",
       "      <td>C:\\Users\\blunds\\OneDrive - Roskilde Universite...</td>\n",
       "      <td>svar på spørgsmål navn spørgsmål svar nr 12 be...</td>\n",
       "      <td>[svar, på, spørgsmål, navn, spørgsmål, svar, n...</td>\n",
       "      <td>[svar, på, spørgsmål, navn, spørgsmål, svar, n...</td>\n",
       "      <td>[virksomhedsoverdragelse, virksomhedsoverdrage...</td>\n",
       "    </tr>\n",
       "    <tr>\n",
       "      <th>28</th>\n",
       "      <td>udbudsbekendtgørelse.pdf</td>\n",
       "      <td>EUT/S S131\\r\\n10/07/2015\\r\\n241128-2015-DA\\r\\n...</td>\n",
       "      <td>C:\\Users\\blunds\\OneDrive - Roskilde Universite...</td>\n",
       "      <td>eut s s131 10 07 2015 241128 2015 da 1 4 denne...</td>\n",
       "      <td>[eut, s, s131, 10, 07, 2015, 241128, 2015, da,...</td>\n",
       "      <td>[eut, s, s131, 10, 07, 2015, 241128, 2015, da,...</td>\n",
       "      <td>[]</td>\n",
       "    </tr>\n",
       "    <tr>\n",
       "      <th>29</th>\n",
       "      <td>Udbudsmateriale EU-udbud nr. 2015S 044-076341.zip</td>\n",
       "      <td>incomplete escape \\U at position 2</td>\n",
       "      <td>C:\\Users\\blunds\\OneDrive - Roskilde Universite...</td>\n",
       "      <td>incomplete escape \\u at position 2</td>\n",
       "      <td>[incomplete, escape, \\u, at, position, 2]</td>\n",
       "      <td>[incomplete, escape, \\u, at, position, 2]</td>\n",
       "      <td>[]</td>\n",
       "    </tr>\n",
       "  </tbody>\n",
       "</table>\n",
       "</div>"
      ],
      "text/plain": [
       "                                             filename  \\\n",
       "0   Bilag 10 - Overenskomst for erhvervsuddannede ...   \n",
       "1   Bilag 11 - Overenskomst for rengøringsassisten...   \n",
       "2   Bilag 12 - Overenskomst for kontorpersonale og...   \n",
       "3   Bilag 13 - Overenskomst for husassistenter mel...   \n",
       "4   Bilag 14 - Aftale om lokal loendannelse for hu...   \n",
       "5   Bilag 15 - Forhåndsaftale mellem 3F og Helsing...   \n",
       "6   Bilag 16 - Retningslinjer personaleforhold  Re...   \n",
       "7         Bilag 5 - Besvarelsesark - Organisering.doc   \n",
       "8   Bilag 9 - Omfattede medarbejdere og individuel...   \n",
       "9             drive-download-20220330T131500Z-001.zip   \n",
       "10                           udbudsbekendtgørelse.pdf   \n",
       "11                  Udbudsbetingelser. Version 3.docx   \n",
       "12         En dokumentliste med parter og bilag 2.pdf   \n",
       "13           En dokumentliste med parter og bilag.pdf   \n",
       "14         Sagsudskrift af Delaftale 1 Østdanmark.pdf   \n",
       "15        Sagsudskrift af Delaftale 2 Vestdanmark.pdf   \n",
       "16                           udbudsbekendtgørelse.pdf   \n",
       "17                     Udbudsbetingelser v1 (002).pdf   \n",
       "18  141674-15_v1_Bilag 1-4 i word  endelig  18-02-...   \n",
       "19  141675-15_v1_SchemaBefordring til Sundhedscent...   \n",
       "20  141676-15_v1_TenderProtocol_Befordring til Sun...   \n",
       "21  141677-15_v1_TenderReport_Befordring til Sundh...   \n",
       "22      141679-15_v1_Udbudsmateriale  endelig.pdf.PDF   \n",
       "23      141680-15_v1_Berigtigelse  25-03-2015.pdf.PDF   \n",
       "24                  141691-15_v1_Announcement.pdf.PDF   \n",
       "25                  141693-15_v1_Announcement.pdf.PDF   \n",
       "26                  141695-15_v1_Announcement.pdf.PDF   \n",
       "27                  141696-15_v1_Announcement.pdf.PDF   \n",
       "28                           udbudsbekendtgørelse.pdf   \n",
       "29  Udbudsmateriale EU-udbud nr. 2015S 044-076341.zip   \n",
       "\n",
       "                                                 text  \\\n",
       "0   The command `pdftotext C:\\Users\\blunds\\OneDriv...   \n",
       "1   O.13 Overenskomst for rengøringsassistenter\\r\\...   \n",
       "2   The command `pdftotext C:\\Users\\blunds\\OneDriv...   \n",
       "3   O.13 Overenskomst for husassistenter\\r\\n\\r\\nTi...   \n",
       "4   O.13 Aftale om lokal løndannelse for hus/ren-o...   \n",
       "5   The command `tesseract C:\\Users\\blunds\\OneDriv...   \n",
       "6   Side 1\\n\\n\\n\\n\\n\\n\\n\\n\\n\\n\\n\\n \\n\\n\\n\\nUnderbi...   \n",
       "7   \\r\\nTilbudsgivers navn:\\r\\n\\r\\n\\r\\n\\r\\nBesvare...   \n",
       "8    Virksomhedsoverdragelses nr.  Startdato   Sto...   \n",
       "9                  incomplete escape \\U at position 2   \n",
       "10  EUT/S S36\\r\\n20/02/2015\\r\\n61613-2015-DA\\r\\n\\r...   \n",
       "11  Udbudsbetingelser til udbud af rengøring i Hel...   \n",
       "12  8. april 2022\\r\\n\\r\\nDokumentliste\\r\\nParter o...   \n",
       "13  8. april 2022\\r\\n\\r\\nDokumentliste\\r\\nParter o...   \n",
       "14  11. april 2022\\r\\n\\r\\nSag\\r\\nTitel:\\r\\n\\r\\nDel...   \n",
       "15  11. april 2022\\r\\n\\r\\nSag\\r\\nTitel:\\r\\n\\r\\nDel...   \n",
       "16  EUT/S S190\\r\\n03/10/2014\\r\\n335513-2014-DA\\r\\n...   \n",
       "17  Aftale om drift og vedligehold af tekniske bas...   \n",
       "18  Bilag 1 – Erklæringer om udelukkelse og gæld t...   \n",
       "19  UDBUDSBEKENDTGØRELSE\\r\\n\\r\\nDEL I: ORDREGIVEND...   \n",
       "20  The command `pdftotext C:\\Users\\blunds\\OneDriv...   \n",
       "21  The command `pdftotext C:\\Users\\blunds\\OneDriv...   \n",
       "22  EU udbud af\\r\\nBefordring til Sundhedscenter,\\...   \n",
       "23  Til Tilbudsgiverne\\r\\n\\r\\nBerigtigelse: EU-udb...   \n",
       "24  Svar på spørgsmål\\r\\nNavn\\r\\n\\r\\n27-07-2015 13...   \n",
       "25  Svar på spørgsmål\\r\\nNavn\\r\\n\\r\\nSpørgsmål-sva...   \n",
       "26  Svar på spørgsmål\\r\\nNavn\\r\\n\\r\\nSpørgsmål-sva...   \n",
       "27  Svar på spørgsmål\\r\\nNavn\\r\\n\\r\\nSpørgsmål-sva...   \n",
       "28  EUT/S S131\\r\\n10/07/2015\\r\\n241128-2015-DA\\r\\n...   \n",
       "29                 incomplete escape \\U at position 2   \n",
       "\n",
       "                                              filedir  \\\n",
       "0   C:\\Users\\blunds\\OneDrive - Roskilde Universite...   \n",
       "1   C:\\Users\\blunds\\OneDrive - Roskilde Universite...   \n",
       "2   C:\\Users\\blunds\\OneDrive - Roskilde Universite...   \n",
       "3   C:\\Users\\blunds\\OneDrive - Roskilde Universite...   \n",
       "4   C:\\Users\\blunds\\OneDrive - Roskilde Universite...   \n",
       "5   C:\\Users\\blunds\\OneDrive - Roskilde Universite...   \n",
       "6   C:\\Users\\blunds\\OneDrive - Roskilde Universite...   \n",
       "7   C:\\Users\\blunds\\OneDrive - Roskilde Universite...   \n",
       "8   C:\\Users\\blunds\\OneDrive - Roskilde Universite...   \n",
       "9   C:\\Users\\blunds\\OneDrive - Roskilde Universite...   \n",
       "10  C:\\Users\\blunds\\OneDrive - Roskilde Universite...   \n",
       "11  C:\\Users\\blunds\\OneDrive - Roskilde Universite...   \n",
       "12  C:\\Users\\blunds\\OneDrive - Roskilde Universite...   \n",
       "13  C:\\Users\\blunds\\OneDrive - Roskilde Universite...   \n",
       "14  C:\\Users\\blunds\\OneDrive - Roskilde Universite...   \n",
       "15  C:\\Users\\blunds\\OneDrive - Roskilde Universite...   \n",
       "16  C:\\Users\\blunds\\OneDrive - Roskilde Universite...   \n",
       "17  C:\\Users\\blunds\\OneDrive - Roskilde Universite...   \n",
       "18  C:\\Users\\blunds\\OneDrive - Roskilde Universite...   \n",
       "19  C:\\Users\\blunds\\OneDrive - Roskilde Universite...   \n",
       "20  C:\\Users\\blunds\\OneDrive - Roskilde Universite...   \n",
       "21  C:\\Users\\blunds\\OneDrive - Roskilde Universite...   \n",
       "22  C:\\Users\\blunds\\OneDrive - Roskilde Universite...   \n",
       "23  C:\\Users\\blunds\\OneDrive - Roskilde Universite...   \n",
       "24  C:\\Users\\blunds\\OneDrive - Roskilde Universite...   \n",
       "25  C:\\Users\\blunds\\OneDrive - Roskilde Universite...   \n",
       "26  C:\\Users\\blunds\\OneDrive - Roskilde Universite...   \n",
       "27  C:\\Users\\blunds\\OneDrive - Roskilde Universite...   \n",
       "28  C:\\Users\\blunds\\OneDrive - Roskilde Universite...   \n",
       "29  C:\\Users\\blunds\\OneDrive - Roskilde Universite...   \n",
       "\n",
       "                                           clean_text  \\\n",
       "0   the command pdftotext c \\users\\blunds\\onedrive...   \n",
       "1   o 13 overenskomst for rengøringsassistenter ti...   \n",
       "2   the command pdftotext c \\users\\blunds\\onedrive...   \n",
       "3   o 13 overenskomst for husassistenter titel sta...   \n",
       "4   o 13 aftale om lokal løndannelse for hus ren o...   \n",
       "5   the command tesseract c \\users\\blunds\\onedrive...   \n",
       "6   side 1 underbilag bilag xd retningslinjer pers...   \n",
       "7    tilbudsgivers navn besvarelsesark til underkr...   \n",
       "8    virksomhedsoverdragelses nr startdato stopdat...   \n",
       "9                  incomplete escape \\u at position 2   \n",
       "10  eut s s36 20 02 2015 61613 2015 da 1 4 denne b...   \n",
       "11  udbudsbetingelser til udbud af rengøring i hel...   \n",
       "12  8 april 2022 dokumentliste parter og bilag dok...   \n",
       "13  8 april 2022 dokumentliste parter og bilag dok...   \n",
       "14  11 april 2022 sag titel delaftale 1 østdanmark...   \n",
       "15  11 april 2022 sag titel delaftale 2 vestdanmar...   \n",
       "16  eut s s190 03 10 2014 335513 2014 da 1 10 denn...   \n",
       "17  aftale om drift og vedligehold af tekniske bas...   \n",
       "18  bilag 1 – erklæringer om udelukkelse og gæld t...   \n",
       "19  udbudsbekendtgørelse del i ordregivende myndig...   \n",
       "20  the command pdftotext c \\users\\blunds\\onedrive...   \n",
       "21  the command pdftotext c \\users\\blunds\\onedrive...   \n",
       "22  eu udbud af befordring til sundhedscenter akti...   \n",
       "23  til tilbudsgiverne berigtigelse eu udbud af be...   \n",
       "24  svar på spørgsmål navn 27 07 2015 13 55 spørgs...   \n",
       "25  svar på spørgsmål navn spørgsmål svar nr 10 be...   \n",
       "26  svar på spørgsmål navn spørgsmål svar nr 11 be...   \n",
       "27  svar på spørgsmål navn spørgsmål svar nr 12 be...   \n",
       "28  eut s s131 10 07 2015 241128 2015 da 1 4 denne...   \n",
       "29                 incomplete escape \\u at position 2   \n",
       "\n",
       "                                                 word  \\\n",
       "0   [the, command, pdftotext, c, \\users\\blunds\\one...   \n",
       "1   [o, 13, overenskomst, for, rengøringsassistent...   \n",
       "2   [the, command, pdftotext, c, \\users\\blunds\\one...   \n",
       "3   [o, 13, overenskomst, for, husassistenter, tit...   \n",
       "4   [o, 13, aftale, om, lokal, løndannelse, for, h...   \n",
       "5   [the, command, tesseract, c, \\users\\blunds\\one...   \n",
       "6   [side, 1, underbilag, bilag, xd, retningslinje...   \n",
       "7   [tilbudsgivers, navn, besvarelsesark, til, und...   \n",
       "8   [virksomhedsoverdragelses, nr, startdato, stop...   \n",
       "9           [incomplete, escape, \\u, at, position, 2]   \n",
       "10  [eut, s, s36, 20, 02, 2015, 61613, 2015, da, 1...   \n",
       "11  [udbudsbetingelser, til, udbud, af, rengøring,...   \n",
       "12  [8, april, 2022, dokumentliste, parter, og, bi...   \n",
       "13  [8, april, 2022, dokumentliste, parter, og, bi...   \n",
       "14  [11, april, 2022, sag, titel, delaftale, 1, øs...   \n",
       "15  [11, april, 2022, sag, titel, delaftale, 2, ve...   \n",
       "16  [eut, s, s190, 03, 10, 2014, 335513, 2014, da,...   \n",
       "17  [aftale, om, drift, og, vedligehold, af, tekni...   \n",
       "18  [bilag, 1, –, erklæringer, om, udelukkelse, og...   \n",
       "19  [udbudsbekendtgørelse, del, i, ordregivende, m...   \n",
       "20  [the, command, pdftotext, c, \\users\\blunds\\one...   \n",
       "21  [the, command, pdftotext, c, \\users\\blunds\\one...   \n",
       "22  [eu, udbud, af, befordring, til, sundhedscente...   \n",
       "23  [til, tilbudsgiverne, berigtigelse, eu, udbud,...   \n",
       "24  [svar, på, spørgsmål, navn, 27, 07, 2015, 13, ...   \n",
       "25  [svar, på, spørgsmål, navn, spørgsmål, svar, n...   \n",
       "26  [svar, på, spørgsmål, navn, spørgsmål, svar, n...   \n",
       "27  [svar, på, spørgsmål, navn, spørgsmål, svar, n...   \n",
       "28  [eut, s, s131, 10, 07, 2015, 241128, 2015, da,...   \n",
       "29          [incomplete, escape, \\u, at, position, 2]   \n",
       "\n",
       "                                                lemmy  \\\n",
       "0   [the, command, pdftotext, c, \\users\\blunds\\one...   \n",
       "1   [o, 13, overenskomst, for, rengøringsassistent...   \n",
       "2   [the, command, pdftotext, c, \\users\\blunds\\one...   \n",
       "3   [o, 13, overenskomst, for, husassistent, titel...   \n",
       "4   [o, 13, aftale, om, lokal, løndannelse, for, h...   \n",
       "5   [the, command, tesseract, c, \\users\\blunds\\one...   \n",
       "6   [side, 1, underbilag, bilag, xd, retningslinje...   \n",
       "7   [tilbudsgiver, navn, besvarelsesark, til, unde...   \n",
       "8   [virksomhedsoverdragelse, nr, startdato, stopd...   \n",
       "9           [incomplete, escape, \\u, at, position, 2]   \n",
       "10  [eut, s, s36, 20, 02, 2015, 61613, 2015, da, 1...   \n",
       "11  [udbudsbetingelse, til, udbud, af, rengøring, ...   \n",
       "12  [8, april, 2022, dokumentliste, partere, og, b...   \n",
       "13  [8, april, 2022, dokumentliste, partere, og, b...   \n",
       "14  [11, april, 2022, sag, titel, delaftale, 1, øs...   \n",
       "15  [11, april, 2022, sag, titel, delaftale, 2, ve...   \n",
       "16  [eut, s, s190, 03, 10, 2014, 335513, 2014, da,...   \n",
       "17  [aftale, om, drifte, og, vedligehold, af, tekn...   \n",
       "18  [bilag, 1, –, erklæring, om, udelukkelse, og, ...   \n",
       "19  [udbudsbekendtgørelse, del, i, ordregive, mynd...   \n",
       "20  [the, command, pdftotext, c, \\users\\blunds\\one...   \n",
       "21  [the, command, pdftotext, c, \\users\\blunds\\one...   \n",
       "22  [eu, udbud, af, befordring, til, sundhedscente...   \n",
       "23  [til, tilbudsgiver, berigtigelse, eu, udbud, a...   \n",
       "24  [svar, på, spørgsmål, navn, 27, 07, 2015, 13, ...   \n",
       "25  [svar, på, spørgsmål, navn, spørgsmål, svar, n...   \n",
       "26  [svar, på, spørgsmål, navn, spørgsmål, svar, n...   \n",
       "27  [svar, på, spørgsmål, navn, spørgsmål, svar, n...   \n",
       "28  [eut, s, s131, 10, 07, 2015, 241128, 2015, da,...   \n",
       "29          [incomplete, escape, \\u, at, position, 2]   \n",
       "\n",
       "                  virksomhedsoverdragelse_2022_filter  \n",
       "0   [projekt\\virksomhedsoverdragelse\\dokument, pro...  \n",
       "1                                                  []  \n",
       "2   [projekt\\virksomhedsoverdragelse\\dokument, pro...  \n",
       "3                                                  []  \n",
       "4                                                  []  \n",
       "5          [projekt\\virksomhedsoverdragelse\\dokument]  \n",
       "6                                                  []  \n",
       "7                                                  []  \n",
       "8                           [virksomhedsoverdragelse]  \n",
       "9                                                  []  \n",
       "10  [virksomhedsoverdragelse, virksomhedsoverdrage...  \n",
       "11  [virksomhedsoverdragelse, virksomhedsoverdrage...  \n",
       "12                          [virksomhedsoverdragelse]  \n",
       "13                          [virksomhedsoverdragelse]  \n",
       "14  [virksomhedsoverdragelse, virksomhedsoverdrage...  \n",
       "15  [virksomhedsoverdragelse, virksomhedsoverdrage...  \n",
       "16  [virksomhedsoverdragelse, virksomhedsoverdrage...  \n",
       "17                          [virksomhedsoverdragelse]  \n",
       "18                                                 []  \n",
       "19                                                 []  \n",
       "20  [projekt\\virksomhedsoverdragelse\\dokument, pro...  \n",
       "21  [projekt\\virksomhedsoverdragelse\\dokument, pro...  \n",
       "22  [virksomhedsoverdragelse, virksomhedsoverdrage...  \n",
       "23  [virksomhedsoverdragelse, virksomhedsoverdrage...  \n",
       "24  [virksomhedsoverdragelse, virksomhedsoverdrage...  \n",
       "25                          [virksomhedsoverdragelse]  \n",
       "26  [virksomhedsoverdragelse, virksomhedsoverdrage...  \n",
       "27  [virksomhedsoverdragelse, virksomhedsoverdrage...  \n",
       "28                                                 []  \n",
       "29                                                 []  "
      ]
     },
     "execution_count": 35,
     "metadata": {},
     "output_type": "execute_result"
    }
   ],
   "source": [
    "corpusEkstra.head(30)"
   ]
  },
  {
   "cell_type": "code",
   "execution_count": 36,
   "id": "e5e5cbbc",
   "metadata": {
    "execution": {
     "iopub.execute_input": "2022-08-30T10:47:16.410490Z",
     "iopub.status.busy": "2022-08-30T10:47:16.409804Z",
     "iopub.status.idle": "2022-08-30T10:47:16.417971Z",
     "shell.execute_reply": "2022-08-30T10:47:16.416830Z",
     "shell.execute_reply.started": "2022-08-30T10:47:16.410433Z"
    }
   },
   "outputs": [],
   "source": [
    "frames = [corpus2, corpusEkstra]"
   ]
  },
  {
   "cell_type": "code",
   "execution_count": 37,
   "id": "cc89f6ce",
   "metadata": {
    "execution": {
     "iopub.execute_input": "2022-08-30T10:47:25.957478Z",
     "iopub.status.busy": "2022-08-30T10:47:25.956604Z",
     "iopub.status.idle": "2022-08-30T10:47:26.039237Z",
     "shell.execute_reply": "2022-08-30T10:47:26.038486Z",
     "shell.execute_reply.started": "2022-08-30T10:47:25.957416Z"
    }
   },
   "outputs": [],
   "source": [
    "corpus = pd.concat(frames)"
   ]
  },
  {
   "cell_type": "code",
   "execution_count": null,
   "id": "76f0f2fa",
   "metadata": {},
   "outputs": [],
   "source": [
    "corpus.tail(20)"
   ]
  },
  {
   "cell_type": "code",
   "execution_count": null,
   "id": "60a1c2e0",
   "metadata": {},
   "outputs": [],
   "source": []
  },
  {
   "cell_type": "markdown",
   "id": "a9a60b6e",
   "metadata": {},
   "source": [
    "## Tema"
   ]
  },
  {
   "cell_type": "code",
   "execution_count": 32,
   "id": "cc458edb",
   "metadata": {},
   "outputs": [],
   "source": [
    "regel_1 = [\"virksomhedsoverdragelsesloven\", \"bekendtgørelsen om virksomhedsoverdragelse\", \"vol\", \"udbudsregel\", \"udbudsregler\", \"udbudsloven\"]"
   ]
  },
  {
   "cell_type": "code",
   "execution_count": 27,
   "id": "6746f7dd",
   "metadata": {},
   "outputs": [
    {
     "data": {
      "text/plain": [
       "['Virksomhedsoverdragelsesloven',\n",
       " 'bekendtgørelsen om virksomhedsoverdragelse',\n",
       " 'vol',\n",
       " 'udbudsregel',\n",
       " 'udbudsregler',\n",
       " 'udbudsloven']"
      ]
     },
     "execution_count": 27,
     "metadata": {},
     "output_type": "execute_result"
    }
   ],
   "source": [
    "regel_1"
   ]
  },
  {
   "cell_type": "code",
   "execution_count": null,
   "id": "05f1dbe0",
   "metadata": {},
   "outputs": [],
   "source": [
    "def Filter1(clean_text, regel_1):\n",
    "    regel_1 = ('|'.join(regel_1))\n",
    "    clean_text = re.findall(regel_1, clean_text)\n",
    "    return clean_text"
   ]
  },
  {
   "cell_type": "code",
   "execution_count": 72,
   "id": "b3fdbf3f",
   "metadata": {},
   "outputs": [],
   "source": [
    "regel_2 = [\"virksomhedsoverdrag\"]"
   ]
  },
  {
   "cell_type": "code",
   "execution_count": 73,
   "id": "394a471b",
   "metadata": {},
   "outputs": [
    {
     "data": {
      "text/plain": [
       "['virksomhedsoverdrag']"
      ]
     },
     "execution_count": 73,
     "metadata": {},
     "output_type": "execute_result"
    }
   ],
   "source": [
    "regel_2"
   ]
  },
  {
   "cell_type": "code",
   "execution_count": 74,
   "id": "40e1a6d1",
   "metadata": {},
   "outputs": [],
   "source": [
    "stopord_2 = ['virksomhedsoverdragelsesloven', 'virksomhedsoverdragelseslov']"
   ]
  },
  {
   "cell_type": "code",
   "execution_count": 75,
   "id": "e0394f75",
   "metadata": {},
   "outputs": [],
   "source": [
    "def Filter2(lemmy, regel_2, stopord_2):\n",
    "    stopwords = [n for n in lemmy if\n",
    "             any(m in n for m in stopord_2)]\n",
    "    lemmy= [n for n in lemmy if\n",
    "             any(m in n for m in regel_2)\n",
    "           if n not in (stopord_2)]\n",
    "    return lemmy"
   ]
  },
  {
   "cell_type": "code",
   "execution_count": 47,
   "id": "c75a86a1",
   "metadata": {},
   "outputs": [],
   "source": [
    "regel_3 = [\"direktiv\"]"
   ]
  },
  {
   "cell_type": "code",
   "execution_count": 48,
   "id": "b4aa00c9",
   "metadata": {},
   "outputs": [],
   "source": [
    "def Filter3(lemmy, regel_3):\n",
    "    return [n for n in lemmy if\n",
    "             any(m in n for m in regel_3)]"
   ]
  },
  {
   "cell_type": "code",
   "execution_count": 57,
   "id": "8c45f009",
   "metadata": {},
   "outputs": [],
   "source": [
    "regel_4 = ['bekendtgørelsen om udbyderansvar']"
   ]
  },
  {
   "cell_type": "code",
   "execution_count": 59,
   "id": "e8f6e63e",
   "metadata": {},
   "outputs": [],
   "source": [
    "def Filter4(clean_text, regel_4):\n",
    "    regel_4 = ('|'.join(regel_4))\n",
    "    clean_text = re.findall(regel_4, clean_text)\n",
    "    return clean_text"
   ]
  },
  {
   "cell_type": "code",
   "execution_count": 88,
   "id": "1fcdaafe",
   "metadata": {},
   "outputs": [],
   "source": [
    "regel_5 = [' kto', 'ansættelsesbevislov', 'ansættelsesbevisloven']"
   ]
  },
  {
   "cell_type": "code",
   "execution_count": 89,
   "id": "1d84d04e",
   "metadata": {},
   "outputs": [],
   "source": [
    "def Filter5(clean_text, regel_5):\n",
    "    regel_5 = ('|'.join(regel_5))\n",
    "    clean_text = re.findall(regel_5, clean_text)\n",
    "    return clean_text"
   ]
  },
  {
   "cell_type": "code",
   "execution_count": 80,
   "id": "1776719d",
   "metadata": {},
   "outputs": [],
   "source": [
    "regel_6_1 = ['med udvalg', 'medudvalg', 'med udvalget', 'medudvalget']"
   ]
  },
  {
   "cell_type": "code",
   "execution_count": 81,
   "id": "c13cd2d1",
   "metadata": {},
   "outputs": [],
   "source": [
    "def Filter6_1(clean_text, regel_6_1):\n",
    "    regel_6_1 = ('|'.join(regel_6_1))\n",
    "    clean_text = re.findall(regel_6_1, clean_text)\n",
    "    return clean_text"
   ]
  },
  {
   "cell_type": "code",
   "execution_count": 82,
   "id": "90facff1",
   "metadata": {},
   "outputs": [],
   "source": [
    "regel_6_2 = ['medarbejderrepræsentant', 'medindflyd', 'medarbejderhåndbog', 'vidensdeling']"
   ]
  },
  {
   "cell_type": "code",
   "execution_count": 83,
   "id": "1ed02683",
   "metadata": {},
   "outputs": [],
   "source": [
    "def Filter6_2(lemmy, regel_6_2):\n",
    "    return [n for n in lemmy if\n",
    "             any(m in n for m in regel_6_2)]"
   ]
  },
  {
   "cell_type": "code",
   "execution_count": 96,
   "id": "9eca1416",
   "metadata": {},
   "outputs": [],
   "source": [
    "regel_7 = ['arbejdsklausul', 'arbejdsmiljø', 'personalepolitik', 'arbejdstilsyn', 'beskæftigelsesministeri', 'indenrigsministeri', 'ansættelsesforhold', 'certificering', 'miljøstyrelse']"
   ]
  },
  {
   "cell_type": "code",
   "execution_count": 97,
   "id": "d6df129c",
   "metadata": {},
   "outputs": [],
   "source": [
    "def Filter7(lemmy, regel_7):\n",
    "    return [n for n in lemmy if\n",
    "             any(m in n for m in regel_7)]"
   ]
  },
  {
   "cell_type": "code",
   "execution_count": 104,
   "id": "720d166a",
   "metadata": {},
   "outputs": [],
   "source": [
    "regel_8 = ['løn og ansættelsesforhold ', 'løn og ansættelsesforholdet', 'løn og arbejdsvilkår', 'overenskomst', 'overenskomster', \"overenskomsten\" ]"
   ]
  },
  {
   "cell_type": "code",
   "execution_count": 101,
   "id": "c96e8263",
   "metadata": {},
   "outputs": [],
   "source": [
    "def Filter8(clean_text, regel_8):\n",
    "    regel_8 = ('|'.join(regel_8))\n",
    "    clean_text = re.findall(regel_8, clean_text)\n",
    "    return clean_text"
   ]
  },
  {
   "cell_type": "code",
   "execution_count": 105,
   "id": "3237333b",
   "metadata": {},
   "outputs": [],
   "source": [
    "regel_9_1 = ['ensidigt gentaget arbejde', ' ega', 'tung løft', 'job tilfredshed']"
   ]
  },
  {
   "cell_type": "code",
   "execution_count": 106,
   "id": "087b0170",
   "metadata": {},
   "outputs": [],
   "source": [
    "regel_9_2 = ['sygefravær', 'personaleomsætning', 'arbejdsulykke', 'fysisk', 'psykisk', 'sundhed', 'arbejdstid', 'mobning', 'sexchikane', 'overbelastning', 'miljømærk', 'allergimærk', 'ergono', 'nedslid', 'udbrænd', \"jobtilfreds\"]"
   ]
  },
  {
   "cell_type": "code",
   "execution_count": 107,
   "id": "ee791666",
   "metadata": {},
   "outputs": [],
   "source": [
    "def Filter9_1(clean_text, regel_9_1):\n",
    "    regel_9_1 = ('|'.join(regel_9_1))\n",
    "    clean_text = re.findall(regel_9_1, clean_text)\n",
    "    return clean_text"
   ]
  },
  {
   "cell_type": "code",
   "execution_count": 108,
   "id": "79e68f4d",
   "metadata": {},
   "outputs": [],
   "source": [
    "def Filter9_2(lemmy, regel_9_2):\n",
    "    return [n for n in lemmy if\n",
    "             any(m in n for m in regel_9_2)]"
   ]
  },
  {
   "cell_type": "code",
   "execution_count": 113,
   "id": "6dc74820",
   "metadata": {},
   "outputs": [],
   "source": [
    "regel_10_1 = [' aml', ' emas', 'ecomanagement and audit scheme ', 'eco management and audit scheme']"
   ]
  },
  {
   "cell_type": "code",
   "execution_count": 114,
   "id": "0e127953",
   "metadata": {},
   "outputs": [],
   "source": [
    "regel_10_2 = ['certifikat', 'arbejdsmiljøledelse', 'smiley', 'miljøvejvis']"
   ]
  },
  {
   "cell_type": "code",
   "execution_count": 117,
   "id": "ea39f29d",
   "metadata": {},
   "outputs": [],
   "source": [
    "def Filter10_1(clean_text, regel_10_1):\n",
    "    regel_10_1 = ('|'.join(regel_10_1))\n",
    "    clean_text = re.findall(regel_10_1, clean_text)\n",
    "    return clean_text"
   ]
  },
  {
   "cell_type": "code",
   "execution_count": 118,
   "id": "b4d6a9d9",
   "metadata": {},
   "outputs": [],
   "source": [
    "def Filter10_2(lemmy, regel_10_2):\n",
    "    return [n for n in lemmy if\n",
    "             any(m in n for m in regel_10_2)]"
   ]
  },
  {
   "cell_type": "code",
   "execution_count": 124,
   "id": "d7049ae3",
   "metadata": {},
   "outputs": [],
   "source": [
    "regel_11_1 = ['social klausul ', 'sociale klausuler ', 'social ansvar', 'socialt ansvar', 'socialt medansvar', 'global compact', ' csr', \"corporate social responsibility\", 'særlige vilkår' ]"
   ]
  },
  {
   "cell_type": "code",
   "execution_count": 125,
   "id": "bd2e81ab",
   "metadata": {},
   "outputs": [],
   "source": [
    "regel_11_2 = ['etik', 'ligestilling', 'diskrimination', 'diversitet', 'langtidsledig', 'samfundsansvar', 'etnisk' ]"
   ]
  },
  {
   "cell_type": "code",
   "execution_count": 126,
   "id": "502abb2b",
   "metadata": {},
   "outputs": [],
   "source": [
    "def Filter11_1(clean_text, regel_11_1):\n",
    "    regel_11_1 = ('|'.join(regel_11_1))\n",
    "    clean_text = re.findall(regel_11_1, clean_text)\n",
    "    return clean_text"
   ]
  },
  {
   "cell_type": "code",
   "execution_count": 127,
   "id": "2b0ecdda",
   "metadata": {},
   "outputs": [],
   "source": [
    "def Filter11_2(lemmy, regel_11_2):\n",
    "    return [n for n in lemmy if\n",
    "             any(m in n for m in regel_11_2)]"
   ]
  },
  {
   "cell_type": "code",
   "execution_count": 138,
   "id": "a29724fd",
   "metadata": {},
   "outputs": [],
   "source": [
    "regel_12 = ['fasthold']"
   ]
  },
  {
   "cell_type": "code",
   "execution_count": 144,
   "id": "dbfab35b",
   "metadata": {},
   "outputs": [],
   "source": [
    "def Filter12(lemmy, regel_12):\n",
    "    return [n for n in lemmy if\n",
    "             any(m in n for m in regel_12)]"
   ]
  },
  {
   "cell_type": "code",
   "execution_count": 141,
   "id": "d9d02f90",
   "metadata": {},
   "outputs": [],
   "source": [
    "regel_13 = ['uddannelsesklausul', 'videreuddannelse', 'kurser', 'kursus', 'praktik', 'lærling', 'mentor', 'uddannelsespolitik', 'kompetenceudvikling', 'elev', 'opkvalificer', 'oplære', 'træning']"
   ]
  },
  {
   "cell_type": "code",
   "execution_count": 143,
   "id": "a24379c2",
   "metadata": {},
   "outputs": [],
   "source": [
    "def Filter13(lemmy, regel_13):\n",
    "    return [n for n in lemmy if\n",
    "             any(m in n for m in regel_13)]"
   ]
  },
  {
   "cell_type": "code",
   "execution_count": 158,
   "id": "861e98af",
   "metadata": {},
   "outputs": [],
   "source": [
    "regel_14_1 = [' mus']"
   ]
  },
  {
   "cell_type": "code",
   "execution_count": 151,
   "id": "fe006618",
   "metadata": {},
   "outputs": [],
   "source": [
    "regel_14_2 = ['medarbejderudviklingssamtal']"
   ]
  },
  {
   "cell_type": "code",
   "execution_count": 152,
   "id": "6573530d",
   "metadata": {},
   "outputs": [],
   "source": [
    "def Filter14_1(clean_text, regel_14_1):\n",
    "    regel_14_1 = ('|'.join(regel_14_1))\n",
    "    clean_text = re.findall(regel_14_1, clean_text)\n",
    "    return clean_text"
   ]
  },
  {
   "cell_type": "code",
   "execution_count": 153,
   "id": "e7d8a7a3",
   "metadata": {},
   "outputs": [],
   "source": [
    "def Filter14_2(lemmy, regel_14_2):\n",
    "    return [n for n in lemmy if\n",
    "             any(m in n for m in regel_14_2)]"
   ]
  },
  {
   "cell_type": "code",
   "execution_count": 159,
   "id": "7784063d",
   "metadata": {},
   "outputs": [],
   "source": [
    "regel_15 = [' ilo', 'international labour organisation']"
   ]
  },
  {
   "cell_type": "code",
   "execution_count": 160,
   "id": "5c586125",
   "metadata": {},
   "outputs": [],
   "source": [
    "def Filter15(clean_text, regel_15):\n",
    "    regel_15 = ('|'.join(regel_15))\n",
    "    clean_text = re.findall(regel_15, clean_text)\n",
    "    return clean_text"
   ]
  },
  {
   "cell_type": "code",
   "execution_count": 171,
   "id": "cd7f5e71",
   "metadata": {},
   "outputs": [],
   "source": [
    "regel_16 = ['tvangsarbejde', 'ilokonvention', 'ilo konvention']"
   ]
  },
  {
   "cell_type": "code",
   "execution_count": 172,
   "id": "12820c47",
   "metadata": {},
   "outputs": [],
   "source": [
    "def Filter16(clean_text, regel_16):\n",
    "    regel_16 = ('|'.join(regel_16))\n",
    "    clean_text = re.findall(regel_16, clean_text)\n",
    "    return clean_text"
   ]
  },
  {
   "cell_type": "code",
   "execution_count": 185,
   "id": "88e51d32",
   "metadata": {},
   "outputs": [],
   "source": [
    "regel_17 = ['kontrakthavers pligt til at sikre dennes ansattes vilkår', 'ilokonventionen nr 94', 'ilo konventionen nr 94']"
   ]
  },
  {
   "cell_type": "code",
   "execution_count": 180,
   "id": "15017ebe",
   "metadata": {},
   "outputs": [],
   "source": [
    "def Filter17(clean_text, regel_17):\n",
    "    regel_17 = ('|'.join(regel_17))\n",
    "    clean_text = re.findall(regel_17, clean_text)\n",
    "    return clean_text"
   ]
  },
  {
   "cell_type": "code",
   "execution_count": 184,
   "id": "be694f88",
   "metadata": {},
   "outputs": [],
   "source": [
    "regel_18 = ['ingen diskrimination i ansættelsen', 'ilokonvention nr 100', 'ilo konvention nr 100']"
   ]
  },
  {
   "cell_type": "code",
   "execution_count": 186,
   "id": "d87c578d",
   "metadata": {},
   "outputs": [],
   "source": [
    "def Filter18(clean_text, regel_18):\n",
    "    regel_18 = ('|'.join(regel_18))\n",
    "    clean_text = re.findall(regel_18, clean_text)\n",
    "    return clean_text"
   ]
  },
  {
   "cell_type": "code",
   "execution_count": 189,
   "id": "4a8b47a4",
   "metadata": {},
   "outputs": [],
   "source": [
    "regel_19 = ['mindstealder for adgang til beskæftigelse samt forbud mod og omgående indsats til afskaffelse af de værste former for børnearbejde', 'ilokonvention nr 138', 'ilo konvention nr 138']"
   ]
  },
  {
   "cell_type": "code",
   "execution_count": 190,
   "id": "8c79f18d",
   "metadata": {},
   "outputs": [],
   "source": [
    "def Filter19(clean_text, regel_19):\n",
    "    regel_19 = ('|'.join(regel_19))\n",
    "    clean_text = re.findall(regel_19, clean_text)\n",
    "    return clean_text"
   ]
  },
  {
   "cell_type": "code",
   "execution_count": 193,
   "id": "f9d7d8e6",
   "metadata": {},
   "outputs": [],
   "source": [
    "regel_20 = ['sikkert og sundt arbejdsmiljø', 'ilokonvention nr 155', 'ilo konvention nr 155']"
   ]
  },
  {
   "cell_type": "code",
   "execution_count": 194,
   "id": "624c7a57",
   "metadata": {},
   "outputs": [],
   "source": [
    "def Filter20(clean_text, regel_20):\n",
    "    regel_20 = ('|'.join(regel_20))\n",
    "    clean_text = re.findall(regel_20, clean_text)\n",
    "    return clean_text"
   ]
  },
  {
   "cell_type": "code",
   "execution_count": 213,
   "id": "ed96edde",
   "metadata": {},
   "outputs": [],
   "source": [
    "regel_21 = ['organisationsfrihed og ret til kollektive forhandlinger', 'ilokonvention nr 87', 'ilo konvention nr 87']"
   ]
  },
  {
   "cell_type": "code",
   "execution_count": 214,
   "id": "db922ce9",
   "metadata": {},
   "outputs": [],
   "source": [
    "def Filter21(clean_text, regel_21):\n",
    "    regel_21 = ('|'.join(regel_21))\n",
    "    clean_text = re.findall(regel_21, clean_text)\n",
    "    return clean_text"
   ]
  },
  {
   "cell_type": "code",
   "execution_count": 219,
   "id": "7bebb93a",
   "metadata": {},
   "outputs": [],
   "source": [
    "regel_22 = ['ansættelsespapir ', 'ansættelsesbrev', 'arbejdsbrev', 'ansættelseskontrakter', 'ansættelsesbevis']"
   ]
  },
  {
   "cell_type": "code",
   "execution_count": 220,
   "id": "a39f717a",
   "metadata": {},
   "outputs": [],
   "source": [
    "def Filter22(lemmy, regel_22):\n",
    "    return [n for n in lemmy if\n",
    "             any(m in n for m in regel_22)]"
   ]
  },
  {
   "cell_type": "code",
   "execution_count": 209,
   "id": "b60de4c2",
   "metadata": {},
   "outputs": [],
   "source": [
    "regel_23_1 = ['liste med medarbejdere', 'oversigt over medarbejde', 'cpr']"
   ]
  },
  {
   "cell_type": "code",
   "execution_count": 210,
   "id": "3cfd321e",
   "metadata": {},
   "outputs": [],
   "source": [
    "regel_23_2 = ['medarbejderoversigt', 'afspadsering', 'barsel']"
   ]
  },
  {
   "cell_type": "code",
   "execution_count": 225,
   "id": "4e67a2ef",
   "metadata": {},
   "outputs": [],
   "source": [
    "def Filter23_1(clean_text, regel_23_1):\n",
    "    regel_23_1 = ('|'.join(regel_23_1))\n",
    "    clean_text = re.findall(regel_23_1, clean_text)\n",
    "    return clean_text"
   ]
  },
  {
   "cell_type": "code",
   "execution_count": 226,
   "id": "cdbed891",
   "metadata": {},
   "outputs": [],
   "source": [
    "def Filter23_2(lemmy, regel_23_2):\n",
    "    return [n for n in lemmy if\n",
    "             any(m in n for m in regel_23_2)]"
   ]
  },
  {
   "cell_type": "code",
   "execution_count": 223,
   "id": "66871925",
   "metadata": {},
   "outputs": [],
   "source": [
    "regel_24_1 = ['forsikring af medarbejde', 'forsikring af ansatte', 'forsikring af person']"
   ]
  },
  {
   "cell_type": "code",
   "execution_count": 224,
   "id": "2b43f16c",
   "metadata": {},
   "outputs": [],
   "source": [
    "regel_24_2 = ['ansvarsforsikring', 'arbejdsskadeforsikring']"
   ]
  },
  {
   "cell_type": "code",
   "execution_count": 227,
   "id": "2a2eb079",
   "metadata": {},
   "outputs": [],
   "source": [
    "def Filter24_1(clean_text, regel_24_1):\n",
    "    regel_24_1 = ('|'.join(regel_24_1))\n",
    "    clean_text = re.findall(regel_24_1, clean_text)\n",
    "    return clean_text"
   ]
  },
  {
   "cell_type": "code",
   "execution_count": 228,
   "id": "7a3ebe82",
   "metadata": {},
   "outputs": [],
   "source": [
    "def Filter24_2(lemmy, regel_24_2):\n",
    "    return [n for n in lemmy if\n",
    "             any(m in n for m in regel_24_2)]"
   ]
  },
  {
   "cell_type": "code",
   "execution_count": 236,
   "id": "b1ec3f57",
   "metadata": {},
   "outputs": [],
   "source": [
    "regel_25_1 = ['ophævelse af kontrakt', 'ophæv kontrakt', 'ophæves kontrakt']"
   ]
  },
  {
   "cell_type": "code",
   "execution_count": 237,
   "id": "11c55230",
   "metadata": {},
   "outputs": [],
   "source": [
    "regel_25_2 = ['bod', 'sanktion', 'misligholdelse', 'bonus']"
   ]
  },
  {
   "cell_type": "code",
   "execution_count": 238,
   "id": "1b681ce7",
   "metadata": {},
   "outputs": [],
   "source": [
    "def Filter25_1(clean_text, regel_25_1):\n",
    "    regel_25_1 = ('|'.join(regel_25_1))\n",
    "    clean_text = re.findall(regel_25_1, clean_text)\n",
    "    return clean_text"
   ]
  },
  {
   "cell_type": "code",
   "execution_count": 239,
   "id": "40af597c",
   "metadata": {},
   "outputs": [],
   "source": [
    "def Filter25_2(lemmy, regel_25_2):\n",
    "    return [n for n in lemmy if\n",
    "             any(m in n for m in regel_25_2)]"
   ]
  },
  {
   "cell_type": "code",
   "execution_count": 244,
   "id": "231ea219",
   "metadata": {},
   "outputs": [],
   "source": [
    "regel_26 = ['samarbejd', 'medansvar', 'kommunik', 'tillid', 'dialog', 'møde', 'inddrage', 'fælles', 'informe', 'inddrage']"
   ]
  },
  {
   "cell_type": "code",
   "execution_count": 245,
   "id": "76f7d096",
   "metadata": {},
   "outputs": [],
   "source": [
    "def Filter26(lemmy, regel_26):\n",
    "    return [n for n in lemmy if\n",
    "             any(m in n for m in regel_26)]"
   ]
  },
  {
   "cell_type": "code",
   "execution_count": 248,
   "id": "cb10ca12",
   "metadata": {},
   "outputs": [],
   "source": [
    "regel_27 = ['teknologi', 'innov', 'udvikl']"
   ]
  },
  {
   "cell_type": "code",
   "execution_count": 252,
   "id": "bf67ba5c",
   "metadata": {},
   "outputs": [],
   "source": [
    "def get_context(text, w, left, right):\n",
    "    all_contexts = []\n",
    "    for i in range(len(text)):\n",
    "        if re.match(w,text[i], 0):\n",
    "            if i < left:\n",
    "                context_left = text[:i]\n",
    "            else:\n",
    "                context_left = text[i-left:i]\n",
    "            if len(text) < (i+right):\n",
    "                context_right = text[i:]\n",
    "            else:\n",
    "                context_right = text[i:(i+right+1)]\n",
    "            context = context_left + context_right\n",
    "            all_contexts.append(context)\n",
    "    return all_contexts"
   ]
  },
  {
   "cell_type": "code",
   "execution_count": 263,
   "id": "0d29facb",
   "metadata": {},
   "outputs": [],
   "source": [
    "regel_28 = ['opgave', 'materiale', 'person']"
   ]
  },
  {
   "cell_type": "code",
   "execution_count": 264,
   "id": "69287746",
   "metadata": {},
   "outputs": [],
   "source": [
    "def Filter28(lemmy, regel_28):\n",
    "    return [n for n in lemmy if\n",
    "             any(m in n for m in regel_28)]"
   ]
  },
  {
   "cell_type": "code",
   "execution_count": 267,
   "id": "ea2e3127",
   "metadata": {},
   "outputs": [],
   "source": [
    "regel_29 = ['dokument', 'oriente', 'opfølg', 'kontrolforanstaltning', 'tilsyn', 'lønsedl', 'eskat', 'lønregnskab', 'stikprøv', 'oplysningsforpligtelse']"
   ]
  },
  {
   "cell_type": "code",
   "execution_count": 268,
   "id": "f296cc0e",
   "metadata": {},
   "outputs": [],
   "source": [
    "def Filter29(lemmy, regel_29):\n",
    "    return [n for n in lemmy if\n",
    "             any(m in n for m in regel_29)]"
   ]
  },
  {
   "cell_type": "code",
   "execution_count": 271,
   "id": "a2f6ca2b",
   "metadata": {},
   "outputs": [],
   "source": [
    "regel_30 = ['fagforening', 'fagforeningen', 'fagforeninger', ' 3f', ' foa', ' hk', 'metal', ' oao', 'ny udbudsmodel', 'gentofte', 'treiét udbud', 'treiet udbud', 'tre i ét udbud', 'tre i et udbud']"
   ]
  },
  {
   "cell_type": "code",
   "execution_count": 272,
   "id": "558993a8",
   "metadata": {},
   "outputs": [],
   "source": [
    "def Filter30(clean_text, regel_30):\n",
    "    regel_30 = ('|'.join(regel_30))\n",
    "    clean_text = re.findall(regel_30, clean_text)\n",
    "    return clean_text"
   ]
  },
  {
   "cell_type": "code",
   "execution_count": 275,
   "id": "1e9df374",
   "metadata": {},
   "outputs": [],
   "source": [
    "regel_31 = ['seniorpolitik']"
   ]
  },
  {
   "cell_type": "code",
   "execution_count": 276,
   "id": "b103adac",
   "metadata": {},
   "outputs": [],
   "source": [
    "def Filter31(lemmy, regel_31):\n",
    "    return [n for n in lemmy if\n",
    "             any(m in n for m in regel_31)]"
   ]
  },
  {
   "cell_type": "code",
   "execution_count": 279,
   "id": "ed45d8c2",
   "metadata": {},
   "outputs": [],
   "source": [
    "regel_32_1 = [' rut', 'ophæv kontrakt']"
   ]
  },
  {
   "cell_type": "code",
   "execution_count": 280,
   "id": "024d6699",
   "metadata": {},
   "outputs": [],
   "source": [
    "regel_32_2 = ['underleverandør']"
   ]
  },
  {
   "cell_type": "code",
   "execution_count": 281,
   "id": "849ab0e2",
   "metadata": {},
   "outputs": [],
   "source": [
    "def Filter32_1(clean_text, regel_32_1):\n",
    "    regel_32_1 = ('|'.join(regel_32_1))\n",
    "    clean_text = re.findall(regel_32_1, clean_text)\n",
    "    return clean_text"
   ]
  },
  {
   "cell_type": "code",
   "execution_count": 282,
   "id": "3d513a96",
   "metadata": {},
   "outputs": [],
   "source": [
    "def Filter32_2(lemmy, regel_32_2):\n",
    "    return [n for n in lemmy if\n",
    "             any(m in n for m in regel_32_2)]"
   ]
  },
  {
   "cell_type": "code",
   "execution_count": 287,
   "id": "861ce03f",
   "metadata": {},
   "outputs": [],
   "source": [
    "regel_33 = ['refusion', 'refund']"
   ]
  },
  {
   "cell_type": "code",
   "execution_count": 288,
   "id": "58ac0600",
   "metadata": {},
   "outputs": [],
   "source": [
    "def Filter33(lemmy, regel_33):\n",
    "    return [n for n in lemmy if\n",
    "             any(m in n for m in regel_33)]"
   ]
  },
  {
   "cell_type": "code",
   "execution_count": 291,
   "id": "185f2a8e",
   "metadata": {},
   "outputs": [],
   "source": [
    "regel_34 = ['paragraf', '§']"
   ]
  },
  {
   "cell_type": "code",
   "execution_count": 292,
   "id": "bab5186d",
   "metadata": {},
   "outputs": [],
   "source": [
    "def Filter34(lemmy, regel_34):\n",
    "    return [n for n in lemmy if\n",
    "             any(m in n for m in regel_34)]"
   ]
  },
  {
   "cell_type": "code",
   "execution_count": null,
   "id": "fedc0932",
   "metadata": {},
   "outputs": [],
   "source": []
  },
  {
   "cell_type": "code",
   "execution_count": null,
   "id": "995bcbb9",
   "metadata": {},
   "outputs": [],
   "source": []
  },
  {
   "cell_type": "code",
   "execution_count": null,
   "id": "98aca39f",
   "metadata": {},
   "outputs": [],
   "source": []
  },
  {
   "cell_type": "code",
   "execution_count": null,
   "id": "f77e3cd4",
   "metadata": {},
   "outputs": [],
   "source": []
  },
  {
   "cell_type": "code",
   "execution_count": null,
   "id": "973b5877",
   "metadata": {},
   "outputs": [],
   "source": []
  },
  {
   "cell_type": "markdown",
   "id": "d3928649",
   "metadata": {},
   "source": [
    "## Søgninger"
   ]
  },
  {
   "cell_type": "code",
   "execution_count": 34,
   "id": "84f2d485",
   "metadata": {},
   "outputs": [],
   "source": [
    "corpus['tema_1'] = corpus.clean_text.apply(lambda x, y=regel_1 : Filter1(x, y))"
   ]
  },
  {
   "cell_type": "code",
   "execution_count": 76,
   "id": "43bf31fc",
   "metadata": {},
   "outputs": [],
   "source": [
    "corpus['tema_2'] = corpus.lemmy.apply(lambda x, y=regel_2, z=stopord_2 : Filter2(x, y, z))"
   ]
  },
  {
   "cell_type": "code",
   "execution_count": 50,
   "id": "9b159d30",
   "metadata": {},
   "outputs": [],
   "source": [
    "corpus['tema_3'] = corpus.lemmy.apply(lambda x, y=regel_3 : Filter3(x, y))"
   ]
  },
  {
   "cell_type": "code",
   "execution_count": 60,
   "id": "34e1d9e9",
   "metadata": {},
   "outputs": [],
   "source": [
    "corpus['tema_4'] = corpus.clean_text.apply(lambda x, y=regel_4 : Filter4(x, y))"
   ]
  },
  {
   "cell_type": "code",
   "execution_count": 90,
   "id": "a505cefc",
   "metadata": {},
   "outputs": [],
   "source": [
    "corpus['tema_5'] = corpus.clean_text.apply(lambda x, y=regel_5 : Filter5(x, y))"
   ]
  },
  {
   "cell_type": "code",
   "execution_count": 84,
   "id": "4448d403",
   "metadata": {},
   "outputs": [],
   "source": [
    "corpus['tema_6_1'] = corpus.clean_text.apply(lambda x, y=regel_6_1 : Filter6_1(x, y))"
   ]
  },
  {
   "cell_type": "code",
   "execution_count": 85,
   "id": "4c1d730b",
   "metadata": {},
   "outputs": [],
   "source": [
    "corpus['tema_6_2'] = corpus.lemmy.apply(lambda x, y=regel_6_2 : Filter6_2(x, y))"
   ]
  },
  {
   "cell_type": "code",
   "execution_count": 86,
   "id": "b02c4072",
   "metadata": {},
   "outputs": [],
   "source": [
    "corpus['tema_6'] = corpus['tema_6_1'] + corpus['tema_6_2']"
   ]
  },
  {
   "cell_type": "code",
   "execution_count": 98,
   "id": "065211d8",
   "metadata": {},
   "outputs": [],
   "source": [
    "corpus['tema_7'] = corpus.lemmy.apply(lambda x, y=regel_7 : Filter7(x, y))"
   ]
  },
  {
   "cell_type": "code",
   "execution_count": 102,
   "id": "c1e98170",
   "metadata": {},
   "outputs": [],
   "source": [
    "corpus['tema_8'] = corpus.clean_text.apply(lambda x, y=regel_8 : Filter8(x, y))"
   ]
  },
  {
   "cell_type": "code",
   "execution_count": 109,
   "id": "a1b86a75",
   "metadata": {},
   "outputs": [],
   "source": [
    "corpus['tema_9_1'] = corpus.clean_text.apply(lambda x, y=regel_9_1 : Filter9_1(x, y))"
   ]
  },
  {
   "cell_type": "code",
   "execution_count": 110,
   "id": "9c30d16d",
   "metadata": {},
   "outputs": [],
   "source": [
    "corpus['tema_9_2'] = corpus.lemmy.apply(lambda x, y=regel_9_2 : Filter9_2(x, y))"
   ]
  },
  {
   "cell_type": "code",
   "execution_count": 111,
   "id": "8196f4d6",
   "metadata": {},
   "outputs": [],
   "source": [
    "corpus['tema_9'] = corpus['tema_9_1'] + corpus['tema_9_2']"
   ]
  },
  {
   "cell_type": "code",
   "execution_count": 119,
   "id": "0cbc09f1",
   "metadata": {},
   "outputs": [],
   "source": [
    "corpus['tema_10_1'] = corpus.clean_text.apply(lambda x, y=regel_10_1 : Filter10_1(x, y))"
   ]
  },
  {
   "cell_type": "code",
   "execution_count": 121,
   "id": "28d436c3",
   "metadata": {},
   "outputs": [],
   "source": [
    "corpus['tema_10_2'] = corpus.lemmy.apply(lambda x, y=regel_10_2 : Filter10_2(x, y))"
   ]
  },
  {
   "cell_type": "code",
   "execution_count": 122,
   "id": "b2f81cfc",
   "metadata": {},
   "outputs": [],
   "source": [
    "corpus['tema_10'] = corpus['tema_10_1'] + corpus['tema_10_2']"
   ]
  },
  {
   "cell_type": "code",
   "execution_count": 128,
   "id": "ef88421c",
   "metadata": {},
   "outputs": [],
   "source": [
    "corpus['tema_11_1'] = corpus.clean_text.apply(lambda x, y=regel_11_1 : Filter11_1(x, y))"
   ]
  },
  {
   "cell_type": "code",
   "execution_count": 129,
   "id": "d1a56278",
   "metadata": {},
   "outputs": [],
   "source": [
    "corpus['tema_11_2'] = corpus.lemmy.apply(lambda x, y=regel_11_2 : Filter11_2(x, y))"
   ]
  },
  {
   "cell_type": "code",
   "execution_count": 130,
   "id": "980729b7",
   "metadata": {},
   "outputs": [],
   "source": [
    "corpus['tema_11'] = corpus['tema_11_1'] + corpus['tema_11_2']"
   ]
  },
  {
   "cell_type": "code",
   "execution_count": 140,
   "id": "63fdeeeb",
   "metadata": {},
   "outputs": [],
   "source": [
    "corpus['tema_12'] = corpus.lemmy.apply(lambda x, y=regel_12 : Filter12(x, y))"
   ]
  },
  {
   "cell_type": "code",
   "execution_count": 145,
   "id": "2322cac3",
   "metadata": {},
   "outputs": [],
   "source": [
    "corpus['tema_13'] = corpus.lemmy.apply(lambda x, y=regel_13 : Filter13(x, y))"
   ]
  },
  {
   "cell_type": "code",
   "execution_count": 154,
   "id": "6b9afa65",
   "metadata": {},
   "outputs": [],
   "source": [
    "corpus['tema_14_1'] = corpus.clean_text.apply(lambda x, y=regel_14_1 : Filter14_1(x, y))"
   ]
  },
  {
   "cell_type": "code",
   "execution_count": 155,
   "id": "e5e72bd5",
   "metadata": {},
   "outputs": [],
   "source": [
    "corpus['tema_14_2'] = corpus.lemmy.apply(lambda x, y=regel_14_2 : Filter14_2(x, y))"
   ]
  },
  {
   "cell_type": "code",
   "execution_count": 156,
   "id": "006f7878",
   "metadata": {},
   "outputs": [],
   "source": [
    "corpus['tema_14'] = corpus['tema_14_1'] + corpus['tema_14_2']"
   ]
  },
  {
   "cell_type": "code",
   "execution_count": 161,
   "id": "46f83831",
   "metadata": {},
   "outputs": [],
   "source": [
    "corpus['tema_15'] = corpus.clean_text.apply(lambda x, y=regel_15 : Filter15(x, y))"
   ]
  },
  {
   "cell_type": "code",
   "execution_count": 173,
   "id": "a83d6108",
   "metadata": {},
   "outputs": [],
   "source": [
    "corpus['tema_16'] = corpus.clean_text.apply(lambda x, y=regel_16 : Filter16(x, y))"
   ]
  },
  {
   "cell_type": "code",
   "execution_count": 181,
   "id": "3c646ad4",
   "metadata": {},
   "outputs": [],
   "source": [
    "corpus['tema_17'] = corpus.clean_text.apply(lambda x, y=regel_17 : Filter17(x, y))"
   ]
  },
  {
   "cell_type": "code",
   "execution_count": 187,
   "id": "1e3a730e",
   "metadata": {},
   "outputs": [],
   "source": [
    "corpus['tema_18'] = corpus.clean_text.apply(lambda x, y=regel_18 : Filter18(x, y))"
   ]
  },
  {
   "cell_type": "code",
   "execution_count": 191,
   "id": "54ea6cbb",
   "metadata": {},
   "outputs": [],
   "source": [
    "corpus['tema_19'] = corpus.clean_text.apply(lambda x, y=regel_19 : Filter19(x, y))"
   ]
  },
  {
   "cell_type": "code",
   "execution_count": 195,
   "id": "f258f975",
   "metadata": {},
   "outputs": [],
   "source": [
    "corpus['tema_20'] = corpus.clean_text.apply(lambda x, y=regel_20 : Filter20(x, y))"
   ]
  },
  {
   "cell_type": "code",
   "execution_count": 215,
   "id": "2f1a9293",
   "metadata": {},
   "outputs": [],
   "source": [
    "corpus['tema_21'] = corpus.clean_text.apply(lambda x, y=regel_21 : Filter21(x, y))"
   ]
  },
  {
   "cell_type": "code",
   "execution_count": 221,
   "id": "16cc68d8",
   "metadata": {},
   "outputs": [],
   "source": [
    "corpus['tema_22'] = corpus.lemmy.apply(lambda x, y=regel_22 : Filter22(x, y))"
   ]
  },
  {
   "cell_type": "code",
   "execution_count": 229,
   "id": "e5325518",
   "metadata": {},
   "outputs": [],
   "source": [
    "corpus['tema_23_1'] = corpus.clean_text.apply(lambda x, y=regel_23_1 : Filter23_1(x, y))"
   ]
  },
  {
   "cell_type": "code",
   "execution_count": 230,
   "id": "2bbadf92",
   "metadata": {},
   "outputs": [],
   "source": [
    "corpus['tema_23_2'] = corpus.lemmy.apply(lambda x, y=regel_23_2 : Filter23_2(x, y))"
   ]
  },
  {
   "cell_type": "code",
   "execution_count": 231,
   "id": "57290256",
   "metadata": {},
   "outputs": [],
   "source": [
    "corpus['tema_23'] = corpus['tema_23_1'] + corpus['tema_23_2']"
   ]
  },
  {
   "cell_type": "code",
   "execution_count": 232,
   "id": "2d7e9c42",
   "metadata": {},
   "outputs": [],
   "source": [
    "corpus['tema_24_1'] = corpus.clean_text.apply(lambda x, y=regel_24_1 : Filter24_1(x, y))"
   ]
  },
  {
   "cell_type": "code",
   "execution_count": 233,
   "id": "be26cf2d",
   "metadata": {},
   "outputs": [],
   "source": [
    "corpus['tema_24_2'] = corpus.lemmy.apply(lambda x, y=regel_24_2 : Filter24_2(x, y))"
   ]
  },
  {
   "cell_type": "code",
   "execution_count": 234,
   "id": "3b368527",
   "metadata": {},
   "outputs": [],
   "source": [
    "corpus['tema_24'] = corpus['tema_24_1'] + corpus['tema_24_2']"
   ]
  },
  {
   "cell_type": "code",
   "execution_count": 240,
   "id": "75e24fa2",
   "metadata": {},
   "outputs": [],
   "source": [
    "corpus['tema_25_1'] = corpus.clean_text.apply(lambda x, y=regel_25_1 : Filter25_1(x, y))"
   ]
  },
  {
   "cell_type": "code",
   "execution_count": 241,
   "id": "79027ab0",
   "metadata": {},
   "outputs": [],
   "source": [
    "corpus['tema_25_2'] = corpus.lemmy.apply(lambda x, y=regel_25_2 : Filter25_2(x, y))"
   ]
  },
  {
   "cell_type": "code",
   "execution_count": 242,
   "id": "00eabb46",
   "metadata": {},
   "outputs": [],
   "source": [
    "corpus['tema_25'] = corpus['tema_25_1'] + corpus['tema_25_2']"
   ]
  },
  {
   "cell_type": "code",
   "execution_count": 246,
   "id": "7c3d2417",
   "metadata": {},
   "outputs": [],
   "source": [
    "corpus['tema_26'] = corpus.lemmy.apply(lambda x, y=regel_26 : Filter26(x, y))"
   ]
  },
  {
   "cell_type": "code",
   "execution_count": 254,
   "id": "3730e45b",
   "metadata": {},
   "outputs": [],
   "source": [
    "corpus['tema_27_1'] = corpus.clean_text.apply(lambda text, w='|'.join(regel_27), left=20, right=20 : get_context(text, w, left, right))"
   ]
  },
  {
   "cell_type": "code",
   "execution_count": 256,
   "id": "a64d26cc",
   "metadata": {},
   "outputs": [],
   "source": [
    "medarbejd = [\"medarbejd\"]"
   ]
  },
  {
   "cell_type": "code",
   "execution_count": 257,
   "id": "415168f7",
   "metadata": {},
   "outputs": [],
   "source": [
    "def listoflist (tema_27_1):\n",
    "    flatList = [ item for elem in tema_27_1 for item in elem]\n",
    "    return flatList"
   ]
  },
  {
   "cell_type": "code",
   "execution_count": 259,
   "id": "3e3a25fc",
   "metadata": {
    "scrolled": true
   },
   "outputs": [],
   "source": [
    "corpus['tema_27_kontekst'] = corpus.tema_27_1.apply(lambda x : listoflist(x))"
   ]
  },
  {
   "cell_type": "code",
   "execution_count": 260,
   "id": "4f71eb72",
   "metadata": {},
   "outputs": [],
   "source": [
    "def medarbejd(tema_27_kontekst, medarbejd):\n",
    "    return [n for n in tema_27_kontekst if\n",
    "             any(m in n for m in medarbejd)]"
   ]
  },
  {
   "cell_type": "code",
   "execution_count": 261,
   "id": "0ccd3fad",
   "metadata": {},
   "outputs": [],
   "source": [
    "corpus['tema_27'] = corpus.tema_27_kontekst.apply(lambda x, y=medarbejd : medarbejd(x, y))"
   ]
  },
  {
   "cell_type": "code",
   "execution_count": 265,
   "id": "1dbda92e",
   "metadata": {},
   "outputs": [],
   "source": [
    "corpus['tema_28'] = corpus.lemmy.apply(lambda x, y=regel_28 : Filter28(x, y))"
   ]
  },
  {
   "cell_type": "code",
   "execution_count": 269,
   "id": "40794dae",
   "metadata": {},
   "outputs": [],
   "source": [
    "corpus['tema_29'] = corpus.lemmy.apply(lambda x, y=regel_29 : Filter29(x, y))"
   ]
  },
  {
   "cell_type": "code",
   "execution_count": 273,
   "id": "f3b8c5f9",
   "metadata": {},
   "outputs": [],
   "source": [
    "corpus['tema_30'] = corpus.clean_text.apply(lambda x, y=regel_30 : Filter30(x, y))"
   ]
  },
  {
   "cell_type": "code",
   "execution_count": 277,
   "id": "ec2b2c2c",
   "metadata": {},
   "outputs": [],
   "source": [
    "corpus['tema_31'] = corpus.lemmy.apply(lambda x, y=regel_31 : Filter31(x, y))"
   ]
  },
  {
   "cell_type": "code",
   "execution_count": 283,
   "id": "8971fe22",
   "metadata": {},
   "outputs": [],
   "source": [
    "corpus['tema_32_1'] = corpus.clean_text.apply(lambda x, y=regel_32_1 : Filter32_1(x, y))"
   ]
  },
  {
   "cell_type": "code",
   "execution_count": 284,
   "id": "fb3d5b1d",
   "metadata": {},
   "outputs": [],
   "source": [
    "corpus['tema_32_2'] = corpus.lemmy.apply(lambda x, y=regel_32_2 : Filter32_2(x, y))"
   ]
  },
  {
   "cell_type": "code",
   "execution_count": 285,
   "id": "53be1852",
   "metadata": {},
   "outputs": [],
   "source": [
    "corpus['tema_32'] = corpus['tema_32_1'] + corpus['tema_32_2']"
   ]
  },
  {
   "cell_type": "code",
   "execution_count": 289,
   "id": "494d172f",
   "metadata": {},
   "outputs": [],
   "source": [
    "corpus['tema_33'] = corpus.lemmy.apply(lambda x, y=regel_33 : Filter33(x, y))"
   ]
  },
  {
   "cell_type": "code",
   "execution_count": 293,
   "id": "632dd2ae",
   "metadata": {},
   "outputs": [],
   "source": [
    "corpus['tema_34'] = corpus.lemmy.apply(lambda x, y=regel_34 : Filter34(x, y))"
   ]
  },
  {
   "cell_type": "code",
   "execution_count": 294,
   "id": "f7e40e59",
   "metadata": {},
   "outputs": [
    {
     "data": {
      "text/html": [
       "<div>\n",
       "<style scoped>\n",
       "    .dataframe tbody tr th:only-of-type {\n",
       "        vertical-align: middle;\n",
       "    }\n",
       "\n",
       "    .dataframe tbody tr th {\n",
       "        vertical-align: top;\n",
       "    }\n",
       "\n",
       "    .dataframe thead th {\n",
       "        text-align: right;\n",
       "    }\n",
       "</style>\n",
       "<table border=\"1\" class=\"dataframe\">\n",
       "  <thead>\n",
       "    <tr style=\"text-align: right;\">\n",
       "      <th></th>\n",
       "      <th>filename</th>\n",
       "      <th>text</th>\n",
       "      <th>filedir</th>\n",
       "      <th>clean_text</th>\n",
       "      <th>word</th>\n",
       "      <th>lemmy</th>\n",
       "      <th>tema_1</th>\n",
       "      <th>tema_2</th>\n",
       "      <th>tema_3</th>\n",
       "      <th>tema_4</th>\n",
       "      <th>...</th>\n",
       "      <th>tema_27</th>\n",
       "      <th>tema_28</th>\n",
       "      <th>tema_29</th>\n",
       "      <th>tema_30</th>\n",
       "      <th>tema_31</th>\n",
       "      <th>tema_32_1</th>\n",
       "      <th>tema_32_2</th>\n",
       "      <th>tema_32</th>\n",
       "      <th>tema_33</th>\n",
       "      <th>tema_34</th>\n",
       "    </tr>\n",
       "  </thead>\n",
       "  <tbody>\n",
       "    <tr>\n",
       "      <th>0</th>\n",
       "      <td>Bilag 10  Overenskomst for erhvervsuddannede s...</td>\n",
       "      <td>The command `pdftotext C:\\Users\\blunds\\OneDriv...</td>\n",
       "      <td>C:\\Users\\blunds\\OneDrive - Roskilde Universite...</td>\n",
       "      <td>the command pdftotext c \\users\\blunds\\onedrive...</td>\n",
       "      <td>[the, command, pdftotext, c, \\users\\blunds\\one...</td>\n",
       "      <td>[the, command, pdftotext, c, \\users\\blunds\\one...</td>\n",
       "      <td>[]</td>\n",
       "      <td>[projekt\\virksomhedsoverdragelse\\dokument, pro...</td>\n",
       "      <td>[]</td>\n",
       "      <td>[]</td>\n",
       "      <td>...</td>\n",
       "      <td>[]</td>\n",
       "      <td>[]</td>\n",
       "      <td>[projekt\\virksomhedsoverdragelse\\dokument, pro...</td>\n",
       "      <td>[ 3f,  foa,  3f,  foa]</td>\n",
       "      <td>[]</td>\n",
       "      <td>[]</td>\n",
       "      <td>[]</td>\n",
       "      <td>[]</td>\n",
       "      <td>[]</td>\n",
       "      <td>[]</td>\n",
       "    </tr>\n",
       "    <tr>\n",
       "      <th>1</th>\n",
       "      <td>Bilag 11  Overenskomst for rengøringsassistent...</td>\n",
       "      <td>O.13 Overenskomst for rengøringsassistenter\\r\\...</td>\n",
       "      <td>C:\\Users\\blunds\\OneDrive - Roskilde Universite...</td>\n",
       "      <td>o 13 overenskomst for rengøringsassistenter ti...</td>\n",
       "      <td>[o, 13, overenskomst, for, rengøringsassistent...</td>\n",
       "      <td>[o, 13, overenskomst, for, rengøringsassistent...</td>\n",
       "      <td>[vol]</td>\n",
       "      <td>[]</td>\n",
       "      <td>[]</td>\n",
       "      <td>[]</td>\n",
       "      <td>...</td>\n",
       "      <td>[]</td>\n",
       "      <td>[personafgrænsning, materiale, rengøringsperso...</td>\n",
       "      <td>[tilsyn, tilsynsassistent, tilsynsassistent, t...</td>\n",
       "      <td>[ 3f,  3f, metal, metal,  3f,  3f,  3f,  3f, m...</td>\n",
       "      <td>[seniorpolitik, seniorpolitik]</td>\n",
       "      <td>[]</td>\n",
       "      <td>[]</td>\n",
       "      <td>[]</td>\n",
       "      <td>[]</td>\n",
       "      <td>[§, §, §, §, §, §, §, §, §, §§, §, §, §, §, §,...</td>\n",
       "    </tr>\n",
       "    <tr>\n",
       "      <th>2</th>\n",
       "      <td>Bilag 12  Overenskomst for kontorpersonale og ...</td>\n",
       "      <td>The command `pdftotext C:\\Users\\blunds\\OneDriv...</td>\n",
       "      <td>C:\\Users\\blunds\\OneDrive - Roskilde Universite...</td>\n",
       "      <td>the command pdftotext c \\users\\blunds\\onedrive...</td>\n",
       "      <td>[the, command, pdftotext, c, \\users\\blunds\\one...</td>\n",
       "      <td>[the, command, pdftotext, c, \\users\\blunds\\one...</td>\n",
       "      <td>[]</td>\n",
       "      <td>[projekt\\virksomhedsoverdragelse\\dokument, pro...</td>\n",
       "      <td>[]</td>\n",
       "      <td>[]</td>\n",
       "      <td>...</td>\n",
       "      <td>[]</td>\n",
       "      <td>[kontorpersonale, personale, kontorpersonale, ...</td>\n",
       "      <td>[projekt\\virksomhedsoverdragelse\\dokument, pro...</td>\n",
       "      <td>[ hk,  hk]</td>\n",
       "      <td>[]</td>\n",
       "      <td>[]</td>\n",
       "      <td>[]</td>\n",
       "      <td>[]</td>\n",
       "      <td>[]</td>\n",
       "      <td>[]</td>\n",
       "    </tr>\n",
       "    <tr>\n",
       "      <th>3</th>\n",
       "      <td>Bilag 13  Overenskomst for husassistenter mell...</td>\n",
       "      <td>O.13 Overenskomst for husassistenter\\r\\n\\r\\nTi...</td>\n",
       "      <td>C:\\Users\\blunds\\OneDrive - Roskilde Universite...</td>\n",
       "      <td>o 13 overenskomst for husassistenter titel sta...</td>\n",
       "      <td>[o, 13, overenskomst, for, husassistenter, tit...</td>\n",
       "      <td>[o, 13, overenskomst, for, husassistent, titel...</td>\n",
       "      <td>[vol]</td>\n",
       "      <td>[]</td>\n",
       "      <td>[]</td>\n",
       "      <td>[]</td>\n",
       "      <td>...</td>\n",
       "      <td>[]</td>\n",
       "      <td>[personafgrænsning, person, materiale, persona...</td>\n",
       "      <td>[tilsyn, tilsynsassistent, tilsynsassistent, t...</td>\n",
       "      <td>[ foa,  foa, metal,  foa,  foa,  foa,  foa, me...</td>\n",
       "      <td>[seniorpolitik, seniorpolitik]</td>\n",
       "      <td>[]</td>\n",
       "      <td>[]</td>\n",
       "      <td>[]</td>\n",
       "      <td>[]</td>\n",
       "      <td>[§, §, §, §, §, §, §, §, §§, §, §, §, §, §, §,...</td>\n",
       "    </tr>\n",
       "    <tr>\n",
       "      <th>4</th>\n",
       "      <td>Bilag 14  Aftale om lokal loendannelse for hus...</td>\n",
       "      <td>O.13 Aftale om lokal løndannelse for hus/ren-o...</td>\n",
       "      <td>C:\\Users\\blunds\\OneDrive - Roskilde Universite...</td>\n",
       "      <td>o 13 aftale om lokal løndannelse for hus ren o...</td>\n",
       "      <td>[o, 13, aftale, om, lokal, løndannelse, for, h...</td>\n",
       "      <td>[o, 13, aftale, om, lokal, løndannelse, for, h...</td>\n",
       "      <td>[]</td>\n",
       "      <td>[]</td>\n",
       "      <td>[]</td>\n",
       "      <td>[]</td>\n",
       "      <td>...</td>\n",
       "      <td>[]</td>\n",
       "      <td>[person, opgave, opgave, opgave, opgavevaretag...</td>\n",
       "      <td>[tilsyn, orientere, dokumentere]</td>\n",
       "      <td>[ foa,  3f,  foa,  3f,  foa,  3f,  foa,  3f,  3f]</td>\n",
       "      <td>[]</td>\n",
       "      <td>[]</td>\n",
       "      <td>[]</td>\n",
       "      <td>[]</td>\n",
       "      <td>[]</td>\n",
       "      <td>[§, §, §, §, §, §, §, §, §, §, §, §, §, §, §, ...</td>\n",
       "    </tr>\n",
       "    <tr>\n",
       "      <th>5</th>\n",
       "      <td>Bilag 15  Forhåndsaftale mellem 3F og Helsingø...</td>\n",
       "      <td>The command `tesseract C:\\Users\\blunds\\OneDriv...</td>\n",
       "      <td>C:\\Users\\blunds\\OneDrive - Roskilde Universite...</td>\n",
       "      <td>the command tesseract c \\users\\blunds\\onedrive...</td>\n",
       "      <td>[the, command, tesseract, c, \\users\\blunds\\one...</td>\n",
       "      <td>[the, command, tesseract, c, \\users\\blunds\\one...</td>\n",
       "      <td>[]</td>\n",
       "      <td>[projekt\\virksomhedsoverdragelse\\dokument]</td>\n",
       "      <td>[]</td>\n",
       "      <td>[]</td>\n",
       "      <td>...</td>\n",
       "      <td>[]</td>\n",
       "      <td>[]</td>\n",
       "      <td>[projekt\\virksomhedsoverdragelse\\dokument]</td>\n",
       "      <td>[ 3f]</td>\n",
       "      <td>[]</td>\n",
       "      <td>[]</td>\n",
       "      <td>[]</td>\n",
       "      <td>[]</td>\n",
       "      <td>[]</td>\n",
       "      <td>[]</td>\n",
       "    </tr>\n",
       "    <tr>\n",
       "      <th>6</th>\n",
       "      <td>Bilag 16  Retningslinjer personaleforhold Reng...</td>\n",
       "      <td>Side 1\\n\\n\\n\\n\\n\\n\\n\\n\\n\\n\\n\\n \\n\\n\\n\\nUnderbi...</td>\n",
       "      <td>C:\\Users\\blunds\\OneDrive - Roskilde Universite...</td>\n",
       "      <td>side 1 underbilag bilag xd retningslinjer pers...</td>\n",
       "      <td>[side, 1, underbilag, bilag, xd, retningslinje...</td>\n",
       "      <td>[side, 1, underbilag, bilag, xd, retningslinje...</td>\n",
       "      <td>[]</td>\n",
       "      <td>[]</td>\n",
       "      <td>[]</td>\n",
       "      <td>[]</td>\n",
       "      <td>...</td>\n",
       "      <td>[]</td>\n",
       "      <td>[personaleforhold, personalegode, personalepol...</td>\n",
       "      <td>[tilsynsførende]</td>\n",
       "      <td>[ 3f,  foa,  3f]</td>\n",
       "      <td>[]</td>\n",
       "      <td>[]</td>\n",
       "      <td>[]</td>\n",
       "      <td>[]</td>\n",
       "      <td>[]</td>\n",
       "      <td>[]</td>\n",
       "    </tr>\n",
       "    <tr>\n",
       "      <th>7</th>\n",
       "      <td>Bilag 5  Besvarelsesark  Organisering doc</td>\n",
       "      <td>\\r\\nTilbudsgivers navn:\\r\\n\\r\\n\\r\\n\\r\\nBesvare...</td>\n",
       "      <td>C:\\Users\\blunds\\OneDrive - Roskilde Universite...</td>\n",
       "      <td>tilbudsgivers navn besvarelsesark til underkr...</td>\n",
       "      <td>[tilbudsgivers, navn, besvarelsesark, til, und...</td>\n",
       "      <td>[tilbudsgiver, navn, besvarelsesark, til, unde...</td>\n",
       "      <td>[]</td>\n",
       "      <td>[]</td>\n",
       "      <td>[]</td>\n",
       "      <td>[]</td>\n",
       "      <td>...</td>\n",
       "      <td>[]</td>\n",
       "      <td>[udbudsmateriale, opgave, opgave, reng�ringspe...</td>\n",
       "      <td>[dokument]</td>\n",
       "      <td>[]</td>\n",
       "      <td>[]</td>\n",
       "      <td>[]</td>\n",
       "      <td>[]</td>\n",
       "      <td>[]</td>\n",
       "      <td>[]</td>\n",
       "      <td>[]</td>\n",
       "    </tr>\n",
       "    <tr>\n",
       "      <th>8</th>\n",
       "      <td>Bilag 9  Omfattede medarbejdere og individuell...</td>\n",
       "      <td>Virksomhedsoverdragelses nr.  Startdato   Sto...</td>\n",
       "      <td>C:\\Users\\blunds\\OneDrive - Roskilde Universite...</td>\n",
       "      <td>virksomhedsoverdragelses nr startdato stopdat...</td>\n",
       "      <td>[virksomhedsoverdragelses, nr, startdato, stop...</td>\n",
       "      <td>[virksomhedsoverdragelse, nr, startdato, stopd...</td>\n",
       "      <td>[]</td>\n",
       "      <td>[virksomhedsoverdragelse]</td>\n",
       "      <td>[]</td>\n",
       "      <td>[]</td>\n",
       "      <td>...</td>\n",
       "      <td>[]</td>\n",
       "      <td>[arbejdsopgave, materiale]</td>\n",
       "      <td>[tilsynsassistent, tilsyn, tilsynsførende, til...</td>\n",
       "      <td>[ foa,  3f,  hk,  3f,  3f,  3f,  3f,  3f,  3f,...</td>\n",
       "      <td>[]</td>\n",
       "      <td>[]</td>\n",
       "      <td>[]</td>\n",
       "      <td>[]</td>\n",
       "      <td>[lønrefusion]</td>\n",
       "      <td>[§56, §56]</td>\n",
       "    </tr>\n",
       "    <tr>\n",
       "      <th>9</th>\n",
       "      <td>drivedownload20220330T131500Z001 zip</td>\n",
       "      <td>incomplete escape \\U at position 2</td>\n",
       "      <td>C:\\Users\\blunds\\OneDrive - Roskilde Universite...</td>\n",
       "      <td>incomplete escape \\u at position 2</td>\n",
       "      <td>[incomplete, escape, \\u, at, position, 2]</td>\n",
       "      <td>[incomplete, escape, \\u, at, position, 2]</td>\n",
       "      <td>[]</td>\n",
       "      <td>[]</td>\n",
       "      <td>[]</td>\n",
       "      <td>[]</td>\n",
       "      <td>...</td>\n",
       "      <td>[]</td>\n",
       "      <td>[]</td>\n",
       "      <td>[]</td>\n",
       "      <td>[]</td>\n",
       "      <td>[]</td>\n",
       "      <td>[]</td>\n",
       "      <td>[]</td>\n",
       "      <td>[]</td>\n",
       "      <td>[]</td>\n",
       "      <td>[]</td>\n",
       "    </tr>\n",
       "    <tr>\n",
       "      <th>10</th>\n",
       "      <td>udbudsbekendtgørelse pdf</td>\n",
       "      <td>EUT/S S36\\r\\n20/02/2015\\r\\n61613-2015-DA\\r\\n\\r...</td>\n",
       "      <td>C:\\Users\\blunds\\OneDrive - Roskilde Universite...</td>\n",
       "      <td>eut s s36 20 02 2015 61613 2015 da 1 4 denne b...</td>\n",
       "      <td>[eut, s, s36, 20, 02, 2015, 61613, 2015, da, 1...</td>\n",
       "      <td>[eut, s, s36, 20, 02, 2015, 61613, 2015, da, 1...</td>\n",
       "      <td>[virksomhedsoverdragelsesloven, virksomhedsove...</td>\n",
       "      <td>[virksomhedsoverdragelse]</td>\n",
       "      <td>[]</td>\n",
       "      <td>[]</td>\n",
       "      <td>...</td>\n",
       "      <td>[]</td>\n",
       "      <td>[serviceopgave, person, person, opgave, person...</td>\n",
       "      <td>[tjenesteydelseskategori]</td>\n",
       "      <td>[]</td>\n",
       "      <td>[]</td>\n",
       "      <td>[]</td>\n",
       "      <td>[]</td>\n",
       "      <td>[]</td>\n",
       "      <td>[]</td>\n",
       "      <td>[§, §, §, §, §, §]</td>\n",
       "    </tr>\n",
       "    <tr>\n",
       "      <th>11</th>\n",
       "      <td>Udbudsbetingelser  Version 3 docx</td>\n",
       "      <td>Udbudsbetingelser til udbud af rengøring i Hel...</td>\n",
       "      <td>C:\\Users\\blunds\\OneDrive - Roskilde Universite...</td>\n",
       "      <td>udbudsbetingelser til udbud af rengøring i hel...</td>\n",
       "      <td>[udbudsbetingelser, til, udbud, af, rengøring,...</td>\n",
       "      <td>[udbudsbetingelse, til, udbud, af, rengøring, ...</td>\n",
       "      <td>[virksomhedsoverdragelsesloven]</td>\n",
       "      <td>[virksomhedsoverdragelse]</td>\n",
       "      <td>[]</td>\n",
       "      <td>[]</td>\n",
       "      <td>...</td>\n",
       "      <td>[]</td>\n",
       "      <td>[udbudsmateriale, kontaktperson, materiale, ud...</td>\n",
       "      <td>[dokument, dokumentation, dokumentation, dokum...</td>\n",
       "      <td>[ 3f,  foa,  3f,  hk,  foa,  3f]</td>\n",
       "      <td>[]</td>\n",
       "      <td>[]</td>\n",
       "      <td>[underleverandør]</td>\n",
       "      <td>[underleverandør]</td>\n",
       "      <td>[]</td>\n",
       "      <td>[]</td>\n",
       "    </tr>\n",
       "    <tr>\n",
       "      <th>12</th>\n",
       "      <td>En dokumentliste med parter og bilag 2 pdf</td>\n",
       "      <td>8. april 2022\\r\\n\\r\\nDokumentliste\\r\\nParter o...</td>\n",
       "      <td>C:\\Users\\blunds\\OneDrive - Roskilde Universite...</td>\n",
       "      <td>8 april 2022 dokumentliste parter og bilag dok...</td>\n",
       "      <td>[8, april, 2022, dokumentliste, parter, og, bi...</td>\n",
       "      <td>[8, april, 2022, dokumentliste, partere, og, b...</td>\n",
       "      <td>[]</td>\n",
       "      <td>[virksomhedsoverdragelse]</td>\n",
       "      <td>[]</td>\n",
       "      <td>[]</td>\n",
       "      <td>...</td>\n",
       "      <td>[]</td>\n",
       "      <td>[personalegode, opgavebeskrivelse]</td>\n",
       "      <td>[dokumentliste, dokumentnummer, dokumentparter...</td>\n",
       "      <td>[]</td>\n",
       "      <td>[]</td>\n",
       "      <td>[]</td>\n",
       "      <td>[]</td>\n",
       "      <td>[]</td>\n",
       "      <td>[]</td>\n",
       "      <td>[]</td>\n",
       "    </tr>\n",
       "    <tr>\n",
       "      <th>13</th>\n",
       "      <td>En dokumentliste med parter og bilag pdf</td>\n",
       "      <td>8. april 2022\\r\\n\\r\\nDokumentliste\\r\\nParter o...</td>\n",
       "      <td>C:\\Users\\blunds\\OneDrive - Roskilde Universite...</td>\n",
       "      <td>8 april 2022 dokumentliste parter og bilag dok...</td>\n",
       "      <td>[8, april, 2022, dokumentliste, parter, og, bi...</td>\n",
       "      <td>[8, april, 2022, dokumentliste, partere, og, b...</td>\n",
       "      <td>[]</td>\n",
       "      <td>[virksomhedsoverdragelse]</td>\n",
       "      <td>[]</td>\n",
       "      <td>[]</td>\n",
       "      <td>...</td>\n",
       "      <td>[]</td>\n",
       "      <td>[personalegode, opgavebeskrivelse]</td>\n",
       "      <td>[dokumentliste, dokumentnummer, dokumentparter...</td>\n",
       "      <td>[]</td>\n",
       "      <td>[]</td>\n",
       "      <td>[]</td>\n",
       "      <td>[]</td>\n",
       "      <td>[]</td>\n",
       "      <td>[]</td>\n",
       "      <td>[]</td>\n",
       "    </tr>\n",
       "    <tr>\n",
       "      <th>14</th>\n",
       "      <td>Sagsudskrift af Delaftale 1 Østdanmark pdf</td>\n",
       "      <td>11. april 2022\\r\\n\\r\\nSag\\r\\nTitel:\\r\\n\\r\\nDel...</td>\n",
       "      <td>C:\\Users\\blunds\\OneDrive - Roskilde Universite...</td>\n",
       "      <td>11 april 2022 sag titel delaftale 1 østdanmark...</td>\n",
       "      <td>[11, april, 2022, sag, titel, delaftale, 1, øs...</td>\n",
       "      <td>[11, april, 2022, sag, titel, delaftale, 1, øs...</td>\n",
       "      <td>[udbudsregler, vol, vol, virksomhedsoverdragel...</td>\n",
       "      <td>[virksomhedsoverdragelse, virksomhedsoverdrage...</td>\n",
       "      <td>[]</td>\n",
       "      <td>[]</td>\n",
       "      <td>...</td>\n",
       "      <td>[]</td>\n",
       "      <td>[opgavebeskrivelse, personalegode, opgavebeskr...</td>\n",
       "      <td>[dokument, dokumentation, dokumentation, dokum...</td>\n",
       "      <td>[fagforening,  3f, metal, metal, metal,  3f,  ...</td>\n",
       "      <td>[]</td>\n",
       "      <td>[]</td>\n",
       "      <td>[underleverandør, underleverandør, underlevera...</td>\n",
       "      <td>[underleverandør, underleverandør, underlevera...</td>\n",
       "      <td>[refusion, medarbejderrefusionsopgørelse, meda...</td>\n",
       "      <td>[§45, §13, §, §, §, §, §, §, §, §§, §§, §§, §,...</td>\n",
       "    </tr>\n",
       "    <tr>\n",
       "      <th>15</th>\n",
       "      <td>Sagsudskrift af Delaftale 2 Vestdanmark pdf</td>\n",
       "      <td>11. april 2022\\r\\n\\r\\nSag\\r\\nTitel:\\r\\n\\r\\nDel...</td>\n",
       "      <td>C:\\Users\\blunds\\OneDrive - Roskilde Universite...</td>\n",
       "      <td>11 april 2022 sag titel delaftale 2 vestdanmar...</td>\n",
       "      <td>[11, april, 2022, sag, titel, delaftale, 2, ve...</td>\n",
       "      <td>[11, april, 2022, sag, titel, delaftale, 2, ve...</td>\n",
       "      <td>[udbudsregler, vol, vol, virksomhedsoverdragel...</td>\n",
       "      <td>[virksomhedsoverdragelse, virksomhedsoverdrage...</td>\n",
       "      <td>[]</td>\n",
       "      <td>[]</td>\n",
       "      <td>...</td>\n",
       "      <td>[]</td>\n",
       "      <td>[opgavebeskrivelse, personalegode, opgavebeskr...</td>\n",
       "      <td>[dokument, dokumentation, dokumentation, dokum...</td>\n",
       "      <td>[fagforening, metal,  3f, metal, metal, metal,...</td>\n",
       "      <td>[]</td>\n",
       "      <td>[]</td>\n",
       "      <td>[underleverandør, underleverandør, underlevera...</td>\n",
       "      <td>[underleverandør, underleverandør, underlevera...</td>\n",
       "      <td>[refusion, medarbejderrefusionsopgørelse, meda...</td>\n",
       "      <td>[§45, §13, §, §, §, §, §, §, §, §§, §§, §§, §,...</td>\n",
       "    </tr>\n",
       "    <tr>\n",
       "      <th>16</th>\n",
       "      <td>udbudsbekendtgørelse pdf</td>\n",
       "      <td>EUT/S S190\\r\\n03/10/2014\\r\\n335513-2014-DA\\r\\n...</td>\n",
       "      <td>C:\\Users\\blunds\\OneDrive - Roskilde Universite...</td>\n",
       "      <td>eut s s190 03 10 2014 335513 2014 da 1 10 denn...</td>\n",
       "      <td>[eut, s, s190, 03, 10, 2014, 335513, 2014, da,...</td>\n",
       "      <td>[eut, s, s190, 03, 10, 2014, 335513, 2014, da,...</td>\n",
       "      <td>[vol, udbudsregler]</td>\n",
       "      <td>[virksomhedsoverdragelse, virksomhedsoverdrage...</td>\n",
       "      <td>[]</td>\n",
       "      <td>[]</td>\n",
       "      <td>...</td>\n",
       "      <td>[]</td>\n",
       "      <td>[udskiftningsopgave, udbudsmateriale, udbudsma...</td>\n",
       "      <td>[dokument, dokument, tjenesteydelseskategori, ...</td>\n",
       "      <td>[metal, metal, metal]</td>\n",
       "      <td>[]</td>\n",
       "      <td>[]</td>\n",
       "      <td>[underleverandør, underleverandør, underlevera...</td>\n",
       "      <td>[underleverandør, underleverandør, underlevera...</td>\n",
       "      <td>[]</td>\n",
       "      <td>[§, §]</td>\n",
       "    </tr>\n",
       "    <tr>\n",
       "      <th>17</th>\n",
       "      <td>Udbudsbetingelser v1 (002) pdf</td>\n",
       "      <td>Aftale om drift og vedligehold af tekniske bas...</td>\n",
       "      <td>C:\\Users\\blunds\\OneDrive - Roskilde Universite...</td>\n",
       "      <td>aftale om drift og vedligehold af tekniske bas...</td>\n",
       "      <td>[aftale, om, drift, og, vedligehold, af, tekni...</td>\n",
       "      <td>[aftale, om, drifte, og, vedligehold, af, tekn...</td>\n",
       "      <td>[]</td>\n",
       "      <td>[virksomhedsoverdragelse]</td>\n",
       "      <td>[]</td>\n",
       "      <td>[]</td>\n",
       "      <td>...</td>\n",
       "      <td>[]</td>\n",
       "      <td>[udbudsmateriale, udbudsmateriale, udbudsmater...</td>\n",
       "      <td>[dokument, dokumentation, dokument, dokument, ...</td>\n",
       "      <td>[ 3f]</td>\n",
       "      <td>[]</td>\n",
       "      <td>[]</td>\n",
       "      <td>[underleverandør, underleverandør]</td>\n",
       "      <td>[underleverandør, underleverandør]</td>\n",
       "      <td>[]</td>\n",
       "      <td>[§, §]</td>\n",
       "    </tr>\n",
       "    <tr>\n",
       "      <th>18</th>\n",
       "      <td>14167415v1Bilag 14 i word endelig 18022015 doc...</td>\n",
       "      <td>Bilag 1 – Erklæringer om udelukkelse og gæld t...</td>\n",
       "      <td>C:\\Users\\blunds\\OneDrive - Roskilde Universite...</td>\n",
       "      <td>bilag 1 – erklæringer om udelukkelse og gæld t...</td>\n",
       "      <td>[bilag, 1, –, erklæringer, om, udelukkelse, og...</td>\n",
       "      <td>[bilag, 1, –, erklæring, om, udelukkelse, og, ...</td>\n",
       "      <td>[]</td>\n",
       "      <td>[]</td>\n",
       "      <td>[]</td>\n",
       "      <td>[]</td>\n",
       "      <td>...</td>\n",
       "      <td>[]</td>\n",
       "      <td>[person, person]</td>\n",
       "      <td>[dokumentation, dokumentation, kildeskat, doku...</td>\n",
       "      <td>[]</td>\n",
       "      <td>[]</td>\n",
       "      <td>[ rut,  rut]</td>\n",
       "      <td>[underleverandør, underleverandør, underlevera...</td>\n",
       "      <td>[ rut,  rut, underleverandør, underleverandør,...</td>\n",
       "      <td>[]</td>\n",
       "      <td>[§, §, §, §, §, §]</td>\n",
       "    </tr>\n",
       "    <tr>\n",
       "      <th>19</th>\n",
       "      <td>14167515v1SchemaBefordring til Sundhedscenter ...</td>\n",
       "      <td>UDBUDSBEKENDTGØRELSE\\r\\n\\r\\nDEL I: ORDREGIVEND...</td>\n",
       "      <td>C:\\Users\\blunds\\OneDrive - Roskilde Universite...</td>\n",
       "      <td>udbudsbekendtgørelse del i ordregivende myndig...</td>\n",
       "      <td>[udbudsbekendtgørelse, del, i, ordregivende, m...</td>\n",
       "      <td>[udbudsbekendtgørelse, del, i, ordregive, mynd...</td>\n",
       "      <td>[vol]</td>\n",
       "      <td>[virksomhedsoverdrage]</td>\n",
       "      <td>[]</td>\n",
       "      <td>[]</td>\n",
       "      <td>...</td>\n",
       "      <td>[]</td>\n",
       "      <td>[udbudsmateriale, opgave, opgave, opgave, pers...</td>\n",
       "      <td>[dokument, dokument, tjenesteydelseskategori, ...</td>\n",
       "      <td>[]</td>\n",
       "      <td>[]</td>\n",
       "      <td>[]</td>\n",
       "      <td>[]</td>\n",
       "      <td>[]</td>\n",
       "      <td>[]</td>\n",
       "      <td>[§, §, §, §, §, §]</td>\n",
       "    </tr>\n",
       "  </tbody>\n",
       "</table>\n",
       "<p>20 rows × 64 columns</p>\n",
       "</div>"
      ],
      "text/plain": [
       "                                             filename  \\\n",
       "0   Bilag 10  Overenskomst for erhvervsuddannede s...   \n",
       "1   Bilag 11  Overenskomst for rengøringsassistent...   \n",
       "2   Bilag 12  Overenskomst for kontorpersonale og ...   \n",
       "3   Bilag 13  Overenskomst for husassistenter mell...   \n",
       "4   Bilag 14  Aftale om lokal loendannelse for hus...   \n",
       "5   Bilag 15  Forhåndsaftale mellem 3F og Helsingø...   \n",
       "6   Bilag 16  Retningslinjer personaleforhold Reng...   \n",
       "7           Bilag 5  Besvarelsesark  Organisering doc   \n",
       "8   Bilag 9  Omfattede medarbejdere og individuell...   \n",
       "9                drivedownload20220330T131500Z001 zip   \n",
       "10                           udbudsbekendtgørelse pdf   \n",
       "11                  Udbudsbetingelser  Version 3 docx   \n",
       "12         En dokumentliste med parter og bilag 2 pdf   \n",
       "13           En dokumentliste med parter og bilag pdf   \n",
       "14         Sagsudskrift af Delaftale 1 Østdanmark pdf   \n",
       "15        Sagsudskrift af Delaftale 2 Vestdanmark pdf   \n",
       "16                           udbudsbekendtgørelse pdf   \n",
       "17                     Udbudsbetingelser v1 (002) pdf   \n",
       "18  14167415v1Bilag 14 i word endelig 18022015 doc...   \n",
       "19  14167515v1SchemaBefordring til Sundhedscenter ...   \n",
       "\n",
       "                                                 text  \\\n",
       "0   The command `pdftotext C:\\Users\\blunds\\OneDriv...   \n",
       "1   O.13 Overenskomst for rengøringsassistenter\\r\\...   \n",
       "2   The command `pdftotext C:\\Users\\blunds\\OneDriv...   \n",
       "3   O.13 Overenskomst for husassistenter\\r\\n\\r\\nTi...   \n",
       "4   O.13 Aftale om lokal løndannelse for hus/ren-o...   \n",
       "5   The command `tesseract C:\\Users\\blunds\\OneDriv...   \n",
       "6   Side 1\\n\\n\\n\\n\\n\\n\\n\\n\\n\\n\\n\\n \\n\\n\\n\\nUnderbi...   \n",
       "7   \\r\\nTilbudsgivers navn:\\r\\n\\r\\n\\r\\n\\r\\nBesvare...   \n",
       "8    Virksomhedsoverdragelses nr.  Startdato   Sto...   \n",
       "9                  incomplete escape \\U at position 2   \n",
       "10  EUT/S S36\\r\\n20/02/2015\\r\\n61613-2015-DA\\r\\n\\r...   \n",
       "11  Udbudsbetingelser til udbud af rengøring i Hel...   \n",
       "12  8. april 2022\\r\\n\\r\\nDokumentliste\\r\\nParter o...   \n",
       "13  8. april 2022\\r\\n\\r\\nDokumentliste\\r\\nParter o...   \n",
       "14  11. april 2022\\r\\n\\r\\nSag\\r\\nTitel:\\r\\n\\r\\nDel...   \n",
       "15  11. april 2022\\r\\n\\r\\nSag\\r\\nTitel:\\r\\n\\r\\nDel...   \n",
       "16  EUT/S S190\\r\\n03/10/2014\\r\\n335513-2014-DA\\r\\n...   \n",
       "17  Aftale om drift og vedligehold af tekniske bas...   \n",
       "18  Bilag 1 – Erklæringer om udelukkelse og gæld t...   \n",
       "19  UDBUDSBEKENDTGØRELSE\\r\\n\\r\\nDEL I: ORDREGIVEND...   \n",
       "\n",
       "                                              filedir  \\\n",
       "0   C:\\Users\\blunds\\OneDrive - Roskilde Universite...   \n",
       "1   C:\\Users\\blunds\\OneDrive - Roskilde Universite...   \n",
       "2   C:\\Users\\blunds\\OneDrive - Roskilde Universite...   \n",
       "3   C:\\Users\\blunds\\OneDrive - Roskilde Universite...   \n",
       "4   C:\\Users\\blunds\\OneDrive - Roskilde Universite...   \n",
       "5   C:\\Users\\blunds\\OneDrive - Roskilde Universite...   \n",
       "6   C:\\Users\\blunds\\OneDrive - Roskilde Universite...   \n",
       "7   C:\\Users\\blunds\\OneDrive - Roskilde Universite...   \n",
       "8   C:\\Users\\blunds\\OneDrive - Roskilde Universite...   \n",
       "9   C:\\Users\\blunds\\OneDrive - Roskilde Universite...   \n",
       "10  C:\\Users\\blunds\\OneDrive - Roskilde Universite...   \n",
       "11  C:\\Users\\blunds\\OneDrive - Roskilde Universite...   \n",
       "12  C:\\Users\\blunds\\OneDrive - Roskilde Universite...   \n",
       "13  C:\\Users\\blunds\\OneDrive - Roskilde Universite...   \n",
       "14  C:\\Users\\blunds\\OneDrive - Roskilde Universite...   \n",
       "15  C:\\Users\\blunds\\OneDrive - Roskilde Universite...   \n",
       "16  C:\\Users\\blunds\\OneDrive - Roskilde Universite...   \n",
       "17  C:\\Users\\blunds\\OneDrive - Roskilde Universite...   \n",
       "18  C:\\Users\\blunds\\OneDrive - Roskilde Universite...   \n",
       "19  C:\\Users\\blunds\\OneDrive - Roskilde Universite...   \n",
       "\n",
       "                                           clean_text  \\\n",
       "0   the command pdftotext c \\users\\blunds\\onedrive...   \n",
       "1   o 13 overenskomst for rengøringsassistenter ti...   \n",
       "2   the command pdftotext c \\users\\blunds\\onedrive...   \n",
       "3   o 13 overenskomst for husassistenter titel sta...   \n",
       "4   o 13 aftale om lokal løndannelse for hus ren o...   \n",
       "5   the command tesseract c \\users\\blunds\\onedrive...   \n",
       "6   side 1 underbilag bilag xd retningslinjer pers...   \n",
       "7    tilbudsgivers navn besvarelsesark til underkr...   \n",
       "8    virksomhedsoverdragelses nr startdato stopdat...   \n",
       "9                  incomplete escape \\u at position 2   \n",
       "10  eut s s36 20 02 2015 61613 2015 da 1 4 denne b...   \n",
       "11  udbudsbetingelser til udbud af rengøring i hel...   \n",
       "12  8 april 2022 dokumentliste parter og bilag dok...   \n",
       "13  8 april 2022 dokumentliste parter og bilag dok...   \n",
       "14  11 april 2022 sag titel delaftale 1 østdanmark...   \n",
       "15  11 april 2022 sag titel delaftale 2 vestdanmar...   \n",
       "16  eut s s190 03 10 2014 335513 2014 da 1 10 denn...   \n",
       "17  aftale om drift og vedligehold af tekniske bas...   \n",
       "18  bilag 1 – erklæringer om udelukkelse og gæld t...   \n",
       "19  udbudsbekendtgørelse del i ordregivende myndig...   \n",
       "\n",
       "                                                 word  \\\n",
       "0   [the, command, pdftotext, c, \\users\\blunds\\one...   \n",
       "1   [o, 13, overenskomst, for, rengøringsassistent...   \n",
       "2   [the, command, pdftotext, c, \\users\\blunds\\one...   \n",
       "3   [o, 13, overenskomst, for, husassistenter, tit...   \n",
       "4   [o, 13, aftale, om, lokal, løndannelse, for, h...   \n",
       "5   [the, command, tesseract, c, \\users\\blunds\\one...   \n",
       "6   [side, 1, underbilag, bilag, xd, retningslinje...   \n",
       "7   [tilbudsgivers, navn, besvarelsesark, til, und...   \n",
       "8   [virksomhedsoverdragelses, nr, startdato, stop...   \n",
       "9           [incomplete, escape, \\u, at, position, 2]   \n",
       "10  [eut, s, s36, 20, 02, 2015, 61613, 2015, da, 1...   \n",
       "11  [udbudsbetingelser, til, udbud, af, rengøring,...   \n",
       "12  [8, april, 2022, dokumentliste, parter, og, bi...   \n",
       "13  [8, april, 2022, dokumentliste, parter, og, bi...   \n",
       "14  [11, april, 2022, sag, titel, delaftale, 1, øs...   \n",
       "15  [11, april, 2022, sag, titel, delaftale, 2, ve...   \n",
       "16  [eut, s, s190, 03, 10, 2014, 335513, 2014, da,...   \n",
       "17  [aftale, om, drift, og, vedligehold, af, tekni...   \n",
       "18  [bilag, 1, –, erklæringer, om, udelukkelse, og...   \n",
       "19  [udbudsbekendtgørelse, del, i, ordregivende, m...   \n",
       "\n",
       "                                                lemmy  \\\n",
       "0   [the, command, pdftotext, c, \\users\\blunds\\one...   \n",
       "1   [o, 13, overenskomst, for, rengøringsassistent...   \n",
       "2   [the, command, pdftotext, c, \\users\\blunds\\one...   \n",
       "3   [o, 13, overenskomst, for, husassistent, titel...   \n",
       "4   [o, 13, aftale, om, lokal, løndannelse, for, h...   \n",
       "5   [the, command, tesseract, c, \\users\\blunds\\one...   \n",
       "6   [side, 1, underbilag, bilag, xd, retningslinje...   \n",
       "7   [tilbudsgiver, navn, besvarelsesark, til, unde...   \n",
       "8   [virksomhedsoverdragelse, nr, startdato, stopd...   \n",
       "9           [incomplete, escape, \\u, at, position, 2]   \n",
       "10  [eut, s, s36, 20, 02, 2015, 61613, 2015, da, 1...   \n",
       "11  [udbudsbetingelse, til, udbud, af, rengøring, ...   \n",
       "12  [8, april, 2022, dokumentliste, partere, og, b...   \n",
       "13  [8, april, 2022, dokumentliste, partere, og, b...   \n",
       "14  [11, april, 2022, sag, titel, delaftale, 1, øs...   \n",
       "15  [11, april, 2022, sag, titel, delaftale, 2, ve...   \n",
       "16  [eut, s, s190, 03, 10, 2014, 335513, 2014, da,...   \n",
       "17  [aftale, om, drifte, og, vedligehold, af, tekn...   \n",
       "18  [bilag, 1, –, erklæring, om, udelukkelse, og, ...   \n",
       "19  [udbudsbekendtgørelse, del, i, ordregive, mynd...   \n",
       "\n",
       "                                               tema_1  \\\n",
       "0                                                  []   \n",
       "1                                               [vol]   \n",
       "2                                                  []   \n",
       "3                                               [vol]   \n",
       "4                                                  []   \n",
       "5                                                  []   \n",
       "6                                                  []   \n",
       "7                                                  []   \n",
       "8                                                  []   \n",
       "9                                                  []   \n",
       "10  [virksomhedsoverdragelsesloven, virksomhedsove...   \n",
       "11                    [virksomhedsoverdragelsesloven]   \n",
       "12                                                 []   \n",
       "13                                                 []   \n",
       "14  [udbudsregler, vol, vol, virksomhedsoverdragel...   \n",
       "15  [udbudsregler, vol, vol, virksomhedsoverdragel...   \n",
       "16                                [vol, udbudsregler]   \n",
       "17                                                 []   \n",
       "18                                                 []   \n",
       "19                                              [vol]   \n",
       "\n",
       "                                               tema_2 tema_3 tema_4  ...  \\\n",
       "0   [projekt\\virksomhedsoverdragelse\\dokument, pro...     []     []  ...   \n",
       "1                                                  []     []     []  ...   \n",
       "2   [projekt\\virksomhedsoverdragelse\\dokument, pro...     []     []  ...   \n",
       "3                                                  []     []     []  ...   \n",
       "4                                                  []     []     []  ...   \n",
       "5          [projekt\\virksomhedsoverdragelse\\dokument]     []     []  ...   \n",
       "6                                                  []     []     []  ...   \n",
       "7                                                  []     []     []  ...   \n",
       "8                           [virksomhedsoverdragelse]     []     []  ...   \n",
       "9                                                  []     []     []  ...   \n",
       "10                          [virksomhedsoverdragelse]     []     []  ...   \n",
       "11                          [virksomhedsoverdragelse]     []     []  ...   \n",
       "12                          [virksomhedsoverdragelse]     []     []  ...   \n",
       "13                          [virksomhedsoverdragelse]     []     []  ...   \n",
       "14  [virksomhedsoverdragelse, virksomhedsoverdrage...     []     []  ...   \n",
       "15  [virksomhedsoverdragelse, virksomhedsoverdrage...     []     []  ...   \n",
       "16  [virksomhedsoverdragelse, virksomhedsoverdrage...     []     []  ...   \n",
       "17                          [virksomhedsoverdragelse]     []     []  ...   \n",
       "18                                                 []     []     []  ...   \n",
       "19                             [virksomhedsoverdrage]     []     []  ...   \n",
       "\n",
       "   tema_27                                            tema_28  \\\n",
       "0       []                                                 []   \n",
       "1       []  [personafgrænsning, materiale, rengøringsperso...   \n",
       "2       []  [kontorpersonale, personale, kontorpersonale, ...   \n",
       "3       []  [personafgrænsning, person, materiale, persona...   \n",
       "4       []  [person, opgave, opgave, opgave, opgavevaretag...   \n",
       "5       []                                                 []   \n",
       "6       []  [personaleforhold, personalegode, personalepol...   \n",
       "7       []  [udbudsmateriale, opgave, opgave, reng�ringspe...   \n",
       "8       []                         [arbejdsopgave, materiale]   \n",
       "9       []                                                 []   \n",
       "10      []  [serviceopgave, person, person, opgave, person...   \n",
       "11      []  [udbudsmateriale, kontaktperson, materiale, ud...   \n",
       "12      []                 [personalegode, opgavebeskrivelse]   \n",
       "13      []                 [personalegode, opgavebeskrivelse]   \n",
       "14      []  [opgavebeskrivelse, personalegode, opgavebeskr...   \n",
       "15      []  [opgavebeskrivelse, personalegode, opgavebeskr...   \n",
       "16      []  [udskiftningsopgave, udbudsmateriale, udbudsma...   \n",
       "17      []  [udbudsmateriale, udbudsmateriale, udbudsmater...   \n",
       "18      []                                   [person, person]   \n",
       "19      []  [udbudsmateriale, opgave, opgave, opgave, pers...   \n",
       "\n",
       "                                              tema_29  \\\n",
       "0   [projekt\\virksomhedsoverdragelse\\dokument, pro...   \n",
       "1   [tilsyn, tilsynsassistent, tilsynsassistent, t...   \n",
       "2   [projekt\\virksomhedsoverdragelse\\dokument, pro...   \n",
       "3   [tilsyn, tilsynsassistent, tilsynsassistent, t...   \n",
       "4                    [tilsyn, orientere, dokumentere]   \n",
       "5          [projekt\\virksomhedsoverdragelse\\dokument]   \n",
       "6                                    [tilsynsførende]   \n",
       "7                                          [dokument]   \n",
       "8   [tilsynsassistent, tilsyn, tilsynsførende, til...   \n",
       "9                                                  []   \n",
       "10                          [tjenesteydelseskategori]   \n",
       "11  [dokument, dokumentation, dokumentation, dokum...   \n",
       "12  [dokumentliste, dokumentnummer, dokumentparter...   \n",
       "13  [dokumentliste, dokumentnummer, dokumentparter...   \n",
       "14  [dokument, dokumentation, dokumentation, dokum...   \n",
       "15  [dokument, dokumentation, dokumentation, dokum...   \n",
       "16  [dokument, dokument, tjenesteydelseskategori, ...   \n",
       "17  [dokument, dokumentation, dokument, dokument, ...   \n",
       "18  [dokumentation, dokumentation, kildeskat, doku...   \n",
       "19  [dokument, dokument, tjenesteydelseskategori, ...   \n",
       "\n",
       "                                              tema_30  \\\n",
       "0                              [ 3f,  foa,  3f,  foa]   \n",
       "1   [ 3f,  3f, metal, metal,  3f,  3f,  3f,  3f, m...   \n",
       "2                                          [ hk,  hk]   \n",
       "3   [ foa,  foa, metal,  foa,  foa,  foa,  foa, me...   \n",
       "4   [ foa,  3f,  foa,  3f,  foa,  3f,  foa,  3f,  3f]   \n",
       "5                                               [ 3f]   \n",
       "6                                    [ 3f,  foa,  3f]   \n",
       "7                                                  []   \n",
       "8   [ foa,  3f,  hk,  3f,  3f,  3f,  3f,  3f,  3f,...   \n",
       "9                                                  []   \n",
       "10                                                 []   \n",
       "11                   [ 3f,  foa,  3f,  hk,  foa,  3f]   \n",
       "12                                                 []   \n",
       "13                                                 []   \n",
       "14  [fagforening,  3f, metal, metal, metal,  3f,  ...   \n",
       "15  [fagforening, metal,  3f, metal, metal, metal,...   \n",
       "16                              [metal, metal, metal]   \n",
       "17                                              [ 3f]   \n",
       "18                                                 []   \n",
       "19                                                 []   \n",
       "\n",
       "                           tema_31     tema_32_1  \\\n",
       "0                               []            []   \n",
       "1   [seniorpolitik, seniorpolitik]            []   \n",
       "2                               []            []   \n",
       "3   [seniorpolitik, seniorpolitik]            []   \n",
       "4                               []            []   \n",
       "5                               []            []   \n",
       "6                               []            []   \n",
       "7                               []            []   \n",
       "8                               []            []   \n",
       "9                               []            []   \n",
       "10                              []            []   \n",
       "11                              []            []   \n",
       "12                              []            []   \n",
       "13                              []            []   \n",
       "14                              []            []   \n",
       "15                              []            []   \n",
       "16                              []            []   \n",
       "17                              []            []   \n",
       "18                              []  [ rut,  rut]   \n",
       "19                              []            []   \n",
       "\n",
       "                                            tema_32_2  \\\n",
       "0                                                  []   \n",
       "1                                                  []   \n",
       "2                                                  []   \n",
       "3                                                  []   \n",
       "4                                                  []   \n",
       "5                                                  []   \n",
       "6                                                  []   \n",
       "7                                                  []   \n",
       "8                                                  []   \n",
       "9                                                  []   \n",
       "10                                                 []   \n",
       "11                                  [underleverandør]   \n",
       "12                                                 []   \n",
       "13                                                 []   \n",
       "14  [underleverandør, underleverandør, underlevera...   \n",
       "15  [underleverandør, underleverandør, underlevera...   \n",
       "16  [underleverandør, underleverandør, underlevera...   \n",
       "17                 [underleverandør, underleverandør]   \n",
       "18  [underleverandør, underleverandør, underlevera...   \n",
       "19                                                 []   \n",
       "\n",
       "                                              tema_32  \\\n",
       "0                                                  []   \n",
       "1                                                  []   \n",
       "2                                                  []   \n",
       "3                                                  []   \n",
       "4                                                  []   \n",
       "5                                                  []   \n",
       "6                                                  []   \n",
       "7                                                  []   \n",
       "8                                                  []   \n",
       "9                                                  []   \n",
       "10                                                 []   \n",
       "11                                  [underleverandør]   \n",
       "12                                                 []   \n",
       "13                                                 []   \n",
       "14  [underleverandør, underleverandør, underlevera...   \n",
       "15  [underleverandør, underleverandør, underlevera...   \n",
       "16  [underleverandør, underleverandør, underlevera...   \n",
       "17                 [underleverandør, underleverandør]   \n",
       "18  [ rut,  rut, underleverandør, underleverandør,...   \n",
       "19                                                 []   \n",
       "\n",
       "                                              tema_33  \\\n",
       "0                                                  []   \n",
       "1                                                  []   \n",
       "2                                                  []   \n",
       "3                                                  []   \n",
       "4                                                  []   \n",
       "5                                                  []   \n",
       "6                                                  []   \n",
       "7                                                  []   \n",
       "8                                       [lønrefusion]   \n",
       "9                                                  []   \n",
       "10                                                 []   \n",
       "11                                                 []   \n",
       "12                                                 []   \n",
       "13                                                 []   \n",
       "14  [refusion, medarbejderrefusionsopgørelse, meda...   \n",
       "15  [refusion, medarbejderrefusionsopgørelse, meda...   \n",
       "16                                                 []   \n",
       "17                                                 []   \n",
       "18                                                 []   \n",
       "19                                                 []   \n",
       "\n",
       "                                              tema_34  \n",
       "0                                                  []  \n",
       "1   [§, §, §, §, §, §, §, §, §, §§, §, §, §, §, §,...  \n",
       "2                                                  []  \n",
       "3   [§, §, §, §, §, §, §, §, §§, §, §, §, §, §, §,...  \n",
       "4   [§, §, §, §, §, §, §, §, §, §, §, §, §, §, §, ...  \n",
       "5                                                  []  \n",
       "6                                                  []  \n",
       "7                                                  []  \n",
       "8                                          [§56, §56]  \n",
       "9                                                  []  \n",
       "10                                 [§, §, §, §, §, §]  \n",
       "11                                                 []  \n",
       "12                                                 []  \n",
       "13                                                 []  \n",
       "14  [§45, §13, §, §, §, §, §, §, §, §§, §§, §§, §,...  \n",
       "15  [§45, §13, §, §, §, §, §, §, §, §§, §§, §§, §,...  \n",
       "16                                             [§, §]  \n",
       "17                                             [§, §]  \n",
       "18                                 [§, §, §, §, §, §]  \n",
       "19                                 [§, §, §, §, §, §]  \n",
       "\n",
       "[20 rows x 64 columns]"
      ]
     },
     "execution_count": 294,
     "metadata": {},
     "output_type": "execute_result"
    }
   ],
   "source": [
    "corpus.head(20)"
   ]
  },
  {
   "cell_type": "code",
   "execution_count": 295,
   "id": "1bb9a851",
   "metadata": {},
   "outputs": [],
   "source": [
    "corpus.to_csv(\"virksomhedsoverdragelser_tema.csv\", mode = 'w', columns=['filename', 'filedir', 'tema_1', 'tema_2', 'tema_3', 'tema_4', 'tema_5', 'tema_6', 'tema_7', 'tema_8', 'tema_9', 'tema_10', 'tema_11', 'tema_12', 'tema_13', 'tema_14', 'tema_15', 'tema_16', 'tema_17', 'tema_18', 'tema_19', 'tema_20', 'tema_21', 'tema_22', 'tema_23', 'tema_24', 'tema_25', 'tema_26', 'tema_27', 'tema_28', 'tema_29', 'tema_30', 'tema_31', 'tema_32', 'tema_33', 'tema_34'], index=False)"
   ]
  },
  {
   "cell_type": "code",
   "execution_count": 296,
   "id": "1d84913f",
   "metadata": {},
   "outputs": [],
   "source": [
    "corpus.to_pickle(\"virksomhedsoverdragelser_tema.pkl\")"
   ]
  },
  {
   "cell_type": "code",
   "execution_count": null,
   "id": "81813fee",
   "metadata": {},
   "outputs": [],
   "source": []
  }
 ],
 "metadata": {
  "kernelspec": {
   "display_name": "Python 3 (ipykernel)",
   "language": "python",
   "name": "python3"
  },
  "language_info": {
   "codemirror_mode": {
    "name": "ipython",
    "version": 3
   },
   "file_extension": ".py",
   "mimetype": "text/x-python",
   "name": "python",
   "nbconvert_exporter": "python",
   "pygments_lexer": "ipython3",
   "version": "3.8.8"
  }
 },
 "nbformat": 4,
 "nbformat_minor": 5
}
