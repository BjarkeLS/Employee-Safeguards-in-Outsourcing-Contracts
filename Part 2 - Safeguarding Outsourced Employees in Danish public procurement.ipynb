{
 "cells": [
  {
   "cell_type": "markdown",
   "id": "5dcd62db",
   "metadata": {},
   "source": [
    "## Packages"
   ]
  },
  {
   "cell_type": "code",
   "execution_count": null,
   "id": "2f731bad",
   "metadata": {},
   "outputs": [],
   "source": [
    "import nltk\n",
    "import nltk\n",
    "nltk.download('punkt')\n",
    "import re \n",
    "from nltk.tokenize import sent_tokenize\n",
    "from nltk.tokenize import word_tokenize\n",
    "import pandas as pd\n",
    "\n",
    "import os\n",
    "\n",
    "import json\n",
    "\n",
    "from nltk.corpus import stopwords\n",
    "import lemmy"
   ]
  },
  {
   "cell_type": "markdown",
   "id": "2c65a85a",
   "metadata": {},
   "source": [
    "## Data"
   ]
  },
  {
   "cell_type": "code",
   "execution_count": null,
   "id": "cc57ece3",
   "metadata": {},
   "outputs": [],
   "source": [
    "corpus = pd.read_pickle(\"virksomhedsoverdragelse_samlet.pkl\") # Note: data is not available"
   ]
  },
  {
   "cell_type": "markdown",
   "id": "81c39a9b",
   "metadata": {},
   "source": [
    "## Filter -  Document related to tender with Employee transfers"
   ]
  },
  {
   "cell_type": "markdown",
   "id": "d5dbdff3",
   "metadata": {},
   "source": [
    "### Recode filename"
   ]
  },
  {
   "cell_type": "code",
   "execution_count": 2,
   "id": "b36d2e9d",
   "metadata": {},
   "outputs": [],
   "source": [
    "def cleanfilename(filename):\n",
    "    filename = re.sub('[-_,]', '', filename) # removes special characters and symbols from title\n",
    "    filename = re.sub('[.]', ' ', filename) # Recode period to space\n",
    "    return filename"
   ]
  },
  {
   "cell_type": "code",
   "execution_count": null,
   "id": "610c1c4a",
   "metadata": {},
   "outputs": [],
   "source": [
    "corpus['filename'] = corpus.filename.apply(lambda x : cleanfilename(x))\n",
    "corpus.head(20)"
   ]
  },
  {
   "cell_type": "markdown",
   "id": "12eba35f",
   "metadata": {},
   "source": [
    "### Identify document in which employee transfers is included based on document ID"
   ]
  },
  {
   "cell_type": "code",
   "execution_count": 5,
   "id": "f4a61e60",
   "metadata": {},
   "outputs": [],
   "source": [
    "def extract_filter(filename):\n",
    "    FileObj = open(filename, 'rb')\n",
    "    read = pd.read_excel(filename, engine='openpyxl')\n",
    "    read = read.to_string(index=False)\n",
    "    return (read)"
   ]
  },
  {
   "cell_type": "code",
   "execution_count": 6,
   "id": "66b7df5d",
   "metadata": {},
   "outputs": [],
   "source": [
    "filter_doc = extract_filter (r'doc_id virksomhedsoverdragelser.xlsx') # Note: data is not available"
   ]
  },
  {
   "cell_type": "code",
   "execution_count": 7,
   "id": "4f077d20",
   "metadata": {},
   "outputs": [],
   "source": [
    "filter_doc = filter_doc.split(\"\\n\")"
   ]
  },
  {
   "cell_type": "code",
   "execution_count": 8,
   "id": "acb9d058",
   "metadata": {},
   "outputs": [],
   "source": [
    "filter_doc = [s.replace(\"-\", \"\")for s in filter_doc]\n",
    "filter_doc = [s.replace(\"_\", \"\")for s in filter_doc]"
   ]
  },
  {
   "cell_type": "code",
   "execution_count": null,
   "id": "3ea51474",
   "metadata": {},
   "outputs": [],
   "source": [
    "filter_doc = [x.strip(' ') for x in filter_doc]"
   ]
  },
  {
   "cell_type": "code",
   "execution_count": null,
   "id": "d7b26565",
   "metadata": {},
   "outputs": [],
   "source": [
    "corpus = corpus[corpus[\"filename\"].str.contains('|'.join(filter_doc))]"
   ]
  },
  {
   "cell_type": "code",
   "execution_count": 18,
   "id": "d487c474",
   "metadata": {},
   "outputs": [
    {
     "data": {
      "text/html": [
       "<div>\n",
       "<style scoped>\n",
       "    .dataframe tbody tr th:only-of-type {\n",
       "        vertical-align: middle;\n",
       "    }\n",
       "\n",
       "    .dataframe tbody tr th {\n",
       "        vertical-align: top;\n",
       "    }\n",
       "\n",
       "    .dataframe thead th {\n",
       "        text-align: right;\n",
       "    }\n",
       "</style>\n",
       "<table border=\"1\" class=\"dataframe\">\n",
       "  <thead>\n",
       "    <tr style=\"text-align: right;\">\n",
       "      <th></th>\n",
       "      <th>filename</th>\n",
       "      <th>text</th>\n",
       "      <th>filedir</th>\n",
       "      <th>clean_text</th>\n",
       "      <th>word</th>\n",
       "      <th>lemmy</th>\n",
       "      <th>virksomhedsoverdragelse</th>\n",
       "    </tr>\n",
       "  </thead>\n",
       "  <tbody>\n",
       "    <tr>\n",
       "      <th>15</th>\n",
       "      <td>Udbudsresume 3672982021 pdf</td>\n",
       "      <td>Danmark-København: Reparation, vedligeholdelse...</td>\n",
       "      <td>F:\\contract-skills-and-performance\\Download af...</td>\n",
       "      <td>danmark københavn reparation vedligeholdelse o...</td>\n",
       "      <td>[danmark, københavn, reparation, vedligeholdel...</td>\n",
       "      <td>[danmark, københavn, reparation, vedligeholdel...</td>\n",
       "      <td>[]</td>\n",
       "    </tr>\n",
       "    <tr>\n",
       "      <th>151</th>\n",
       "      <td>Udbudsresume 3672982021 pdf</td>\n",
       "      <td>Danmark-København: Reparation, vedligeholdelse...</td>\n",
       "      <td>F:\\contract-skills-and-performance\\Download af...</td>\n",
       "      <td>danmark københavn reparation vedligeholdelse o...</td>\n",
       "      <td>[danmark, københavn, reparation, vedligeholdel...</td>\n",
       "      <td>[danmark, københavn, reparation, vedligeholdel...</td>\n",
       "      <td>[]</td>\n",
       "    </tr>\n",
       "    <tr>\n",
       "      <th>5273</th>\n",
       "      <td>Erhvervslejekontrakt  Bilag 1  plantegning ove...</td>\n",
       "      <td></td>\n",
       "      <td>F:\\contract-skills-and-performance\\Download af...</td>\n",
       "      <td></td>\n",
       "      <td>[]</td>\n",
       "      <td>[]</td>\n",
       "      <td>[]</td>\n",
       "    </tr>\n",
       "    <tr>\n",
       "      <th>5274</th>\n",
       "      <td>Erhvervslejekontrakt  Bilag 2  stueplan 129286...</td>\n",
       "      <td>5-592\\r\\n\\r\\nCarolineparken - leje af lokaler\\...</td>\n",
       "      <td>F:\\contract-skills-and-performance\\Download af...</td>\n",
       "      <td>5 592 carolineparken leje af lokaler storkøkke...</td>\n",
       "      <td>[5, 592, carolineparken, leje, af, lokaler, st...</td>\n",
       "      <td>[5, 592, carolinepark, leje, af, lokale, stork...</td>\n",
       "      <td>[]</td>\n",
       "    </tr>\n",
       "    <tr>\n",
       "      <th>5275</th>\n",
       "      <td>Erhvervslejekontrakt  Bilag 3  kælderfacilitet...</td>\n",
       "      <td>5-592\\r\\n\\r\\nCarolineparken - leje af lokaler\\...</td>\n",
       "      <td>F:\\contract-skills-and-performance\\Download af...</td>\n",
       "      <td>5 592 carolineparken leje af lokaler storkøkke...</td>\n",
       "      <td>[5, 592, carolineparken, leje, af, lokaler, st...</td>\n",
       "      <td>[5, 592, carolinepark, leje, af, lokale, stork...</td>\n",
       "      <td>[]</td>\n",
       "    </tr>\n",
       "    <tr>\n",
       "      <th>5276</th>\n",
       "      <td>Erhvervslejekontrakt  Bilag 4 Fotooversigt 129...</td>\n",
       "      <td></td>\n",
       "      <td>F:\\contract-skills-and-performance\\Download af...</td>\n",
       "      <td></td>\n",
       "      <td>[]</td>\n",
       "      <td>[]</td>\n",
       "      <td>[]</td>\n",
       "    </tr>\n",
       "    <tr>\n",
       "      <th>5277</th>\n",
       "      <td>Erhvervslejekontrakt  Bilag 5  Inventarliste o...</td>\n",
       "      <td>Inventarliste pr. m...</td>\n",
       "      <td>F:\\contract-skills-and-performance\\Download af...</td>\n",
       "      <td>inventarliste pr marts 2021 unnamed 1 unnamed...</td>\n",
       "      <td>[inventarliste, pr, marts, 2021, unnamed, 1, u...</td>\n",
       "      <td>[inventarliste, per, marts, 2021, unnamed, 1, ...</td>\n",
       "      <td>[]</td>\n",
       "    </tr>\n",
       "    <tr>\n",
       "      <th>5278</th>\n",
       "      <td>Erhvervslejekontrakt  Bilag 6  lejeberegning 1...</td>\n",
       "      <td>Bilag 6\\r\\nErhvervslejekontrakt\\r\\n\\r\\nDok.nr....</td>\n",
       "      <td>F:\\contract-skills-and-performance\\Download af...</td>\n",
       "      <td>bilag 6 erhvervslejekontrakt dok nr 20318 21 s...</td>\n",
       "      <td>[bilag, 6, erhvervslejekontrakt, dok, nr, 2031...</td>\n",
       "      <td>[bilag, 6, erhvervslejekontrakt, dokke, nr, 20...</td>\n",
       "      <td>[]</td>\n",
       "    </tr>\n",
       "    <tr>\n",
       "      <th>5279</th>\n",
       "      <td>Erhvervslejekontrakt  Byog Boligministeriets c...</td>\n",
       "      <td>Tjekliste - Erhvervslejeloven\\r\\nDenne vejledn...</td>\n",
       "      <td>F:\\contract-skills-and-performance\\Download af...</td>\n",
       "      <td>tjekliste erhvervslejeloven denne vejledning e...</td>\n",
       "      <td>[tjekliste, erhvervslejeloven, denne, vejledni...</td>\n",
       "      <td>[tjekliste, erhvervslejelov, denne, vejledning...</td>\n",
       "      <td>[]</td>\n",
       "    </tr>\n",
       "    <tr>\n",
       "      <th>5280</th>\n",
       "      <td>Kontrakt  Delaftale 1  Madservice Plejecentren...</td>\n",
       "      <td>Kontrakt Madservice \\n\\nDelaftale 1 - Plejecen...</td>\n",
       "      <td>F:\\contract-skills-and-performance\\Download af...</td>\n",
       "      <td>kontrakt madservice delaftale 1 plejecentre 23...</td>\n",
       "      <td>[kontrakt, madservice, delaftale, 1, plejecent...</td>\n",
       "      <td>[kontrakt, madservice, delaftale, 1, plejecent...</td>\n",
       "      <td>[virksomhedsoverdragelse, virksomhedsoverdrage...</td>\n",
       "    </tr>\n",
       "    <tr>\n",
       "      <th>5281</th>\n",
       "      <td>Kontrakt  Delaftale 2  Madservice til visitere...</td>\n",
       "      <td>Kontrakt Madservice \\n\\nDelaftale 2 – Visitere...</td>\n",
       "      <td>F:\\contract-skills-and-performance\\Download af...</td>\n",
       "      <td>kontrakt madservice delaftale 2 – visitere hje...</td>\n",
       "      <td>[kontrakt, madservice, delaftale, 2, –, visite...</td>\n",
       "      <td>[kontrakt, madservice, delaftale, 2, –, visite...</td>\n",
       "      <td>[]</td>\n",
       "    </tr>\n",
       "    <tr>\n",
       "      <th>5282</th>\n",
       "      <td>Kontraktbilag 1  Tilbudsliste XLSX 1292862021 ...</td>\n",
       "      <td>...</td>\n",
       "      <td>F:\\contract-skills-and-performance\\Download af...</td>\n",
       "      <td>vejledning til udfyldelse af tilbudslisten un...</td>\n",
       "      <td>[vejledning, til, udfyldelse, af, tilbudsliste...</td>\n",
       "      <td>[vejledning, til, udfyldelse, af, tilbudsliste...</td>\n",
       "      <td>[]</td>\n",
       "    </tr>\n",
       "    <tr>\n",
       "      <th>5283</th>\n",
       "      <td>Kontraktbilag 2  Kravspecifikationer DOCX 1292...</td>\n",
       "      <td>Udbud vedrørende Madservice\\t    \\n\\n         ...</td>\n",
       "      <td>F:\\contract-skills-and-performance\\Download af...</td>\n",
       "      <td>udbud vedrørende madservice kontraktbilag 2 kr...</td>\n",
       "      <td>[udbud, vedrørende, madservice, kontraktbilag,...</td>\n",
       "      <td>[udbud, vedrørende, madservice, kontraktbilag,...</td>\n",
       "      <td>[]</td>\n",
       "    </tr>\n",
       "    <tr>\n",
       "      <th>5284</th>\n",
       "      <td>Kontraktbilag 3  Kvalitetsstandard DOCX 129286...</td>\n",
       "      <td>Kontraktbilag 3 - Kvalitetsstandard for Madser...</td>\n",
       "      <td>F:\\contract-skills-and-performance\\Download af...</td>\n",
       "      <td>kontraktbilag 3 kvalitetsstandard for madservi...</td>\n",
       "      <td>[kontraktbilag, 3, kvalitetsstandard, for, mad...</td>\n",
       "      <td>[kontraktbilag, 3., kvalitetsstandard, for, ma...</td>\n",
       "      <td>[]</td>\n",
       "    </tr>\n",
       "    <tr>\n",
       "      <th>5285</th>\n",
       "      <td>Kontraktbilag 4  Kommunikation via omsorgssyst...</td>\n",
       "      <td>Kontraktbilag 4 - Kommunikation via omsorgssys...</td>\n",
       "      <td>F:\\contract-skills-and-performance\\Download af...</td>\n",
       "      <td>kontraktbilag 4 kommunikation via omsorgssyste...</td>\n",
       "      <td>[kontraktbilag, 4, kommunikation, via, omsorgs...</td>\n",
       "      <td>[kontraktbilag, 4, kommunikation, via, omsorgs...</td>\n",
       "      <td>[]</td>\n",
       "    </tr>\n",
       "    <tr>\n",
       "      <th>5286</th>\n",
       "      <td>Kontraktbilag 5  Tidsfrist aflevering til UDK ...</td>\n",
       "      <td>Servicebrev 06.11.2020 Indberetningsfrister og...</td>\n",
       "      <td>F:\\contract-skills-and-performance\\Download af...</td>\n",
       "      <td>servicebrev 06 11 2020 indberetningsfrister og...</td>\n",
       "      <td>[servicebrev, 06, 11, 2020, indberetningsfrist...</td>\n",
       "      <td>[servicebrev, 06, 11, 2020, indberetningsfrist...</td>\n",
       "      <td>[]</td>\n",
       "    </tr>\n",
       "    <tr>\n",
       "      <th>5287</th>\n",
       "      <td>Kontraktbilag 6  Erhvervslejekontrakt  Carolin...</td>\n",
       "      <td>\\r\\n\\r\\n\\r\\n\\r\\n\\r\\n\\r\\n\\r\\n\\r\\n\\r\\n\\r\\n      ...</td>\n",
       "      <td>F:\\contract-skills-and-performance\\Download af...</td>\n",
       "      <td>erhvervslejekontrakt ikke erhvervsbeskyttet m...</td>\n",
       "      <td>[erhvervslejekontrakt, ikke, erhvervsbeskyttet...</td>\n",
       "      <td>[erhvervslejekontrakt, ikke, erhvervsbeskytte,...</td>\n",
       "      <td>[]</td>\n",
       "    </tr>\n",
       "    <tr>\n",
       "      <th>5288</th>\n",
       "      <td>Udbudsbetingelser Madservice DOCX 1292862021 docx</td>\n",
       "      <td>Udbud\\n\\n\\n\\n\\n\\nLight regimet\\n\\n\\n\\nPå lever...</td>\n",
       "      <td>F:\\contract-skills-and-performance\\Download af...</td>\n",
       "      <td>udbud light regimet på levering af madservice ...</td>\n",
       "      <td>[udbud, light, regimet, på, levering, af, mads...</td>\n",
       "      <td>[udbud, light, regime, på, levering, af, madse...</td>\n",
       "      <td>[virksomhedsoverdragelse, virksomhedsoverdrage...</td>\n",
       "    </tr>\n",
       "    <tr>\n",
       "      <th>5289</th>\n",
       "      <td>Udbudsbilag 1  Delaftale 1  Tilbudsbesvarelse ...</td>\n",
       "      <td>Varde Kommune, Udbud af madservice\\t\\tDelaftal...</td>\n",
       "      <td>F:\\contract-skills-and-performance\\Download af...</td>\n",
       "      <td>varde kommune udbud af madservice delaftale 1 ...</td>\n",
       "      <td>[varde, kommune, udbud, af, madservice, delaft...</td>\n",
       "      <td>[varde, kommune, udbud, af, madservice, delaft...</td>\n",
       "      <td>[]</td>\n",
       "    </tr>\n",
       "    <tr>\n",
       "      <th>5290</th>\n",
       "      <td>Udbudsbilag 2  Delaftale 2  Tilbudsbesvarelse ...</td>\n",
       "      <td>Varde Kommune, Udbud af madservice\\t\\txx 2021\\...</td>\n",
       "      <td>F:\\contract-skills-and-performance\\Download af...</td>\n",
       "      <td>varde kommune udbud af madservice xx 2021 udbu...</td>\n",
       "      <td>[varde, kommune, udbud, af, madservice, xx, 20...</td>\n",
       "      <td>[varde, kommune, udbud, af, madservice, xx, 20...</td>\n",
       "      <td>[]</td>\n",
       "    </tr>\n",
       "  </tbody>\n",
       "</table>\n",
       "</div>"
      ],
      "text/plain": [
       "                                               filename  \\\n",
       "15                          Udbudsresume 3672982021 pdf   \n",
       "151                         Udbudsresume 3672982021 pdf   \n",
       "5273  Erhvervslejekontrakt  Bilag 1  plantegning ove...   \n",
       "5274  Erhvervslejekontrakt  Bilag 2  stueplan 129286...   \n",
       "5275  Erhvervslejekontrakt  Bilag 3  kælderfacilitet...   \n",
       "5276  Erhvervslejekontrakt  Bilag 4 Fotooversigt 129...   \n",
       "5277  Erhvervslejekontrakt  Bilag 5  Inventarliste o...   \n",
       "5278  Erhvervslejekontrakt  Bilag 6  lejeberegning 1...   \n",
       "5279  Erhvervslejekontrakt  Byog Boligministeriets c...   \n",
       "5280  Kontrakt  Delaftale 1  Madservice Plejecentren...   \n",
       "5281  Kontrakt  Delaftale 2  Madservice til visitere...   \n",
       "5282  Kontraktbilag 1  Tilbudsliste XLSX 1292862021 ...   \n",
       "5283  Kontraktbilag 2  Kravspecifikationer DOCX 1292...   \n",
       "5284  Kontraktbilag 3  Kvalitetsstandard DOCX 129286...   \n",
       "5285  Kontraktbilag 4  Kommunikation via omsorgssyst...   \n",
       "5286  Kontraktbilag 5  Tidsfrist aflevering til UDK ...   \n",
       "5287  Kontraktbilag 6  Erhvervslejekontrakt  Carolin...   \n",
       "5288  Udbudsbetingelser Madservice DOCX 1292862021 docx   \n",
       "5289  Udbudsbilag 1  Delaftale 1  Tilbudsbesvarelse ...   \n",
       "5290  Udbudsbilag 2  Delaftale 2  Tilbudsbesvarelse ...   \n",
       "\n",
       "                                                   text  \\\n",
       "15    Danmark-København: Reparation, vedligeholdelse...   \n",
       "151   Danmark-København: Reparation, vedligeholdelse...   \n",
       "5273                                                  \n",
       "   \n",
       "5274  5-592\\r\\n\\r\\nCarolineparken - leje af lokaler\\...   \n",
       "5275  5-592\\r\\n\\r\\nCarolineparken - leje af lokaler\\...   \n",
       "5276                                                  \n",
       "   \n",
       "5277                             Inventarliste pr. m...   \n",
       "5278  Bilag 6\\r\\nErhvervslejekontrakt\\r\\n\\r\\nDok.nr....   \n",
       "5279  Tjekliste - Erhvervslejeloven\\r\\nDenne vejledn...   \n",
       "5280  Kontrakt Madservice \\n\\nDelaftale 1 - Plejecen...   \n",
       "5281  Kontrakt Madservice \\n\\nDelaftale 2 – Visitere...   \n",
       "5282                                                ...   \n",
       "5283  Udbud vedrørende Madservice\\t    \\n\\n         ...   \n",
       "5284  Kontraktbilag 3 - Kvalitetsstandard for Madser...   \n",
       "5285  Kontraktbilag 4 - Kommunikation via omsorgssys...   \n",
       "5286  Servicebrev 06.11.2020 Indberetningsfrister og...   \n",
       "5287  \\r\\n\\r\\n\\r\\n\\r\\n\\r\\n\\r\\n\\r\\n\\r\\n\\r\\n\\r\\n      ...   \n",
       "5288  Udbud\\n\\n\\n\\n\\n\\nLight regimet\\n\\n\\n\\nPå lever...   \n",
       "5289  Varde Kommune, Udbud af madservice\\t\\tDelaftal...   \n",
       "5290  Varde Kommune, Udbud af madservice\\t\\txx 2021\\...   \n",
       "\n",
       "                                                filedir  \\\n",
       "15    F:\\contract-skills-and-performance\\Download af...   \n",
       "151   F:\\contract-skills-and-performance\\Download af...   \n",
       "5273  F:\\contract-skills-and-performance\\Download af...   \n",
       "5274  F:\\contract-skills-and-performance\\Download af...   \n",
       "5275  F:\\contract-skills-and-performance\\Download af...   \n",
       "5276  F:\\contract-skills-and-performance\\Download af...   \n",
       "5277  F:\\contract-skills-and-performance\\Download af...   \n",
       "5278  F:\\contract-skills-and-performance\\Download af...   \n",
       "5279  F:\\contract-skills-and-performance\\Download af...   \n",
       "5280  F:\\contract-skills-and-performance\\Download af...   \n",
       "5281  F:\\contract-skills-and-performance\\Download af...   \n",
       "5282  F:\\contract-skills-and-performance\\Download af...   \n",
       "5283  F:\\contract-skills-and-performance\\Download af...   \n",
       "5284  F:\\contract-skills-and-performance\\Download af...   \n",
       "5285  F:\\contract-skills-and-performance\\Download af...   \n",
       "5286  F:\\contract-skills-and-performance\\Download af...   \n",
       "5287  F:\\contract-skills-and-performance\\Download af...   \n",
       "5288  F:\\contract-skills-and-performance\\Download af...   \n",
       "5289  F:\\contract-skills-and-performance\\Download af...   \n",
       "5290  F:\\contract-skills-and-performance\\Download af...   \n",
       "\n",
       "                                             clean_text  \\\n",
       "15    danmark københavn reparation vedligeholdelse o...   \n",
       "151   danmark københavn reparation vedligeholdelse o...   \n",
       "5273                                                  \n",
       "   \n",
       "5274  5 592 carolineparken leje af lokaler storkøkke...   \n",
       "5275  5 592 carolineparken leje af lokaler storkøkke...   \n",
       "5276                                                  \n",
       "   \n",
       "5277   inventarliste pr marts 2021 unnamed 1 unnamed...   \n",
       "5278  bilag 6 erhvervslejekontrakt dok nr 20318 21 s...   \n",
       "5279  tjekliste erhvervslejeloven denne vejledning e...   \n",
       "5280  kontrakt madservice delaftale 1 plejecentre 23...   \n",
       "5281  kontrakt madservice delaftale 2 – visitere hje...   \n",
       "5282   vejledning til udfyldelse af tilbudslisten un...   \n",
       "5283  udbud vedrørende madservice kontraktbilag 2 kr...   \n",
       "5284  kontraktbilag 3 kvalitetsstandard for madservi...   \n",
       "5285  kontraktbilag 4 kommunikation via omsorgssyste...   \n",
       "5286  servicebrev 06 11 2020 indberetningsfrister og...   \n",
       "5287   erhvervslejekontrakt ikke erhvervsbeskyttet m...   \n",
       "5288  udbud light regimet på levering af madservice ...   \n",
       "5289  varde kommune udbud af madservice delaftale 1 ...   \n",
       "5290  varde kommune udbud af madservice xx 2021 udbu...   \n",
       "\n",
       "                                                   word  \\\n",
       "15    [danmark, københavn, reparation, vedligeholdel...   \n",
       "151   [danmark, københavn, reparation, vedligeholdel...   \n",
       "5273                                                 []   \n",
       "5274  [5, 592, carolineparken, leje, af, lokaler, st...   \n",
       "5275  [5, 592, carolineparken, leje, af, lokaler, st...   \n",
       "5276                                                 []   \n",
       "5277  [inventarliste, pr, marts, 2021, unnamed, 1, u...   \n",
       "5278  [bilag, 6, erhvervslejekontrakt, dok, nr, 2031...   \n",
       "5279  [tjekliste, erhvervslejeloven, denne, vejledni...   \n",
       "5280  [kontrakt, madservice, delaftale, 1, plejecent...   \n",
       "5281  [kontrakt, madservice, delaftale, 2, –, visite...   \n",
       "5282  [vejledning, til, udfyldelse, af, tilbudsliste...   \n",
       "5283  [udbud, vedrørende, madservice, kontraktbilag,...   \n",
       "5284  [kontraktbilag, 3, kvalitetsstandard, for, mad...   \n",
       "5285  [kontraktbilag, 4, kommunikation, via, omsorgs...   \n",
       "5286  [servicebrev, 06, 11, 2020, indberetningsfrist...   \n",
       "5287  [erhvervslejekontrakt, ikke, erhvervsbeskyttet...   \n",
       "5288  [udbud, light, regimet, på, levering, af, mads...   \n",
       "5289  [varde, kommune, udbud, af, madservice, delaft...   \n",
       "5290  [varde, kommune, udbud, af, madservice, xx, 20...   \n",
       "\n",
       "                                                  lemmy  \\\n",
       "15    [danmark, københavn, reparation, vedligeholdel...   \n",
       "151   [danmark, københavn, reparation, vedligeholdel...   \n",
       "5273                                                 []   \n",
       "5274  [5, 592, carolinepark, leje, af, lokale, stork...   \n",
       "5275  [5, 592, carolinepark, leje, af, lokale, stork...   \n",
       "5276                                                 []   \n",
       "5277  [inventarliste, per, marts, 2021, unnamed, 1, ...   \n",
       "5278  [bilag, 6, erhvervslejekontrakt, dokke, nr, 20...   \n",
       "5279  [tjekliste, erhvervslejelov, denne, vejledning...   \n",
       "5280  [kontrakt, madservice, delaftale, 1, plejecent...   \n",
       "5281  [kontrakt, madservice, delaftale, 2, –, visite...   \n",
       "5282  [vejledning, til, udfyldelse, af, tilbudsliste...   \n",
       "5283  [udbud, vedrørende, madservice, kontraktbilag,...   \n",
       "5284  [kontraktbilag, 3., kvalitetsstandard, for, ma...   \n",
       "5285  [kontraktbilag, 4, kommunikation, via, omsorgs...   \n",
       "5286  [servicebrev, 06, 11, 2020, indberetningsfrist...   \n",
       "5287  [erhvervslejekontrakt, ikke, erhvervsbeskytte,...   \n",
       "5288  [udbud, light, regime, på, levering, af, madse...   \n",
       "5289  [varde, kommune, udbud, af, madservice, delaft...   \n",
       "5290  [varde, kommune, udbud, af, madservice, xx, 20...   \n",
       "\n",
       "                                virksomhedsoverdragelse  \n",
       "15                                                   []  \n",
       "151                                                  []  \n",
       "5273                                                 []  \n",
       "5274                                                 []  \n",
       "5275                                                 []  \n",
       "5276                                                 []  \n",
       "5277                                                 []  \n",
       "5278                                                 []  \n",
       "5279                                                 []  \n",
       "5280  [virksomhedsoverdragelse, virksomhedsoverdrage...  \n",
       "5281                                                 []  \n",
       "5282                                                 []  \n",
       "5283                                                 []  \n",
       "5284                                                 []  \n",
       "5285                                                 []  \n",
       "5286                                                 []  \n",
       "5287                                                 []  \n",
       "5288  [virksomhedsoverdragelse, virksomhedsoverdrage...  \n",
       "5289                                                 []  \n",
       "5290                                                 []  "
      ]
     },
     "execution_count": 18,
     "metadata": {},
     "output_type": "execute_result"
    }
   ],
   "source": [
    "corpus.head(20)"
   ]
  },
  {
   "cell_type": "markdown",
   "id": "1ecf91e2",
   "metadata": {},
   "source": [
    "## Enables searching for uppercase letters"
   ]
  },
  {
   "cell_type": "code",
   "execution_count": 6,
   "id": "4eac6159",
   "metadata": {},
   "outputs": [],
   "source": [
    "def cleanSTOR(text):\n",
    "    text = re.sub('\\s\\s+', ' ', str(text)) # add spaces at line breaks\n",
    "    text = re.sub(\"\\n\", \"\", text) # remove line breaks\n",
    "    text = re.sub(\"\\r\", \" \", text) # remove line breaks in doc\n",
    "    text = re.sub(\"[()]\",\"\", text) # remove parentheses\n",
    "    text = re.sub(\"%\", \"\", text) # remove percentage\n",
    "    text = re.sub('[-()\\\"#/@;:<>{}`+=~|.!?,‰]', ' ', text) # remove special characters and symbols\n",
    "    text = re.sub(' +', ' ', text) # remove too many spaces\n",
    "    return text"
   ]
  },
  {
   "cell_type": "code",
   "execution_count": 7,
   "id": "03098efc",
   "metadata": {},
   "outputs": [],
   "source": [
    "corpus['clean_stor'] = corpus.text.apply(lambda x : cleanSTOR(x))"
   ]
  },
  {
   "cell_type": "code",
   "execution_count": 8,
   "id": "f5917c42",
   "metadata": {},
   "outputs": [
    {
     "data": {
      "text/html": [
       "<div>\n",
       "<style scoped>\n",
       "    .dataframe tbody tr th:only-of-type {\n",
       "        vertical-align: middle;\n",
       "    }\n",
       "\n",
       "    .dataframe tbody tr th {\n",
       "        vertical-align: top;\n",
       "    }\n",
       "\n",
       "    .dataframe thead th {\n",
       "        text-align: right;\n",
       "    }\n",
       "</style>\n",
       "<table border=\"1\" class=\"dataframe\">\n",
       "  <thead>\n",
       "    <tr style=\"text-align: right;\">\n",
       "      <th></th>\n",
       "      <th>filename</th>\n",
       "      <th>text</th>\n",
       "      <th>filedir</th>\n",
       "      <th>clean_text</th>\n",
       "      <th>word</th>\n",
       "      <th>lemmy</th>\n",
       "      <th>virksomhedsoverdragelse_2022_filter</th>\n",
       "      <th>clean_stor</th>\n",
       "    </tr>\n",
       "  </thead>\n",
       "  <tbody>\n",
       "    <tr>\n",
       "      <th>15</th>\n",
       "      <td>Udbudsresume 3672982021 pdf</td>\n",
       "      <td>Danmark-København: Reparation, vedligeholdelse...</td>\n",
       "      <td>F:\\contract-skills-and-performance\\Download af...</td>\n",
       "      <td>danmark københavn reparation vedligeholdelse o...</td>\n",
       "      <td>[danmark, københavn, reparation, vedligeholdel...</td>\n",
       "      <td>[danmark, københavn, reparation, vedligeholdel...</td>\n",
       "      <td>[]</td>\n",
       "      <td>Danmark København Reparation vedligeholdelse o...</td>\n",
       "    </tr>\n",
       "    <tr>\n",
       "      <th>151</th>\n",
       "      <td>Udbudsresume 3672982021 pdf</td>\n",
       "      <td>Danmark-København: Reparation, vedligeholdelse...</td>\n",
       "      <td>F:\\contract-skills-and-performance\\Download af...</td>\n",
       "      <td>danmark københavn reparation vedligeholdelse o...</td>\n",
       "      <td>[danmark, københavn, reparation, vedligeholdel...</td>\n",
       "      <td>[danmark, københavn, reparation, vedligeholdel...</td>\n",
       "      <td>[]</td>\n",
       "      <td>Danmark København Reparation vedligeholdelse o...</td>\n",
       "    </tr>\n",
       "    <tr>\n",
       "      <th>5273</th>\n",
       "      <td>Erhvervslejekontrakt  Bilag 1  plantegning ove...</td>\n",
       "      <td></td>\n",
       "      <td>F:\\contract-skills-and-performance\\Download af...</td>\n",
       "      <td></td>\n",
       "      <td>[]</td>\n",
       "      <td>[]</td>\n",
       "      <td>[]</td>\n",
       "      <td></td>\n",
       "    </tr>\n",
       "    <tr>\n",
       "      <th>5274</th>\n",
       "      <td>Erhvervslejekontrakt  Bilag 2  stueplan 129286...</td>\n",
       "      <td>5-592\\r\\n\\r\\nCarolineparken - leje af lokaler\\...</td>\n",
       "      <td>F:\\contract-skills-and-performance\\Download af...</td>\n",
       "      <td>5 592 carolineparken leje af lokaler storkøkke...</td>\n",
       "      <td>[5, 592, carolineparken, leje, af, lokaler, st...</td>\n",
       "      <td>[5, 592, carolinepark, leje, af, lokale, stork...</td>\n",
       "      <td>[]</td>\n",
       "      <td>5 592 Carolineparken leje af lokaler Storkøkke...</td>\n",
       "    </tr>\n",
       "    <tr>\n",
       "      <th>5275</th>\n",
       "      <td>Erhvervslejekontrakt  Bilag 3  kælderfacilitet...</td>\n",
       "      <td>5-592\\r\\n\\r\\nCarolineparken - leje af lokaler\\...</td>\n",
       "      <td>F:\\contract-skills-and-performance\\Download af...</td>\n",
       "      <td>5 592 carolineparken leje af lokaler storkøkke...</td>\n",
       "      <td>[5, 592, carolineparken, leje, af, lokaler, st...</td>\n",
       "      <td>[5, 592, carolinepark, leje, af, lokale, stork...</td>\n",
       "      <td>[]</td>\n",
       "      <td>5 592 Carolineparken leje af lokaler Storkøkke...</td>\n",
       "    </tr>\n",
       "  </tbody>\n",
       "</table>\n",
       "</div>"
      ],
      "text/plain": [
       "                                               filename  \\\n",
       "15                          Udbudsresume 3672982021 pdf   \n",
       "151                         Udbudsresume 3672982021 pdf   \n",
       "5273  Erhvervslejekontrakt  Bilag 1  plantegning ove...   \n",
       "5274  Erhvervslejekontrakt  Bilag 2  stueplan 129286...   \n",
       "5275  Erhvervslejekontrakt  Bilag 3  kælderfacilitet...   \n",
       "\n",
       "                                                   text  \\\n",
       "15    Danmark-København: Reparation, vedligeholdelse...   \n",
       "151   Danmark-København: Reparation, vedligeholdelse...   \n",
       "5273                                                  \n",
       "   \n",
       "5274  5-592\\r\\n\\r\\nCarolineparken - leje af lokaler\\...   \n",
       "5275  5-592\\r\\n\\r\\nCarolineparken - leje af lokaler\\...   \n",
       "\n",
       "                                                filedir  \\\n",
       "15    F:\\contract-skills-and-performance\\Download af...   \n",
       "151   F:\\contract-skills-and-performance\\Download af...   \n",
       "5273  F:\\contract-skills-and-performance\\Download af...   \n",
       "5274  F:\\contract-skills-and-performance\\Download af...   \n",
       "5275  F:\\contract-skills-and-performance\\Download af...   \n",
       "\n",
       "                                             clean_text  \\\n",
       "15    danmark københavn reparation vedligeholdelse o...   \n",
       "151   danmark københavn reparation vedligeholdelse o...   \n",
       "5273                                                  \n",
       "   \n",
       "5274  5 592 carolineparken leje af lokaler storkøkke...   \n",
       "5275  5 592 carolineparken leje af lokaler storkøkke...   \n",
       "\n",
       "                                                   word  \\\n",
       "15    [danmark, københavn, reparation, vedligeholdel...   \n",
       "151   [danmark, københavn, reparation, vedligeholdel...   \n",
       "5273                                                 []   \n",
       "5274  [5, 592, carolineparken, leje, af, lokaler, st...   \n",
       "5275  [5, 592, carolineparken, leje, af, lokaler, st...   \n",
       "\n",
       "                                                  lemmy  \\\n",
       "15    [danmark, københavn, reparation, vedligeholdel...   \n",
       "151   [danmark, københavn, reparation, vedligeholdel...   \n",
       "5273                                                 []   \n",
       "5274  [5, 592, carolinepark, leje, af, lokale, stork...   \n",
       "5275  [5, 592, carolinepark, leje, af, lokale, stork...   \n",
       "\n",
       "     virksomhedsoverdragelse_2022_filter  \\\n",
       "15                                    []   \n",
       "151                                   []   \n",
       "5273                                  []   \n",
       "5274                                  []   \n",
       "5275                                  []   \n",
       "\n",
       "                                             clean_stor  \n",
       "15    Danmark København Reparation vedligeholdelse o...  \n",
       "151   Danmark København Reparation vedligeholdelse o...  \n",
       "5273                                                  \n",
       "  \n",
       "5274  5 592 Carolineparken leje af lokaler Storkøkke...  \n",
       "5275  5 592 Carolineparken leje af lokaler Storkøkke...  "
      ]
     },
     "execution_count": 8,
     "metadata": {},
     "output_type": "execute_result"
    }
   ],
   "source": [
    "corpus.head()"
   ]
  },
  {
   "cell_type": "markdown",
   "id": "497bf218",
   "metadata": {},
   "source": [
    "## Define Safeguards "
   ]
  },
  {
   "cell_type": "markdown",
   "id": "60d570cc",
   "metadata": {},
   "source": [
    "Note that numeration is not the same as in the article."
   ]
  },
  {
   "cell_type": "code",
   "execution_count": 9,
   "id": "fcc4745b",
   "metadata": {},
   "outputs": [],
   "source": [
    "regel_2 = ['ansættelsespapir', 'ansættelsesbrev', 'arbejdsbrev', 'ansættelseskontrakter', 'ansættelsesbevis', 'ansættelsesbevislov'] "
   ]
  },
  {
   "cell_type": "code",
   "execution_count": 10,
   "id": "9c7f9492",
   "metadata": {},
   "outputs": [],
   "source": [
    "def Filter2(lemmy, regel_2):\n",
    "    return [n for n in lemmy if\n",
    "             any(m in n for m in regel_2)]"
   ]
  },
  {
   "cell_type": "code",
   "execution_count": 11,
   "id": "a505cefc",
   "metadata": {},
   "outputs": [],
   "source": [
    "corpus['tema_2'] = corpus.lemmy.apply(lambda x, y=regel_2 : Filter2(x, y))"
   ]
  },
  {
   "cell_type": "code",
   "execution_count": 17,
   "id": "add7a6be",
   "metadata": {},
   "outputs": [],
   "source": [
    "regel_3_1 = ['medarbejderrepræsentant', 'arbejdsmiljørepræsentant']  "
   ]
  },
  {
   "cell_type": "code",
   "execution_count": 13,
   "id": "fa3d5751",
   "metadata": {},
   "outputs": [],
   "source": [
    "regel_3_2 = [' AMR ', ' TRIO ']"
   ]
  },
  {
   "cell_type": "code",
   "execution_count": 19,
   "id": "b82b3ed6",
   "metadata": {},
   "outputs": [],
   "source": [
    "def Filter3_1(lemmy, regel_3_1):\n",
    "    return [n for n in lemmy if\n",
    "             any(m in n for m in regel_3_1)]"
   ]
  },
  {
   "cell_type": "code",
   "execution_count": 15,
   "id": "d5d46842",
   "metadata": {},
   "outputs": [],
   "source": [
    "def Filter3_2(clean_stor, regel_3_2):\n",
    "    regel_3_2 = ('|'.join(regel_3_2))\n",
    "    clean_stor = re.findall(regel_3_2, clean_stor)\n",
    "    return clean_stor"
   ]
  },
  {
   "cell_type": "code",
   "execution_count": 20,
   "id": "414d280e",
   "metadata": {},
   "outputs": [],
   "source": [
    "corpus['tema_3_1'] = corpus.lemmy.apply(lambda x, y=regel_3_1 : Filter3_1(x, y))"
   ]
  },
  {
   "cell_type": "code",
   "execution_count": 21,
   "id": "dea8b4a8",
   "metadata": {},
   "outputs": [],
   "source": [
    "corpus['tema_3_2'] = corpus.clean_stor.apply(lambda x, y=regel_3_2 : Filter3_2(x, y))"
   ]
  },
  {
   "cell_type": "code",
   "execution_count": 159,
   "id": "5088a692",
   "metadata": {},
   "outputs": [],
   "source": [
    "corpus['tema_3'] = corpus['tema_3_1'] + corpus['tema_3_2']"
   ]
  },
  {
   "cell_type": "code",
   "execution_count": 180,
   "id": "1776719d",
   "metadata": {},
   "outputs": [],
   "source": [
    "regel_4_1 = ['med udvalg', 'medudvalg', \"medudvalget\", 'med udvalget', 'rammeaftale om medindflydelse og medbestemmelse','direktiv 299214EF', 'direktiv 2992 14 EF']"
   ]
  },
  {
   "cell_type": "code",
   "execution_count": 181,
   "id": "c13cd2d1",
   "metadata": {},
   "outputs": [],
   "source": [
    "def Filter4_1(clean_text, regel_4_1):\n",
    "    regel_4_1 = ('|'.join(regel_4_1))\n",
    "    clean_text = re.findall(regel_4_1, clean_text)\n",
    "    return clean_text"
   ]
  },
  {
   "cell_type": "code",
   "execution_count": 25,
   "id": "90facff1",
   "metadata": {},
   "outputs": [],
   "source": [
    "regel_4_2 = ['medindflyd', 'medarbejderhåndbog']"
   ]
  },
  {
   "cell_type": "code",
   "execution_count": 26,
   "id": "1ed02683",
   "metadata": {},
   "outputs": [],
   "source": [
    "def Filter4_2(lemmy, regel_4_2):\n",
    "    return [n for n in lemmy if\n",
    "             any(m in n for m in regel_4_2)]"
   ]
  },
  {
   "cell_type": "code",
   "execution_count": 179,
   "id": "5338645e",
   "metadata": {},
   "outputs": [],
   "source": [
    "regel_4_3 = ['MED rammeaftale', 'MED rammeaftalen', 'MEDrammeaftale', 'MEDrammeaftalen']"
   ]
  },
  {
   "cell_type": "code",
   "execution_count": 183,
   "id": "371df5a7",
   "metadata": {},
   "outputs": [],
   "source": [
    "def Filter4_3(clean_stor, regel_4_3):\n",
    "    regel_4_3 = ('|'.join(regel_4_3))\n",
    "    clean_stor = re.findall(regel_4_3, clean_stor)\n",
    "    return clean_stor"
   ]
  },
  {
   "cell_type": "code",
   "execution_count": 182,
   "id": "4448d403",
   "metadata": {},
   "outputs": [],
   "source": [
    "corpus['tema_4_1'] = corpus.clean_text.apply(lambda x, y=regel_4_1 : Filter4_1(x, y))"
   ]
  },
  {
   "cell_type": "code",
   "execution_count": 28,
   "id": "4c1d730b",
   "metadata": {},
   "outputs": [],
   "source": [
    "corpus['tema_4_2'] = corpus.lemmy.apply(lambda x, y=regel_4_2 : Filter4_2(x, y))"
   ]
  },
  {
   "cell_type": "code",
   "execution_count": 184,
   "id": "6f52ebad",
   "metadata": {},
   "outputs": [],
   "source": [
    "corpus['tema_4_3'] = corpus.clean_stor.apply(lambda x, y=regel_4_3 : Filter4_3(x, y))"
   ]
  },
  {
   "cell_type": "code",
   "execution_count": 185,
   "id": "b02c4072",
   "metadata": {},
   "outputs": [],
   "source": [
    "corpus['tema_4'] = corpus['tema_4_1'] + corpus['tema_4_2'] + corpus['tema_4_3']"
   ]
  },
  {
   "cell_type": "code",
   "execution_count": 30,
   "id": "9eca1416",
   "metadata": {},
   "outputs": [],
   "source": [
    "regel_5 = ['arbejdsmiljøloven', 'arbejdstilsyn']"
   ]
  },
  {
   "cell_type": "code",
   "execution_count": 31,
   "id": "d6df129c",
   "metadata": {},
   "outputs": [],
   "source": [
    "def Filter5(lemmy, regel_5):\n",
    "    return [n for n in lemmy if\n",
    "             any(m in n for m in regel_5)]"
   ]
  },
  {
   "cell_type": "code",
   "execution_count": 32,
   "id": "065211d8",
   "metadata": {},
   "outputs": [],
   "source": [
    "corpus['tema_5'] = corpus.lemmy.apply(lambda x, y=regel_5 : Filter5(x, y))"
   ]
  },
  {
   "cell_type": "code",
   "execution_count": 33,
   "id": "720d166a",
   "metadata": {},
   "outputs": [],
   "source": [
    "regel_6 = ['løn og ansættelsesforhold', 'løn og ansættelsesforholdet', 'løn og arbejdsvilkår']"
   ]
  },
  {
   "cell_type": "code",
   "execution_count": 34,
   "id": "c96e8263",
   "metadata": {},
   "outputs": [],
   "source": [
    "def Filter6(clean_text, regel_6):\n",
    "    regel_6 = ('|'.join(regel_6))\n",
    "    clean_text = re.findall(regel_6, clean_text)\n",
    "    return clean_text"
   ]
  },
  {
   "cell_type": "code",
   "execution_count": 35,
   "id": "c1e98170",
   "metadata": {},
   "outputs": [],
   "source": [
    "corpus['tema_6'] = corpus.clean_text.apply(lambda x, y=regel_6 : Filter6(x, y))"
   ]
  },
  {
   "cell_type": "code",
   "execution_count": 37,
   "id": "3237333b",
   "metadata": {},
   "outputs": [],
   "source": [
    "regel_7_1 = ['ensidigt gentaget arbejde', 'tung løft']"
   ]
  },
  {
   "cell_type": "code",
   "execution_count": 41,
   "id": "79e68f4d",
   "metadata": {},
   "outputs": [],
   "source": [
    "def Filter7_1(clean_text, regel_7_1):\n",
    "    regel_7_1 = ('|'.join(regel_7_1))\n",
    "    clean_text = re.findall(regel_7_1, clean_text)\n",
    "    return clean_text"
   ]
  },
  {
   "cell_type": "code",
   "execution_count": 36,
   "id": "087b0170",
   "metadata": {},
   "outputs": [],
   "source": [
    "regel_7_2 = ['sygefravær', 'arbejdsulykke', 'arbejdstid', 'mobning', 'overbelastning', 'udbrænd', 'arbejdstempo', 'arbejdstakt']"
   ]
  },
  {
   "cell_type": "code",
   "execution_count": 41,
   "id": "fe6e7222",
   "metadata": {},
   "outputs": [],
   "source": [
    "def Filter7_2(lemmy, regel_7_2):\n",
    "    return [n for n in lemmy if\n",
    "             any(m in n for m in regel_7_2)]"
   ]
  },
  {
   "cell_type": "code",
   "execution_count": 38,
   "id": "cbb4c2ec",
   "metadata": {},
   "outputs": [],
   "source": [
    "regel_7_3 = [' EGA ']"
   ]
  },
  {
   "cell_type": "code",
   "execution_count": 40,
   "id": "ee791666",
   "metadata": {},
   "outputs": [],
   "source": [
    "def Filter7_3(clean_stor, regel_7_3):\n",
    "    regel_7_3 = ('|'.join(regel_7_3))\n",
    "    clean_stor = re.findall(regel_7_3, clean_stor)\n",
    "    return clean_stor"
   ]
  },
  {
   "cell_type": "code",
   "execution_count": 43,
   "id": "a1b86a75",
   "metadata": {},
   "outputs": [],
   "source": [
    "corpus['tema_7_1'] = corpus.clean_text.apply(lambda x, y=regel_7_1 : Filter7_1(x, y))"
   ]
  },
  {
   "cell_type": "code",
   "execution_count": 44,
   "id": "9c30d16d",
   "metadata": {},
   "outputs": [],
   "source": [
    "corpus['tema_7_2'] = corpus.lemmy.apply(lambda x, y=regel_7_2 : Filter7_2(x, y))"
   ]
  },
  {
   "cell_type": "code",
   "execution_count": 45,
   "id": "4c8f0046",
   "metadata": {},
   "outputs": [],
   "source": [
    "corpus['tema_7_3'] = corpus.clean_stor.apply(lambda x, y=regel_7_3 : Filter7_3(x, y))"
   ]
  },
  {
   "cell_type": "code",
   "execution_count": 46,
   "id": "8196f4d6",
   "metadata": {},
   "outputs": [],
   "source": [
    "corpus['tema_7'] = corpus['tema_7_1'] + corpus['tema_7_2'] + corpus['tema_7_3']"
   ]
  },
  {
   "cell_type": "code",
   "execution_count": 47,
   "id": "6dc74820",
   "metadata": {},
   "outputs": [],
   "source": [
    "regel_8_1 = ['kronesmiley', 'krone smiley', 'grøn smiley']"
   ]
  },
  {
   "cell_type": "code",
   "execution_count": 48,
   "id": "0e127953",
   "metadata": {},
   "outputs": [],
   "source": [
    "regel_8_2 = ['arbejdsmiljøledelse', 'miljøvejvis', 'arbejdsmiljøcertificering']"
   ]
  },
  {
   "cell_type": "code",
   "execution_count": 49,
   "id": "ea39f29d",
   "metadata": {},
   "outputs": [],
   "source": [
    "def Filter8_1(clean_text, regel_8_1):\n",
    "    regel_8_1 = ('|'.join(regel_8_1))\n",
    "    clean_text = re.findall(regel_8_1, clean_text)\n",
    "    return clean_text"
   ]
  },
  {
   "cell_type": "code",
   "execution_count": 50,
   "id": "b4d6a9d9",
   "metadata": {},
   "outputs": [],
   "source": [
    "def Filter8_2(lemmy, regel_8_2):\n",
    "    return [n for n in lemmy if\n",
    "             any(m in n for m in regel_8_2)]"
   ]
  },
  {
   "cell_type": "code",
   "execution_count": 51,
   "id": "ef88421c",
   "metadata": {},
   "outputs": [],
   "source": [
    "corpus['tema_8_1'] = corpus.clean_text.apply(lambda x, y=regel_8_1 : Filter8_1(x, y))"
   ]
  },
  {
   "cell_type": "code",
   "execution_count": 52,
   "id": "d1a56278",
   "metadata": {},
   "outputs": [],
   "source": [
    "corpus['tema_8_2'] = corpus.lemmy.apply(lambda x, y=regel_8_2 : Filter8_2(x, y))"
   ]
  },
  {
   "cell_type": "code",
   "execution_count": 53,
   "id": "980729b7",
   "metadata": {},
   "outputs": [],
   "source": [
    "corpus['tema_8'] = corpus['tema_8_1'] + corpus['tema_8_2']"
   ]
  },
  {
   "cell_type": "code",
   "execution_count": 54,
   "id": "d7049ae3",
   "metadata": {},
   "outputs": [],
   "source": [
    "regel_10_1 = ['social klausul', 'sociale klausuler', 'social ansvar', 'socialt ansvar', 'socialt medansvar', 'global compact', ' etik ', ' etisk ']"
   ]
  },
  {
   "cell_type": "code",
   "execution_count": 55,
   "id": "bd2e81ab",
   "metadata": {},
   "outputs": [],
   "source": [
    "regel_10_2 = ['ligestilling', 'diskrimination', 'samfundsansvar', 'etnisk', 'menneskerettighed' ]"
   ]
  },
  {
   "cell_type": "code",
   "execution_count": 56,
   "id": "502abb2b",
   "metadata": {},
   "outputs": [],
   "source": [
    "def Filter10_1(clean_text, regel_10_1):\n",
    "    regel_10_1 = ('|'.join(regel_10_1))\n",
    "    clean_text = re.findall(regel_10_1, clean_text)\n",
    "    return clean_text"
   ]
  },
  {
   "cell_type": "code",
   "execution_count": 57,
   "id": "2b0ecdda",
   "metadata": {},
   "outputs": [],
   "source": [
    "def Filter10_2(lemmy, regel_10_2):\n",
    "    return [n for n in lemmy if\n",
    "             any(m in n for m in regel_10_2)]"
   ]
  },
  {
   "cell_type": "code",
   "execution_count": 58,
   "id": "1a5196bd",
   "metadata": {},
   "outputs": [],
   "source": [
    "corpus['tema_10_1'] = corpus.clean_text.apply(lambda x, y=regel_10_1 : Filter10_1(x, y))"
   ]
  },
  {
   "cell_type": "code",
   "execution_count": 59,
   "id": "ba834a8e",
   "metadata": {},
   "outputs": [],
   "source": [
    "corpus['tema_10_2'] = corpus.lemmy.apply(lambda x, y=regel_10_2 : Filter10_2(x, y))"
   ]
  },
  {
   "cell_type": "code",
   "execution_count": 60,
   "id": "8891290e",
   "metadata": {},
   "outputs": [],
   "source": [
    "corpus['tema_10'] = corpus['tema_10_1'] + corpus['tema_10_2']"
   ]
  },
  {
   "cell_type": "code",
   "execution_count": 61,
   "id": "a29724fd",
   "metadata": {},
   "outputs": [],
   "source": [
    "regel_11 = ['fastholdelsespolitik', 'rekruttering']"
   ]
  },
  {
   "cell_type": "code",
   "execution_count": 62,
   "id": "dbfab35b",
   "metadata": {},
   "outputs": [],
   "source": [
    "def Filter11(lemmy, regel_11):\n",
    "    return [n for n in lemmy if\n",
    "             any(m in n for m in regel_11)]"
   ]
  },
  {
   "cell_type": "code",
   "execution_count": 63,
   "id": "63fdeeeb",
   "metadata": {},
   "outputs": [],
   "source": [
    "corpus['tema_11'] = corpus.lemmy.apply(lambda x, y=regel_11 : Filter11(x, y))"
   ]
  },
  {
   "cell_type": "code",
   "execution_count": 9,
   "id": "d9d02f90",
   "metadata": {},
   "outputs": [],
   "source": [
    "regel_12 = ['uddannelsesklausul', 'videreuddannelse', 'mentor', 'uddannelsespolitik', 'kompetenceudvikling', 'opkvalificer', 'efteruddannelse', 'uddannelseskrav', 'uddannelsesaftale']"
   ]
  },
  {
   "cell_type": "code",
   "execution_count": 10,
   "id": "a24379c2",
   "metadata": {},
   "outputs": [],
   "source": [
    "def Filter12(lemmy, regel_12):\n",
    "    return [n for n in lemmy if\n",
    "             any(m in n for m in regel_12)]"
   ]
  },
  {
   "cell_type": "code",
   "execution_count": 11,
   "id": "2322cac3",
   "metadata": {},
   "outputs": [],
   "source": [
    "corpus['tema_12'] = corpus.lemmy.apply(lambda x, y=regel_12 : Filter12(x, y))"
   ]
  },
  {
   "cell_type": "code",
   "execution_count": 67,
   "id": "861e98af",
   "metadata": {},
   "outputs": [],
   "source": [
    "regel_13_1 = [' MUS ']"
   ]
  },
  {
   "cell_type": "code",
   "execution_count": 68,
   "id": "fe006618",
   "metadata": {},
   "outputs": [],
   "source": [
    "regel_13_2 = ['medarbejderudviklingssamtal']"
   ]
  },
  {
   "cell_type": "code",
   "execution_count": 69,
   "id": "6573530d",
   "metadata": {},
   "outputs": [],
   "source": [
    "def Filter13_1(clean_stor, regel_13_1):\n",
    "    regel_13_1 = ('|'.join(regel_13_1))\n",
    "    clean_stor = re.findall(regel_13_1, clean_stor)\n",
    "    return clean_stor"
   ]
  },
  {
   "cell_type": "code",
   "execution_count": 70,
   "id": "e7d8a7a3",
   "metadata": {},
   "outputs": [],
   "source": [
    "def Filter13_2(lemmy, regel_13_2):\n",
    "    return [n for n in lemmy if\n",
    "             any(m in n for m in regel_13_2)]"
   ]
  },
  {
   "cell_type": "code",
   "execution_count": 71,
   "id": "6b9afa65",
   "metadata": {},
   "outputs": [],
   "source": [
    "corpus['tema_13_1'] = corpus.clean_stor.apply(lambda x, y=regel_13_1 : Filter13_1(x, y))"
   ]
  },
  {
   "cell_type": "code",
   "execution_count": 72,
   "id": "e5e72bd5",
   "metadata": {},
   "outputs": [],
   "source": [
    "corpus['tema_13_2'] = corpus.lemmy.apply(lambda x, y=regel_13_2 : Filter13_2(x, y))"
   ]
  },
  {
   "cell_type": "code",
   "execution_count": 73,
   "id": "006f7878",
   "metadata": {},
   "outputs": [],
   "source": [
    "corpus['tema_13'] = corpus['tema_13_1'] + corpus['tema_13_2']"
   ]
  },
  {
   "cell_type": "code",
   "execution_count": 74,
   "id": "cd7f5e71",
   "metadata": {},
   "outputs": [],
   "source": [
    "regel_15 = ['tvangsarbejde', 'ilokonvention nr 29', 'ilo konvention nr 29', 'ilokonvention nr 105', 'ilo konvention nr 105']"
   ]
  },
  {
   "cell_type": "code",
   "execution_count": 75,
   "id": "12820c47",
   "metadata": {},
   "outputs": [],
   "source": [
    "def Filter15(clean_text, regel_15):\n",
    "    regel_15 = ('|'.join(regel_15))\n",
    "    clean_text = re.findall(regel_15, clean_text)\n",
    "    return clean_text"
   ]
  },
  {
   "cell_type": "code",
   "execution_count": 76,
   "id": "a83d6108",
   "metadata": {},
   "outputs": [],
   "source": [
    "corpus['tema_15'] = corpus.clean_text.apply(lambda x, y=regel_15 : Filter15(x, y))"
   ]
  },
  {
   "cell_type": "code",
   "execution_count": 77,
   "id": "88e51d32",
   "metadata": {},
   "outputs": [],
   "source": [
    "regel_16 = ['kontrakthavers pligt til at sikre dennes ansattes vilkår', 'ilokonventionen nr 94', 'ilo konventionen nr 94']"
   ]
  },
  {
   "cell_type": "code",
   "execution_count": 78,
   "id": "15017ebe",
   "metadata": {},
   "outputs": [],
   "source": [
    "def Filter16(clean_text, regel_16):\n",
    "    regel_16 = ('|'.join(regel_16))\n",
    "    clean_text = re.findall(regel_16, clean_text)\n",
    "    return clean_text"
   ]
  },
  {
   "cell_type": "code",
   "execution_count": 79,
   "id": "3c646ad4",
   "metadata": {},
   "outputs": [],
   "source": [
    "corpus['tema_16'] = corpus.clean_text.apply(lambda x, y=regel_16 : Filter16(x, y))"
   ]
  },
  {
   "cell_type": "code",
   "execution_count": 80,
   "id": "be694f88",
   "metadata": {},
   "outputs": [],
   "source": [
    "regel_17 = ['ingen diskrimination i ansættelsen', 'ilokonvention nr 100', 'ilo konvention nr 100', 'ilokonvention nr 111', 'ilo konvention nr 111']"
   ]
  },
  {
   "cell_type": "code",
   "execution_count": 81,
   "id": "d87c578d",
   "metadata": {},
   "outputs": [],
   "source": [
    "def Filter17(clean_text, regel_17):\n",
    "    regel_17 = ('|'.join(regel_17))\n",
    "    clean_text = re.findall(regel_17, clean_text)\n",
    "    return clean_text"
   ]
  },
  {
   "cell_type": "code",
   "execution_count": 82,
   "id": "bb6c0dad",
   "metadata": {},
   "outputs": [],
   "source": [
    "corpus['tema_17'] = corpus.clean_text.apply(lambda x, y=regel_17 : Filter17(x, y))"
   ]
  },
  {
   "cell_type": "code",
   "execution_count": 83,
   "id": "4a8b47a4",
   "metadata": {},
   "outputs": [],
   "source": [
    "regel_18 = ['mindstealder for adgang til beskæftigelse samt forbud mod og omgående indsats til afskaffelse af de værste former for børnearbejde', 'ilokonvention nr 138', 'ilo konvention nr 138', 'ilokonvention nr 182', 'ilo konvention nr 182']"
   ]
  },
  {
   "cell_type": "code",
   "execution_count": 84,
   "id": "8c79f18d",
   "metadata": {},
   "outputs": [],
   "source": [
    "def Filter18(clean_text, regel_18):\n",
    "    regel_18 = ('|'.join(regel_18))\n",
    "    clean_text = re.findall(regel_18, clean_text)\n",
    "    return clean_text"
   ]
  },
  {
   "cell_type": "code",
   "execution_count": 85,
   "id": "54ea6cbb",
   "metadata": {},
   "outputs": [],
   "source": [
    "corpus['tema_18'] = corpus.clean_text.apply(lambda x, y=regel_18 : Filter18(x, y))"
   ]
  },
  {
   "cell_type": "code",
   "execution_count": 86,
   "id": "f9d7d8e6",
   "metadata": {},
   "outputs": [],
   "source": [
    "regel_19 = ['sikkert og sundt arbejdsmiljø', 'ilokonvention nr 155', 'ilo konvention nr 155']"
   ]
  },
  {
   "cell_type": "code",
   "execution_count": 87,
   "id": "a2af9fbe",
   "metadata": {},
   "outputs": [],
   "source": [
    "def Filter19(clean_text, regel_19):\n",
    "    regel_19 = ('|'.join(regel_19))\n",
    "    clean_text = re.findall(regel_19, clean_text)\n",
    "    return clean_text"
   ]
  },
  {
   "cell_type": "code",
   "execution_count": 88,
   "id": "4de98aeb",
   "metadata": {},
   "outputs": [],
   "source": [
    "corpus['tema_19'] = corpus.clean_text.apply(lambda x, y=regel_19 : Filter19(x, y))"
   ]
  },
  {
   "cell_type": "code",
   "execution_count": 89,
   "id": "ed96edde",
   "metadata": {},
   "outputs": [],
   "source": [
    "regel_20 = ['organisationsfrihed og ret til kollektive forhandlinger', 'ilokonvention nr 87', 'ilo konvention nr 87', 'ilokonvention nr 98', 'ilo konvention nr 98', 'ilokonvention nr 135', 'ilo konvention nr 135']"
   ]
  },
  {
   "cell_type": "code",
   "execution_count": 90,
   "id": "db922ce9",
   "metadata": {},
   "outputs": [],
   "source": [
    "def Filter20(clean_text, regel_20):\n",
    "    regel_20 = ('|'.join(regel_20))\n",
    "    clean_text = re.findall(regel_20, clean_text)\n",
    "    return clean_text"
   ]
  },
  {
   "cell_type": "code",
   "execution_count": 91,
   "id": "2f1a9293",
   "metadata": {},
   "outputs": [],
   "source": [
    "corpus['tema_20'] = corpus.clean_text.apply(lambda x, y=regel_20 : Filter20(x, y))"
   ]
  },
  {
   "cell_type": "code",
   "execution_count": 92,
   "id": "b60de4c2",
   "metadata": {},
   "outputs": [],
   "source": [
    "regel_22 = ['liste med medarbejdere', 'oversigt over medarbejde', 'medarbejderoversigt', 'medarbejderoversigter', 'medarbejderoversigten']"
   ]
  },
  {
   "cell_type": "code",
   "execution_count": 93,
   "id": "4e67a2ef",
   "metadata": {},
   "outputs": [],
   "source": [
    "def Filter22(clean_text, regel_22):\n",
    "    regel_22 = ('|'.join(regel_22))\n",
    "    clean_text = re.findall(regel_22, clean_text)\n",
    "    return clean_text"
   ]
  },
  {
   "cell_type": "code",
   "execution_count": 94,
   "id": "e5325518",
   "metadata": {},
   "outputs": [],
   "source": [
    "corpus['tema_22'] = corpus.clean_text.apply(lambda x, y=regel_22 : Filter22(x, y))"
   ]
  },
  {
   "cell_type": "code",
   "execution_count": 95,
   "id": "66871925",
   "metadata": {},
   "outputs": [],
   "source": [
    "regel_23_1 = ['forsikring af medarbejde', 'forsikring af ansatte', 'forsikring af person']"
   ]
  },
  {
   "cell_type": "code",
   "execution_count": 96,
   "id": "2b43f16c",
   "metadata": {},
   "outputs": [],
   "source": [
    "regel_23_2 = ['arbejdsskadeforsikring']"
   ]
  },
  {
   "cell_type": "code",
   "execution_count": 97,
   "id": "2a2eb079",
   "metadata": {},
   "outputs": [],
   "source": [
    "def Filter23_1(clean_text, regel_23_1):\n",
    "    regel_23_1 = ('|'.join(regel_23_1))\n",
    "    clean_text = re.findall(regel_23_1, clean_text)\n",
    "    return clean_text"
   ]
  },
  {
   "cell_type": "code",
   "execution_count": 98,
   "id": "7a3ebe82",
   "metadata": {},
   "outputs": [],
   "source": [
    "def Filter23_2(lemmy, regel_23_2):\n",
    "    return [n for n in lemmy if\n",
    "             any(m in n for m in regel_23_2)]"
   ]
  },
  {
   "cell_type": "code",
   "execution_count": 99,
   "id": "2d7e9c42",
   "metadata": {},
   "outputs": [],
   "source": [
    "corpus['tema_23_1'] = corpus.clean_text.apply(lambda x, y=regel_23_1 : Filter23_1(x, y))"
   ]
  },
  {
   "cell_type": "code",
   "execution_count": 100,
   "id": "be26cf2d",
   "metadata": {},
   "outputs": [],
   "source": [
    "corpus['tema_23_2'] = corpus.lemmy.apply(lambda x, y=regel_23_2 : Filter23_2(x, y))"
   ]
  },
  {
   "cell_type": "code",
   "execution_count": 101,
   "id": "3b368527",
   "metadata": {},
   "outputs": [],
   "source": [
    "corpus['tema_23'] = corpus['tema_23_1'] + corpus['tema_23_2']"
   ]
  },
  {
   "cell_type": "code",
   "execution_count": 187,
   "id": "f9777562",
   "metadata": {},
   "outputs": [],
   "source": [
    "regel_27_1 = ['3F', 'FOA', 'HK', 'OAO', ' FH ']"
   ]
  },
  {
   "cell_type": "code",
   "execution_count": 131,
   "id": "a2f6ca2b",
   "metadata": {},
   "outputs": [],
   "source": [
    "regel_27_2 = ['fagforening', 'fagforeningen', 'fagforeninger', 'dansk metal', 'ny udbudsmodel', 'treiét udbud', 'treiet udbud', 'tre i ét udbud', 'tre i et udbud', 'faglige organisation', 'faglige organisationer', 'faglig organisation', 'faglig organisatoner']"
   ]
  },
  {
   "cell_type": "code",
   "execution_count": 188,
   "id": "d75dfbb9",
   "metadata": {},
   "outputs": [],
   "source": [
    "def Filter27_1(clean_stor, regel_27_1):\n",
    "    regel_27_1 = ('|'.join(regel_27_1))\n",
    "    clean_stor = re.findall(regel_27_1, clean_stor)\n",
    "    return clean_stor"
   ]
  },
  {
   "cell_type": "code",
   "execution_count": 133,
   "id": "558993a8",
   "metadata": {},
   "outputs": [],
   "source": [
    "def Filter27_2(clean_text, regel_27_2):\n",
    "    regel_27_2 = ('|'.join(regel_27_2))\n",
    "    clean_text = re.findall(regel_27_2, clean_text)\n",
    "    return clean_text"
   ]
  },
  {
   "cell_type": "code",
   "execution_count": 189,
   "id": "e2c891b1",
   "metadata": {},
   "outputs": [],
   "source": [
    "corpus['tema_27_1'] = corpus.clean_stor.apply(lambda x, y=regel_27_1 : Filter27_1(x, y))"
   ]
  },
  {
   "cell_type": "code",
   "execution_count": 137,
   "id": "f3b8c5f9",
   "metadata": {},
   "outputs": [],
   "source": [
    "corpus['tema_27_2'] = corpus.clean_text.apply(lambda x, y=regel_27_2 : Filter27_2(x, y))"
   ]
  },
  {
   "cell_type": "code",
   "execution_count": 190,
   "id": "32b25c0d",
   "metadata": {},
   "outputs": [],
   "source": [
    "corpus['tema_27'] = corpus['tema_27_1'] + corpus['tema_27_2']"
   ]
  },
  {
   "cell_type": "code",
   "execution_count": 143,
   "id": "ed45d8c2",
   "metadata": {},
   "outputs": [],
   "source": [
    "regel_28_1 = [' RUT ']"
   ]
  },
  {
   "cell_type": "code",
   "execution_count": 139,
   "id": "a586b4bf",
   "metadata": {},
   "outputs": [],
   "source": [
    "regel_28_2 = ['kædeansvar']"
   ]
  },
  {
   "cell_type": "code",
   "execution_count": 140,
   "id": "849ab0e2",
   "metadata": {},
   "outputs": [],
   "source": [
    "def Filter28_1(clean_stor, regel_28_1):\n",
    "    regel_28_1 = ('|'.join(regel_28_1))\n",
    "    clean_stor = re.findall(regel_28_1, clean_stor)\n",
    "    return clean_stor"
   ]
  },
  {
   "cell_type": "code",
   "execution_count": 141,
   "id": "41e26b50",
   "metadata": {},
   "outputs": [],
   "source": [
    "def Filter28_2(lemmy, regel_28_2):\n",
    "    return [n for n in lemmy if\n",
    "             any(m in n for m in regel_28_2)]"
   ]
  },
  {
   "cell_type": "code",
   "execution_count": 144,
   "id": "494d172f",
   "metadata": {},
   "outputs": [],
   "source": [
    "corpus['tema_28_1'] = corpus.clean_stor.apply(lambda x, y=regel_28_1 : Filter28_1(x, y))"
   ]
  },
  {
   "cell_type": "code",
   "execution_count": 145,
   "id": "3fcc9e20",
   "metadata": {},
   "outputs": [],
   "source": [
    "corpus['tema_28_2'] = corpus.lemmy.apply(lambda x, y=regel_28_2 : Filter28_2(x, y))"
   ]
  },
  {
   "cell_type": "code",
   "execution_count": 146,
   "id": "41834da7",
   "metadata": {},
   "outputs": [],
   "source": [
    "corpus['tema_28'] = corpus['tema_28_1'] + corpus['tema_28_2']"
   ]
  },
  {
   "cell_type": "code",
   "execution_count": 147,
   "id": "861ce03f",
   "metadata": {},
   "outputs": [],
   "source": [
    "regel_29 = ['lønrefusion', 'medarbejdersrefusion', 'medarbejdsrefusion']"
   ]
  },
  {
   "cell_type": "code",
   "execution_count": 148,
   "id": "58ac0600",
   "metadata": {},
   "outputs": [],
   "source": [
    "def Filter29(lemmy, regel_29):\n",
    "    return [n for n in lemmy if\n",
    "             any(m in n for m in regel_29)]"
   ]
  },
  {
   "cell_type": "code",
   "execution_count": 149,
   "id": "494d172f",
   "metadata": {},
   "outputs": [],
   "source": [
    "corpus['tema_29'] = corpus.lemmy.apply(lambda x, y=regel_29 : Filter29(x, y))"
   ]
  },
  {
   "cell_type": "code",
   "execution_count": 150,
   "id": "be57e6a2",
   "metadata": {},
   "outputs": [],
   "source": [
    "regel_33_1 = ['rekrutteringspolitik', 'afskedigelsespolitik', 'udviklingspolitik', 'mobbepolitik', 'stresspolitik', 'seniorpolitik', 'personalepolitik']"
   ]
  },
  {
   "cell_type": "code",
   "execution_count": 151,
   "id": "05b05fea",
   "metadata": {},
   "outputs": [],
   "source": [
    "regel_33_2 = ['hr politik', 'hrpolitik']"
   ]
  },
  {
   "cell_type": "code",
   "execution_count": 152,
   "id": "71c670a1",
   "metadata": {},
   "outputs": [],
   "source": [
    "def Filter33_1(lemmy, regel_33_1):\n",
    "    return [n for n in lemmy if\n",
    "             any(m in n for m in regel_33_1)]"
   ]
  },
  {
   "cell_type": "code",
   "execution_count": 155,
   "id": "1ef61769",
   "metadata": {},
   "outputs": [],
   "source": [
    "def Filter33_2(clean_text, regel_33_2):\n",
    "    regel_33_2 = ('|'.join(regel_33_2))\n",
    "    clean_text = re.findall(regel_33_2, clean_text)\n",
    "    return clean_text"
   ]
  },
  {
   "cell_type": "code",
   "execution_count": 153,
   "id": "a8afae05",
   "metadata": {},
   "outputs": [],
   "source": [
    "corpus['tema_33_1'] = corpus.lemmy.apply(lambda x, y=regel_33_1 : Filter33_1(x, y))"
   ]
  },
  {
   "cell_type": "code",
   "execution_count": 156,
   "id": "2eba6a43",
   "metadata": {},
   "outputs": [],
   "source": [
    "corpus['tema_33_2'] = corpus.clean_text.apply(lambda x, y=regel_33_2 : Filter33_2(x, y))"
   ]
  },
  {
   "cell_type": "code",
   "execution_count": 158,
   "id": "ee90441f",
   "metadata": {},
   "outputs": [],
   "source": [
    "corpus['tema_33'] = corpus['tema_33_1'] + corpus['tema_33_2']"
   ]
  },
  {
   "cell_type": "code",
   "execution_count": 170,
   "id": "d0296ac9",
   "metadata": {},
   "outputs": [],
   "source": [
    "regel_35 = ['arbejdsklausul', 'arbejdsmiljøklausul']"
   ]
  },
  {
   "cell_type": "code",
   "execution_count": 172,
   "id": "7a6d0a96",
   "metadata": {},
   "outputs": [],
   "source": [
    "def Filter35(lemmy, regel_35):\n",
    "    return [n for n in lemmy if\n",
    "             any(m in n for m in regel_35)]"
   ]
  },
  {
   "cell_type": "code",
   "execution_count": 173,
   "id": "cd90ba1a",
   "metadata": {},
   "outputs": [],
   "source": [
    "corpus['tema_35'] = corpus.lemmy.apply(lambda x, y=regel_35 : Filter35(x, y))"
   ]
  },
  {
   "cell_type": "code",
   "execution_count": 5,
   "id": "008cb82a",
   "metadata": {},
   "outputs": [],
   "source": [
    "regel_36 = ['samarbejdsudvalg']"
   ]
  },
  {
   "cell_type": "code",
   "execution_count": 6,
   "id": "a3d9e82c",
   "metadata": {},
   "outputs": [],
   "source": [
    "def Filter36(lemmy, regel_36):\n",
    "    return [n for n in lemmy if\n",
    "             any(m in n for m in regel_36)]"
   ]
  },
  {
   "cell_type": "code",
   "execution_count": 7,
   "id": "70170832",
   "metadata": {},
   "outputs": [],
   "source": [
    "corpus['tema_36'] = corpus.lemmy.apply(lambda x, y=regel_36 : Filter36(x, y))"
   ]
  },
  {
   "cell_type": "markdown",
   "id": "689b1351",
   "metadata": {},
   "source": [
    "## Save and export"
   ]
  },
  {
   "cell_type": "code",
   "execution_count": 174,
   "id": "de83f07f",
   "metadata": {},
   "outputs": [],
   "source": [
    "corpus.to_pickle(\"virksomhedsoverdragelser_safeguards.pkl\")"
   ]
  },
  {
   "cell_type": "code",
   "execution_count": 175,
   "id": "66325424",
   "metadata": {},
   "outputs": [],
   "source": [
    "corpus.to_csv(\"virksomhedsoverdragelser_tema_version3.csv\", mode = 'w', columns=['filename', 'filedir', 'tema_2', 'tema_3', 'tema_4', 'tema_5', 'tema_6', 'tema_7', 'tema_8', 'tema_10', 'tema_11', 'tema_12', 'tema_13', 'tema_15', 'tema_16', 'tema_17', 'tema_18', 'tema_19', 'tema_20', 'tema_22', 'tema_23', 'tema_27', 'tema_28', 'tema_29', 'tema_33', 'tema_35', 'tema_36'], index=False)"
   ]
  }
 ],
 "metadata": {
  "kernelspec": {
   "display_name": "Python 3 (ipykernel)",
   "language": "python",
   "name": "python3"
  },
  "language_info": {
   "codemirror_mode": {
    "name": "ipython",
    "version": 3
   },
   "file_extension": ".py",
   "mimetype": "text/x-python",
   "name": "python",
   "nbconvert_exporter": "python",
   "pygments_lexer": "ipython3",
   "version": "3.8.8"
  }
 },
 "nbformat": 4,
 "nbformat_minor": 5
}
